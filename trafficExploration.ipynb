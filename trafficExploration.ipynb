{
 "cells": [
  {
   "cell_type": "code",
   "execution_count": 1,
   "metadata": {},
   "outputs": [],
   "source": [
    "# run this cell\n",
    "\n",
    "%matplotlib inline\n",
    "\n",
    "import numpy as np\n",
    "import matplotlib.pyplot as plt\n",
    "import scipy.stats as stats\n",
    "import pandas as pd\n",
    "import trafficFeaturing as tf\n",
    "\n",
    "from sklearn.linear_model import LinearRegression\n",
    "from sklearn.linear_model import LogisticRegression\n",
    "from sklearn.ensemble import RandomForestClassifier\n",
    "from sklearn.ensemble import RandomForestRegressor\n",
    "from sklearn.model_selection import KFold\n",
    "\n",
    "# Always make it pretty.\n",
    "plt.style.use('ggplot')\n"
   ]
  },
  {
   "cell_type": "code",
   "execution_count": null,
   "metadata": {},
   "outputs": [],
   "source": []
  },
  {
   "cell_type": "code",
   "execution_count": 2,
   "metadata": {},
   "outputs": [
    {
     "data": {
      "text/plain": [
       "(275383, 21)"
      ]
     },
     "execution_count": 2,
     "metadata": {},
     "output_type": "execute_result"
    }
   ],
   "source": [
    "#run this cell\n",
    "traffic = tf.clean_data(tf.load_data())\n",
    "traffic.shape"
   ]
  },
  {
   "cell_type": "code",
   "execution_count": null,
   "metadata": {},
   "outputs": [],
   "source": []
  },
  {
   "cell_type": "code",
   "execution_count": null,
   "metadata": {},
   "outputs": [],
   "source": [
    "traffic.iloc[:5,:20]\n"
   ]
  },
  {
   "cell_type": "code",
   "execution_count": null,
   "metadata": {},
   "outputs": [],
   "source": []
  },
  {
   "cell_type": "code",
   "execution_count": 3,
   "metadata": {},
   "outputs": [],
   "source": [
    "#run this cell\n",
    "traffic = tf.add_previous(traffic,traffic.columns[3:])\n",
    "\n",
    "\n"
   ]
  },
  {
   "cell_type": "code",
   "execution_count": 4,
   "metadata": {},
   "outputs": [
    {
     "data": {
      "text/plain": [
       "Index(['AADFYear', 'CP', 'Estimation_method', 'Estimation_method_detailed',\n",
       "       'RoadCategory', 'LinkLength_miles', 'PedalCycles', 'Motorcycles',\n",
       "       'CarsTaxis', 'BusesCoaches', 'LightGoodsVehicles', 'V2AxleRigidHGV',\n",
       "       'V3AxleRigidHGV', 'V4or5AxleRigidHGV', 'V3or4AxleArticHGV',\n",
       "       'V5AxleArticHGV', 'V6orMoreAxleArticHGV', 'AllHGVs', 'AllMotorVehicles',\n",
       "       'Lat', 'Lon', 'previous_Estimation_method_detailed',\n",
       "       'previous_RoadCategory', 'previous_LinkLength_miles',\n",
       "       'previous_PedalCycles', 'previous_Motorcycles', 'previous_CarsTaxis',\n",
       "       'previous_BusesCoaches', 'previous_LightGoodsVehicles',\n",
       "       'previous_V2AxleRigidHGV', 'previous_V3AxleRigidHGV',\n",
       "       'previous_V4or5AxleRigidHGV', 'previous_V3or4AxleArticHGV',\n",
       "       'previous_V5AxleArticHGV', 'previous_V6orMoreAxleArticHGV',\n",
       "       'previous_AllHGVs', 'previous_AllMotorVehicles', 'previous_Lat',\n",
       "       'previous_Lon'],\n",
       "      dtype='object')"
      ]
     },
     "execution_count": 4,
     "metadata": {},
     "output_type": "execute_result"
    }
   ],
   "source": [
    "traffic.columns"
   ]
  },
  {
   "cell_type": "code",
   "execution_count": 5,
   "metadata": {},
   "outputs": [
    {
     "data": {
      "text/plain": [
       "Index(['AADFYear', 'CP', 'Estimation_method', 'Estimation_method_detailed',\n",
       "       'RoadCategory', 'PedalCycles', 'Motorcycles', 'CarsTaxis',\n",
       "       'BusesCoaches', 'LightGoodsVehicles', 'V2AxleRigidHGV',\n",
       "       'V3AxleRigidHGV', 'V4or5AxleRigidHGV', 'V3or4AxleArticHGV',\n",
       "       'V5AxleArticHGV', 'V6orMoreAxleArticHGV', 'AllHGVs', 'AllMotorVehicles',\n",
       "       'Lat', 'Lon', 'previous_Estimation_method_detailed',\n",
       "       'previous_RoadCategory', 'previous_LinkLength_miles',\n",
       "       'previous_PedalCycles', 'previous_Motorcycles', 'previous_CarsTaxis',\n",
       "       'previous_BusesCoaches', 'previous_LightGoodsVehicles',\n",
       "       'previous_V2AxleRigidHGV', 'previous_V3AxleRigidHGV',\n",
       "       'previous_V4or5AxleRigidHGV', 'previous_V3or4AxleArticHGV',\n",
       "       'previous_V5AxleArticHGV', 'previous_V6orMoreAxleArticHGV',\n",
       "       'previous_AllHGVs', 'previous_AllMotorVehicles', 'previous_Lat',\n",
       "       'previous_Lon', 'LinkLength_miles'],\n",
       "      dtype='object')"
      ]
     },
     "execution_count": 5,
     "metadata": {},
     "output_type": "execute_result"
    }
   ],
   "source": [
    "cols = traffic.columns.tolist()\n",
    "cols = cols[:5] + cols[6:] + [cols[5]]\n",
    "traffic = traffic[cols]\n",
    "traffic.columns"
   ]
  },
  {
   "cell_type": "code",
   "execution_count": null,
   "metadata": {
    "scrolled": true
   },
   "outputs": [],
   "source": [
    "#traffic flow of zero had to be removed\n",
    "# traffic[traffic['CP'] == 80207]"
   ]
  },
  {
   "cell_type": "code",
   "execution_count": null,
   "metadata": {},
   "outputs": [],
   "source": [
    "traf_2000 = traffic[traffic['AADFYear'] > 2000]\n",
    "traf_2000_estimated = traf_2000[traf_2000['Estimation_method_detailed'] == \"Estimated using previous year's AADF on this link\"]\n",
    "\n",
    "growth_factors = (traf_2000_estimated['AllMotorVehicles'] - traf_2000_estimated['previous_AllMotorVehicles']) / traf_2000_estimated['AllMotorVehicles']\n",
    "\n",
    "print(np.min(growth_factors),np.max(growth_factors))"
   ]
  },
  {
   "cell_type": "code",
   "execution_count": null,
   "metadata": {
    "scrolled": true
   },
   "outputs": [],
   "source": [
    "traf_2000_estimated[growth_factors == 0.9874739039665971]"
   ]
  },
  {
   "cell_type": "code",
   "execution_count": null,
   "metadata": {},
   "outputs": [],
   "source": [
    "traf_2000_estimated[traf_2000_estimated['CP'] == 80212]"
   ]
  },
  {
   "cell_type": "code",
   "execution_count": null,
   "metadata": {},
   "outputs": [],
   "source": [
    "traf_2000_estimated[growth_factors == -1.8542015800813982]"
   ]
  },
  {
   "cell_type": "code",
   "execution_count": null,
   "metadata": {},
   "outputs": [],
   "source": [
    "traf_2000_estimated[traf_2000_estimated['CP'] == 50712]"
   ]
  },
  {
   "cell_type": "code",
   "execution_count": null,
   "metadata": {},
   "outputs": [],
   "source": [
    "traf_2000_estimated.head()"
   ]
  },
  {
   "cell_type": "code",
   "execution_count": null,
   "metadata": {},
   "outputs": [],
   "source": [
    "traf_2000_estimated[traf_2000_estimated['CP'] == 501]"
   ]
  },
  {
   "cell_type": "code",
   "execution_count": null,
   "metadata": {},
   "outputs": [],
   "source": [
    "truths = np.zeros(len(growth_factors))\n",
    "for i,g in enumerate(growth_factors):\n",
    "    if g >.05:\n",
    "        truths[i] = 1\n",
    "    elif g < -.05:\n",
    "        truths[i] = 1\n",
    "truths.sum()/len(truths)"
   ]
  },
  {
   "cell_type": "code",
   "execution_count": null,
   "metadata": {},
   "outputs": [],
   "source": [
    "traffic.head()"
   ]
  },
  {
   "cell_type": "code",
   "execution_count": null,
   "metadata": {},
   "outputs": [],
   "source": []
  },
  {
   "cell_type": "code",
   "execution_count": null,
   "metadata": {},
   "outputs": [],
   "source": [
    "y = traffic[['AADFYear','CP','Estimation_method', 'Estimation_method_detailed','AllMotorVehicles']]\n",
    "\n",
    "#subsets of data\n",
    "traffic_estimated = traffic[traffic['Estimation_method'] == 'Estimated']\n",
    "traffic_counted = traffic[traffic['Estimation_method'] == 'Counted']\n",
    "traffic_after2000 = traffic[traffic['AADFYear'] > 2000]\n",
    "y_estimated = traffic_estimated[['AADFYear','CP','Estimation_method', 'Estimation_method_detailed','AllMotorVehicles']]\n",
    "y_counted = traffic_counted[['AADFYear','CP','Estimation_method', 'Estimation_method_detailed','AllMotorVehicles']]\n",
    "y_after2000 = traffic_after2000[['AADFYear','CP','Estimation_method', 'Estimation_method_detailed','AllMotorVehicles']]\n",
    "\n",
    "cols_to_drop = ['Estimation_method', 'Estimation_method_detailed','PedalCycles', 'Motorcycles', 'CarsTaxis',\n",
    "       'BusesCoaches', 'LightGoodsVehicles', 'V2AxleRigidHGV',\n",
    "       'V3AxleRigidHGV', 'V4or5AxleRigidHGV', 'V3or4AxleArticHGV',\n",
    "       'V5AxleArticHGV', 'V6orMoreAxleArticHGV', 'AllHGVs', 'AllMotorVehicles']\n",
    "traffic = traffic.drop(cols_to_drop,axis=1)\n",
    "traffic_estimated = traffic_estimated.drop(cols_to_drop,axis=1)\n",
    "traffic_counted = traffic_counted.drop(cols_to_drop,axis=1)\n",
    "traffic_after2000 = traffic_after2000.drop(cols_to_drop,axis=1)"
   ]
  },
  {
   "cell_type": "code",
   "execution_count": 6,
   "metadata": {},
   "outputs": [],
   "source": [
    "#run this cell\n",
    "y = traffic[['AADFYear','CP','Estimation_method', 'Estimation_method_detailed','AllMotorVehicles']]\n",
    "categorical_columns = ['RoadCategory', 'previous_Estimation_method_detailed', 'previous_RoadCategory','AADFYear'] \n",
    "traffic = pd.get_dummies(traffic,columns=categorical_columns)\n",
    "\n",
    "traffic['AADFYear'] = y['AADFYear']\n",
    "cols = traffic.columns.tolist()\n",
    "cols = cols[-1:] + cols[:-1]\n",
    "traffic = traffic[cols]\n",
    "\n",
    "traffic_estimated = traffic[traffic['Estimation_method'] == 'Estimated']\n",
    "traffic_counted = traffic[traffic['Estimation_method'] == 'Counted']\n",
    "traffic_after2000 = traffic[traffic['AADFYear_2000'] == False]\n",
    "\n",
    "y_estimated = y[traffic['Estimation_method'] == 'Estimated']\n",
    "y_counted = y[traffic['Estimation_method'] == 'Counted']\n",
    "y_after2000 = y[traffic['AADFYear_2000'] == False]\n",
    "\n",
    "\n",
    "\n",
    "# y_estimated = traffic_estimated[['AADFYear','CP','Estimation_method', 'Estimation_method_detailed','AllMotorVehicles']]\n",
    "# y_counted = traffic_counted[['AADFYear','CP','Estimation_method', 'Estimation_method_detailed','AllMotorVehicles']]\n",
    "# y_after2000 = traffic_after2000[['AADFYear','CP','Estimation_method', 'Estimation_method_detailed','AllMotorVehicles']]\n"
   ]
  },
  {
   "cell_type": "code",
   "execution_count": 7,
   "metadata": {},
   "outputs": [
    {
     "data": {
      "text/plain": [
       "Index(['AADFYear', 'CP', 'Estimation_method', 'Estimation_method_detailed',\n",
       "       'PedalCycles', 'Motorcycles', 'CarsTaxis', 'BusesCoaches',\n",
       "       'LightGoodsVehicles', 'V2AxleRigidHGV', 'V3AxleRigidHGV',\n",
       "       'V4or5AxleRigidHGV', 'V3or4AxleArticHGV', 'V5AxleArticHGV',\n",
       "       'V6orMoreAxleArticHGV', 'AllHGVs', 'AllMotorVehicles', 'Lat', 'Lon',\n",
       "       'previous_LinkLength_miles', 'previous_PedalCycles',\n",
       "       'previous_Motorcycles', 'previous_CarsTaxis', 'previous_BusesCoaches',\n",
       "       'previous_LightGoodsVehicles', 'previous_V2AxleRigidHGV',\n",
       "       'previous_V3AxleRigidHGV', 'previous_V4or5AxleRigidHGV',\n",
       "       'previous_V3or4AxleArticHGV', 'previous_V5AxleArticHGV',\n",
       "       'previous_V6orMoreAxleArticHGV', 'previous_AllHGVs',\n",
       "       'previous_AllMotorVehicles', 'previous_Lat', 'previous_Lon',\n",
       "       'LinkLength_miles', 'RoadCategory_PM', 'RoadCategory_PR',\n",
       "       'RoadCategory_PU', 'RoadCategory_Pu', 'RoadCategory_TM',\n",
       "       'RoadCategory_TR', 'RoadCategory_TU', 'RoadCategory_Tu',\n",
       "       'previous_Estimation_method_detailed_Automatic counter',\n",
       "       'previous_Estimation_method_detailed_Dependent on a neighbouring counted link',\n",
       "       'previous_Estimation_method_detailed_Estimated from nearby links',\n",
       "       'previous_Estimation_method_detailed_Estimated using previous year's AADF on this link',\n",
       "       'previous_Estimation_method_detailed_Manual count',\n",
       "       'previous_RoadCategory_PM', 'previous_RoadCategory_PR',\n",
       "       'previous_RoadCategory_PU', 'previous_RoadCategory_Pu',\n",
       "       'previous_RoadCategory_TM', 'previous_RoadCategory_TR',\n",
       "       'previous_RoadCategory_TU', 'previous_RoadCategory_Tu', 'AADFYear_2000',\n",
       "       'AADFYear_2001', 'AADFYear_2002', 'AADFYear_2003', 'AADFYear_2004',\n",
       "       'AADFYear_2005', 'AADFYear_2006', 'AADFYear_2007', 'AADFYear_2008',\n",
       "       'AADFYear_2009', 'AADFYear_2010', 'AADFYear_2011', 'AADFYear_2012',\n",
       "       'AADFYear_2013', 'AADFYear_2014', 'AADFYear_2015', 'AADFYear_2016'],\n",
       "      dtype='object')"
      ]
     },
     "execution_count": 7,
     "metadata": {},
     "output_type": "execute_result"
    }
   ],
   "source": [
    "traffic.columns"
   ]
  },
  {
   "cell_type": "code",
   "execution_count": null,
   "metadata": {},
   "outputs": [],
   "source": [
    "cols"
   ]
  },
  {
   "cell_type": "code",
   "execution_count": null,
   "metadata": {},
   "outputs": [],
   "source": [
    "traffic.shape"
   ]
  },
  {
   "cell_type": "code",
   "execution_count": null,
   "metadata": {},
   "outputs": [],
   "source": [
    "traffic_estimated.shape"
   ]
  },
  {
   "cell_type": "code",
   "execution_count": null,
   "metadata": {},
   "outputs": [],
   "source": [
    "traffic_counted.shape"
   ]
  },
  {
   "cell_type": "code",
   "execution_count": null,
   "metadata": {},
   "outputs": [],
   "source": [
    "traffic_after2000.shape"
   ]
  },
  {
   "cell_type": "code",
   "execution_count": null,
   "metadata": {},
   "outputs": [],
   "source": [
    "\n",
    "categorical_columns = ['RoadCategory', 'previous_Estimation_method_detailed', 'previous_RoadCategory','AADFYear'] \n",
    "#, 'Road', 'previous Road' ,'StartJunction', 'EndJunction', 'previous StartJunction','previous EndJunction'"
   ]
  },
  {
   "cell_type": "code",
   "execution_count": null,
   "metadata": {},
   "outputs": [],
   "source": [
    "#definitely DO NOT run this cell\n",
    "traffic = pd.get_dummies(traffic,columns=categorical_columns)\n",
    "traffic_estimated = pd.get_dummies(traffic_estimated,columns=categorical_columns)\n",
    "traffic_counted = pd.get_dummies(traffic_counted,columns=categorical_columns)\n",
    "traffic_after2000 = pd.get_dummies(traffic_after2000,columns=categorical_columns)\n",
    "traffic_counted['RoadCategory_Tu'] = False\n",
    "traffic_counted['previous_RoadCategory_Tu'] = False\n",
    "\n",
    "# feat_engineering.head()"
   ]
  },
  {
   "cell_type": "code",
   "execution_count": null,
   "metadata": {},
   "outputs": [],
   "source": [
    "growth_factors"
   ]
  },
  {
   "cell_type": "code",
   "execution_count": null,
   "metadata": {},
   "outputs": [],
   "source": [
    "traffic_counted.columns"
   ]
  },
  {
   "cell_type": "code",
   "execution_count": null,
   "metadata": {},
   "outputs": [],
   "source": [
    "cols = traffic.columns\n",
    "cols"
   ]
  },
  {
   "cell_type": "code",
   "execution_count": null,
   "metadata": {},
   "outputs": [],
   "source": [
    "traffic.columns == traffic_counted.columns"
   ]
  },
  {
   "cell_type": "code",
   "execution_count": 10,
   "metadata": {},
   "outputs": [
    {
     "data": {
      "text/plain": [
       "Index(['Lat', 'Lon', 'previous_LinkLength_miles', 'previous_PedalCycles',\n",
       "       'previous_Motorcycles', 'previous_CarsTaxis', 'previous_BusesCoaches',\n",
       "       'previous_LightGoodsVehicles', 'previous_V2AxleRigidHGV',\n",
       "       'previous_V3AxleRigidHGV', 'previous_V4or5AxleRigidHGV',\n",
       "       'previous_V3or4AxleArticHGV', 'previous_V5AxleArticHGV',\n",
       "       'previous_V6orMoreAxleArticHGV', 'previous_AllHGVs',\n",
       "       'previous_AllMotorVehicles', 'previous_Lat', 'previous_Lon',\n",
       "       'LinkLength_miles', 'RoadCategory_PM', 'RoadCategory_PR',\n",
       "       'RoadCategory_PU', 'RoadCategory_Pu', 'RoadCategory_TM',\n",
       "       'RoadCategory_TR', 'RoadCategory_TU', 'RoadCategory_Tu',\n",
       "       'previous_Estimation_method_detailed_Automatic counter',\n",
       "       'previous_Estimation_method_detailed_Dependent on a neighbouring counted link',\n",
       "       'previous_Estimation_method_detailed_Estimated from nearby links',\n",
       "       'previous_Estimation_method_detailed_Estimated using previous year's AADF on this link',\n",
       "       'previous_Estimation_method_detailed_Manual count',\n",
       "       'previous_RoadCategory_PM', 'previous_RoadCategory_PR',\n",
       "       'previous_RoadCategory_PU', 'previous_RoadCategory_Pu',\n",
       "       'previous_RoadCategory_TM', 'previous_RoadCategory_TR',\n",
       "       'previous_RoadCategory_TU', 'previous_RoadCategory_Tu', 'AADFYear_2000',\n",
       "       'AADFYear_2001', 'AADFYear_2002', 'AADFYear_2003', 'AADFYear_2004',\n",
       "       'AADFYear_2005', 'AADFYear_2006', 'AADFYear_2007', 'AADFYear_2008',\n",
       "       'AADFYear_2009', 'AADFYear_2010', 'AADFYear_2011', 'AADFYear_2012',\n",
       "       'AADFYear_2013', 'AADFYear_2014', 'AADFYear_2015', 'AADFYear_2016'],\n",
       "      dtype='object')"
      ]
     },
     "execution_count": 10,
     "metadata": {},
     "output_type": "execute_result"
    }
   ],
   "source": [
    "traffic.columns[17:]"
   ]
  },
  {
   "cell_type": "code",
   "execution_count": null,
   "metadata": {},
   "outputs": [],
   "source": [
    "traffic.head()"
   ]
  },
  {
   "cell_type": "code",
   "execution_count": null,
   "metadata": {},
   "outputs": [],
   "source": []
  },
  {
   "cell_type": "code",
   "execution_count": 22,
   "metadata": {},
   "outputs": [
    {
     "name": "stdout",
     "output_type": "stream",
     "text": [
      "275383 275383 275383\n"
     ]
    }
   ],
   "source": [
    "train, test = tf.train_test_splitter(traffic,2016)\n",
    "\n",
    "print(len(train), len(test), np.sum(test) + np.sum(train))"
   ]
  },
  {
   "cell_type": "code",
   "execution_count": 11,
   "metadata": {},
   "outputs": [],
   "source": [
    "#run this cell\n",
    "X = traffic.values[:,17:]\n",
    "X_estimated = traffic_estimated.values[:,17:]\n",
    "X_counted = traffic_counted.values[:,17:]\n",
    "X_after2000 = traffic_after2000.values[:,17:]\n",
    "\n",
    "y_estimated_flow = y_estimated.values[:,4]\n",
    "y_counted_flow = y_counted.values[:,4]"
   ]
  },
  {
   "cell_type": "code",
   "execution_count": null,
   "metadata": {},
   "outputs": [],
   "source": [
    "X[0]"
   ]
  },
  {
   "cell_type": "code",
   "execution_count": null,
   "metadata": {},
   "outputs": [],
   "source": [
    "y['Estimation_method_detailed'].value_counts()"
   ]
  },
  {
   "cell_type": "code",
   "execution_count": null,
   "metadata": {},
   "outputs": [],
   "source": [
    "estimated_rows = (y['Estimation_method_detailed'] == 'Manual count') | (y['Estimation_method_detailed'] == 'Automatic counter')"
   ]
  },
  {
   "cell_type": "code",
   "execution_count": null,
   "metadata": {},
   "outputs": [],
   "source": [
    "X.shape"
   ]
  },
  {
   "cell_type": "code",
   "execution_count": null,
   "metadata": {},
   "outputs": [],
   "source": [
    "X_counted.shape"
   ]
  },
  {
   "cell_type": "code",
   "execution_count": null,
   "metadata": {},
   "outputs": [],
   "source": []
  },
  {
   "cell_type": "code",
   "execution_count": null,
   "metadata": {},
   "outputs": [],
   "source": [
    "logregress = LogisticRegression()"
   ]
  },
  {
   "cell_type": "code",
   "execution_count": null,
   "metadata": {},
   "outputs": [],
   "source": []
  },
  {
   "cell_type": "code",
   "execution_count": null,
   "metadata": {},
   "outputs": [],
   "source": [
    "traffic_estimated.head()"
   ]
  },
  {
   "cell_type": "code",
   "execution_count": null,
   "metadata": {},
   "outputs": [],
   "source": []
  },
  {
   "cell_type": "code",
   "execution_count": null,
   "metadata": {},
   "outputs": [],
   "source": [
    "275000/16"
   ]
  },
  {
   "cell_type": "code",
   "execution_count": null,
   "metadata": {},
   "outputs": [],
   "source": []
  },
  {
   "cell_type": "code",
   "execution_count": null,
   "metadata": {},
   "outputs": [],
   "source": []
  },
  {
   "cell_type": "code",
   "execution_count": null,
   "metadata": {},
   "outputs": [],
   "source": [
    "linregress = LinearRegression()"
   ]
  },
  {
   "cell_type": "code",
   "execution_count": null,
   "metadata": {},
   "outputs": [],
   "source": [
    "linregress.fit(X,y['AllMotorVehicles'])\n",
    "linregress.score(X,y['AllMotorVehicles'])"
   ]
  },
  {
   "cell_type": "code",
   "execution_count": null,
   "metadata": {},
   "outputs": [],
   "source": []
  },
  {
   "cell_type": "code",
   "execution_count": 12,
   "metadata": {},
   "outputs": [],
   "source": [
    "#run this cell\n",
    "forest2 = RandomForestRegressor()"
   ]
  },
  {
   "cell_type": "code",
   "execution_count": null,
   "metadata": {},
   "outputs": [],
   "source": [
    "forest = RandomForestClassifier()"
   ]
  },
  {
   "cell_type": "code",
   "execution_count": null,
   "metadata": {},
   "outputs": [],
   "source": [
    "X_estimated"
   ]
  },
  {
   "cell_type": "code",
   "execution_count": 13,
   "metadata": {},
   "outputs": [
    {
     "name": "stderr",
     "output_type": "stream",
     "text": [
      "/anaconda3/lib/python3.7/site-packages/sklearn/ensemble/forest.py:245: FutureWarning: The default value of n_estimators will change from 10 in version 0.20 to 100 in 0.22.\n",
      "  \"10 in version 0.20 to 100 in 0.22.\", FutureWarning)\n"
     ]
    },
    {
     "data": {
      "text/plain": [
       "0.9993012639914326"
      ]
     },
     "execution_count": 13,
     "metadata": {},
     "output_type": "execute_result"
    }
   ],
   "source": [
    "#run this cell\n",
    "forest2.fit(X_estimated,y_estimated_flow)\n",
    "forest2.score(X_estimated,y_estimated_flow)"
   ]
  },
  {
   "cell_type": "code",
   "execution_count": 14,
   "metadata": {},
   "outputs": [],
   "source": [
    "#run this cell\n",
    "kf = KFold(n_splits = 5,shuffle=True)"
   ]
  },
  {
   "cell_type": "code",
   "execution_count": null,
   "metadata": {},
   "outputs": [],
   "source": [
    "\n",
    "\n",
    "list(kf.split(X_estimated,y_estimated_flow))"
   ]
  },
  {
   "cell_type": "code",
   "execution_count": 15,
   "metadata": {},
   "outputs": [
    {
     "name": "stdout",
     "output_type": "stream",
     "text": [
      "0.9966826863043095\n",
      "0.9955542334323297\n",
      "0.9959587294652744\n",
      "0.9954094018718506\n",
      "0.9964698748518505\n"
     ]
    },
    {
     "data": {
      "image/png": "[encoded data removed]",
      "text/plain": [
       "<Figure size 432x288 with 5 Axes>"
      ]
     },
     "metadata": {
      "needs_background": "light"
     },
     "output_type": "display_data"
    }
   ],
   "source": [
    "#run this cell\n",
    "fig, axs = plt.subplots(5)\n",
    "\n",
    "for i, (train, test) in enumerate(kf.split(X_estimated)):\n",
    "    forest2.fit(X_estimated[train],y_estimated_flow[train])\n",
    "    print(forest2.score(X_estimated[test],y_estimated_flow[test]))\n",
    "    axs[i].plot(forest2.predict(X_estimated[test]),y_estimated_flow[test],\".\")"
   ]
  },
  {
   "cell_type": "code",
   "execution_count": null,
   "metadata": {},
   "outputs": [],
   "source": []
  },
  {
   "cell_type": "code",
   "execution_count": null,
   "metadata": {},
   "outputs": [],
   "source": [
    "traffic.columns\n"
   ]
  },
  {
   "cell_type": "code",
   "execution_count": 16,
   "metadata": {},
   "outputs": [
    {
     "data": {
      "text/plain": [
       "0.9962747294103097"
      ]
     },
     "execution_count": 16,
     "metadata": {},
     "output_type": "execute_result"
    }
   ],
   "source": [
    "#run this cell\n",
    "forest2.fit(X_counted, y_counted_flow)\n",
    "forest2.score(X_counted, y_counted_flow)"
   ]
  },
  {
   "cell_type": "code",
   "execution_count": 18,
   "metadata": {},
   "outputs": [
    {
     "data": {
      "text/plain": [
       "0.9748200927003501"
      ]
     },
     "execution_count": 18,
     "metadata": {},
     "output_type": "execute_result"
    }
   ],
   "source": [
    "#run this cell\n",
    "forest2.fit(X_estimated,y_estimated_flow)\n",
    "forest2.score(X_counted,y_counted_flow)"
   ]
  },
  {
   "cell_type": "code",
   "execution_count": 17,
   "metadata": {},
   "outputs": [
    {
     "name": "stdout",
     "output_type": "stream",
     "text": [
      "0.9792335593718816\n",
      "0.9770179452281456\n",
      "0.978759939021496\n",
      "0.9783991322873118\n",
      "0.9766108084324243\n"
     ]
    },
    {
     "data": {
      "image/png": "[encoded data removed]",
      "text/plain": [
       "<Figure size 432x288 with 5 Axes>"
      ]
     },
     "metadata": {
      "needs_background": "light"
     },
     "output_type": "display_data"
    }
   ],
   "source": [
    "#run this cell\n",
    "fig, axs = plt.subplots(5)\n",
    "\n",
    "for i, (train, test) in enumerate(kf.split(X_counted)):\n",
    "    forest2.fit(X_counted[train],y_counted_flow[train])\n",
    "    print(forest2.score(X_counted[test],y_counted_flow[test]))\n",
    "    axs[i].plot(forest2.predict(X_counted[test]),y_counted_flow[test],\".\")"
   ]
  },
  {
   "cell_type": "code",
   "execution_count": null,
   "metadata": {},
   "outputs": [],
   "source": []
  },
  {
   "cell_type": "code",
   "execution_count": null,
   "metadata": {},
   "outputs": [],
   "source": []
  },
  {
   "cell_type": "code",
   "execution_count": null,
   "metadata": {},
   "outputs": [],
   "source": []
  }
 ],
 "metadata": {
  "kernelspec": {
   "display_name": "Python 3",
   "language": "python",
   "name": "python3"
  },
  "language_info": {
   "codemirror_mode": {
    "name": "ipython",
    "version": 3
   },
   "file_extension": ".py",
   "mimetype": "text/x-python",
   "name": "python",
   "nbconvert_exporter": "python",
   "pygments_lexer": "ipython3",
   "version": "3.7.1"
  }
 },
 "nbformat": 4,
 "nbformat_minor": 2
}
