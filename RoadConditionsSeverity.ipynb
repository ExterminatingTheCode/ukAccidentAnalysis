{
 "cells": [
  {
   "cell_type": "code",
   "execution_count": 38,
   "metadata": {},
   "outputs": [],
   "source": [
    "%matplotlib inline\n",
    "\n",
    "import numpy as np\n",
    "import matplotlib.pyplot as plt\n",
    "import scipy.stats as stats\n",
    "import pandas as pd\n",
    "\n",
    "# Always make it pretty.\n",
    "plt.style.use('ggplot')"
   ]
  },
  {
   "cell_type": "code",
   "execution_count": 43,
   "metadata": {},
   "outputs": [],
   "source": [
    "df1 = pd.read_csv(\"data/accidents_2005_to_2007.csv\")\n",
    "df2 = pd.read_csv(\"data/accidents_2009_to_2011.csv\")\n",
    "df3 = pd.read_csv(\"data/accidents_2012_to_2014.csv\")\n",
    "traffic = pd.read_csv(\"data/ukTrafficAADF.csv\")\n",
    "\n",
    "df12 = pd.concat([df1,df2])\n",
    "df = pd.concat([df12,df3])\n",
    "\n",
    "df = df.drop_duplicates(subset=['Accident_Index','Date','LSOA_of_Accident_Location','Time','Longitude','Latitude'], keep='first')\n",
    "\n",
    "df = df[df.Speed_limit !=15]\n",
    "# df = df[(df.Weather_Conditions == 'Fine without high winds') | (df.Weather_Conditions =='Raining without high winds')]\n",
    "df = df[(df.Road_Surface_Conditions != 'Flood (Over 3cm of water)') & (df.Road_Surface_Conditions !='Snow')]"
   ]
  },
  {
   "cell_type": "code",
   "execution_count": 44,
   "metadata": {},
   "outputs": [],
   "source": [
    "del df['Police_Force']\n",
    "del df['Local_Authority_(Highway)']\n",
    "del df['Local_Authority_(District)']\n",
    "del df['Pedestrian_Crossing-Human_Control']\n",
    "del df['Pedestrian_Crossing-Physical_Facilities']\n",
    "del df['Did_Police_Officer_Attend_Scene_of_Accident']"
   ]
  },
  {
   "cell_type": "code",
   "execution_count": 45,
   "metadata": {},
   "outputs": [
    {
     "data": {
      "text/plain": [
       "array([0.01298486, 0.13558424, 0.8514309 ])"
      ]
     },
     "execution_count": 45,
     "metadata": {},
     "output_type": "execute_result"
    }
   ],
   "source": [
    "severity_totals = df.groupby('Accident_Severity').size().values\n",
    "#total is 1,469,963 number of accidents 1469963\n",
    "severity_mus = severity_totals / severity_totals.sum()\n",
    "severity_mus"
   ]
  },
  {
   "cell_type": "code",
   "execution_count": 61,
   "metadata": {},
   "outputs": [
    {
     "data": {
      "text/plain": [
       "array([[ 12751, 139816, 858929],\n",
       "       [   317,   3523,  26809],\n",
       "       [  5846,  54081, 353527]])"
      ]
     },
     "execution_count": 61,
     "metadata": {},
     "output_type": "execute_result"
    }
   ],
   "source": [
    "#actuals number of accidents of severity 0,1,2, (columns) and Weather conditions sunny (0) and rainy (1) rows\n",
    "# actuals_severity_roadsc = df.groupby(['Accident_Severity','Road_Surface_Conditions']).count()['Accident_Index']\n",
    "\n",
    "actuals_severity_roadsc = np.transpose(np.reshape(df.groupby(['Accident_Severity','Road_Surface_Conditions']).count()['Accident_Index'].values,(3,3)))\n",
    "actuals_severity_roadsc"
   ]
  },
  {
   "cell_type": "code",
   "execution_count": 62,
   "metadata": {},
   "outputs": [
    {
     "data": {
      "text/plain": [
       "array([0.01299396, 0.13562801, 0.85137802])"
      ]
     },
     "execution_count": 62,
     "metadata": {},
     "output_type": "execute_result"
    }
   ],
   "source": [
    "sums2 = df.groupby(['Accident_Severity','Road_Surface_Conditions']).count().groupby('Accident_Severity').sum()['Accident_Index']\n",
    "severity_sums = df.groupby(['Accident_Severity','Road_Surface_Conditions']).count().groupby('Accident_Severity').sum()['Accident_Index'].values\n",
    "severity_mus = severity_sums/severity_sums.sum()\n",
    "severity_mus"
   ]
  },
  {
   "cell_type": "code",
   "execution_count": 63,
   "metadata": {},
   "outputs": [
    {
     "data": {
      "text/plain": [
       "array([1011496,   30649,  413454])"
      ]
     },
     "execution_count": 63,
     "metadata": {},
     "output_type": "execute_result"
    }
   ],
   "source": [
    "sums = df.groupby(['Road_Surface_Conditions']).count()['Accident_Index']\n",
    "roadsc_sums = df.groupby(['Road_Surface_Conditions']).count()['Accident_Index'].values\n",
    "roadsc_sums"
   ]
  },
  {
   "cell_type": "code",
   "execution_count": 64,
   "metadata": {},
   "outputs": [
    {
     "data": {
      "text/plain": [
       "array([[1.31433419e+04, 1.37187193e+05, 8.61165466e+05],\n",
       "       [3.98251981e+02, 4.15686297e+03, 2.60938851e+04],\n",
       "       [5.37240611e+03, 5.60759445e+04, 3.52005649e+05]])"
      ]
     },
     "execution_count": 64,
     "metadata": {},
     "output_type": "execute_result"
    }
   ],
   "source": [
    "expected_by_roadsc = np.zeros((3,3))\n",
    "for i in np.arange(3):\n",
    "    for j in np.arange(3):\n",
    "        expected_by_roadsc[i][j] = roadsc_sums[i] * severity_mus[j]\n",
    "expected_by_roadsc"
   ]
  },
  {
   "cell_type": "code",
   "execution_count": 65,
   "metadata": {},
   "outputs": [
    {
     "data": {
      "text/plain": [
       "array([1011495,   30649,  413454])"
      ]
     },
     "execution_count": 65,
     "metadata": {},
     "output_type": "execute_result"
    }
   ],
   "source": [
    "expected_by_roadsc = expected_by_roadsc.round().astype(int)\n",
    "expected_by_roadsc\n",
    "expected_by_roadsc.sum(axis=1)"
   ]
  },
  {
   "cell_type": "code",
   "execution_count": 66,
   "metadata": {},
   "outputs": [
    {
     "data": {
      "text/plain": [
       "array([1.82116488e-15, 1.47666523e-29, 0.00000000e+00])"
      ]
     },
     "execution_count": 66,
     "metadata": {},
     "output_type": "execute_result"
    }
   ],
   "source": [
    "pvalues = np.zeros(3)\n",
    "\n",
    "# stats.chisquare(actuals_severity_slimits[0],expected_by_slimit[0])[1]\n",
    "\n",
    "for i in np.arange(2):\n",
    "    pvalues[i] = stats.chisquare(actuals_severity_roadsc[i],expected_by_roadsc[i])[1]\n",
    "\n",
    "pvalues"
   ]
  },
  {
   "cell_type": "code",
   "execution_count": null,
   "metadata": {},
   "outputs": [],
   "source": []
  },
  {
   "cell_type": "code",
   "execution_count": null,
   "metadata": {},
   "outputs": [],
   "source": []
  }
 ],
 "metadata": {
  "kernelspec": {
   "display_name": "Python 3",
   "language": "python",
   "name": "python3"
  },
  "language_info": {
   "codemirror_mode": {
    "name": "ipython",
    "version": 3
   },
   "file_extension": ".py",
   "mimetype": "text/x-python",
   "name": "python",
   "nbconvert_exporter": "python",
   "pygments_lexer": "ipython3",
   "version": "3.7.1"
  }
 },
 "nbformat": 4,
 "nbformat_minor": 2
}
