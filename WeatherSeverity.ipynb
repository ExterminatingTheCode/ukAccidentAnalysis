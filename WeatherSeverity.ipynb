{
 "cells": [
  {
   "cell_type": "code",
   "execution_count": 1,
   "metadata": {},
   "outputs": [],
   "source": [
    "%matplotlib inline\n",
    "\n",
    "import numpy as np\n",
    "import matplotlib.pyplot as plt\n",
    "import scipy.stats as stats\n",
    "import pandas as pd\n",
    "import functions as f\n",
    "\n",
    "# Always make it pretty.\n",
    "plt.style.use('ggplot')"
   ]
  },
  {
   "cell_type": "code",
   "execution_count": 2,
   "metadata": {},
   "outputs": [
    {
     "name": "stderr",
     "output_type": "stream",
     "text": [
      "/anaconda3/lib/python3.7/site-packages/IPython/core/interactiveshell.py:3185: DtypeWarning: Columns (31) have mixed types. Specify dtype option on import or set low_memory=False.\n",
      "  if (yield from self.run_code(code, result)):\n"
     ]
    }
   ],
   "source": [
    "df = f.load_and_clean_accident_data()\n",
    "df = df[(df.Weather_Conditions == 'Fine without high winds') | (df.Weather_Conditions =='Raining without high winds')]"
   ]
  },
  {
   "cell_type": "code",
   "execution_count": null,
   "metadata": {},
   "outputs": [],
   "source": []
  },
  {
   "cell_type": "code",
   "execution_count": 3,
   "metadata": {},
   "outputs": [
    {
     "data": {
      "text/plain": [
       "array([0.01306099, 0.13703189, 0.84990712])"
      ]
     },
     "execution_count": 3,
     "metadata": {},
     "output_type": "execute_result"
    }
   ],
   "source": [
    "severity_mus = f.find_severity_mus(df)\n",
    "severity_mus"
   ]
  },
  {
   "cell_type": "code",
   "execution_count": 4,
   "metadata": {},
   "outputs": [
    {
     "data": {
      "text/plain": [
       "array([[ 15811, 164200, 996640],\n",
       "       [  1816,  20737, 150387]])"
      ]
     },
     "execution_count": 4,
     "metadata": {},
     "output_type": "execute_result"
    }
   ],
   "source": [
    "#actuals number of accidents of severity 0,1,2, (columns) and Weather conditions sunny (0) and rainy (1) rows\n",
    "# actuals_severity_weather = df.groupby(['Accident_Severity','Weather_Conditions']).count()['Accident_Index']\n",
    "\n",
    "actuals_severity_weather = np.transpose(np.reshape(df.groupby(['Accident_Severity','Weather_Conditions']).count()['Accident_Index'].values,(3,2)))\n",
    "actuals_severity_weather"
   ]
  },
  {
   "cell_type": "code",
   "execution_count": null,
   "metadata": {},
   "outputs": [],
   "source": []
  },
  {
   "cell_type": "code",
   "execution_count": 5,
   "metadata": {},
   "outputs": [
    {
     "data": {
      "text/plain": [
       "array([1176651,  172940])"
      ]
     },
     "execution_count": 5,
     "metadata": {},
     "output_type": "execute_result"
    }
   ],
   "source": [
    "sums = df.groupby(['Weather_Conditions']).count()['Accident_Index']\n",
    "weather_sums = df.groupby(['Weather_Conditions']).count()['Accident_Index'].values\n",
    "weather_sums"
   ]
  },
  {
   "cell_type": "code",
   "execution_count": 6,
   "metadata": {},
   "outputs": [],
   "source": [
    "expected_by_weather = np.dot(weather_sums.reshape((-1,1)),severity_mus.reshape((1,-1)))\n",
    "expected_by_weather = expected_by_weather.round().astype(int)\n",
    "\n",
    "# expected_by_weather = np.zeros((2,3))\n",
    "# for i in np.arange(2):\n",
    "#     for j in np.arange(3):\n",
    "#         expected_by_weather[i][j] = weather_sums[i] * severity_mus[j]\n",
    "# expected_by_weather"
   ]
  },
  {
   "cell_type": "code",
   "execution_count": 7,
   "metadata": {},
   "outputs": [],
   "source": [
    "# expected_by_weather = expected_by_weather.round().astype(int)\n",
    "# expected_by_weather\n",
    "# expected_by_weather.sum(axis=1)"
   ]
  },
  {
   "cell_type": "code",
   "execution_count": 8,
   "metadata": {},
   "outputs": [
    {
     "data": {
      "text/plain": [
       "array([[8.00626198e-018],\n",
       "       [4.77813285e-117]])"
      ]
     },
     "execution_count": 8,
     "metadata": {},
     "output_type": "execute_result"
    }
   ],
   "source": [
    "f.calculate_p_values(actuals_severity_weather,expected_by_weather)\n",
    "\n",
    "# pvalues = np.zeros(2)\n",
    "\n",
    "# # stats.chisquare(actuals_severity_slimits[0],expected_by_slimit[0])[1]\n",
    "\n",
    "# for i in np.arange(2):\n",
    "#     pvalues[i] = stats.chisquare(actuals_severity_weather[i],expected_by_weather[i])[1]\n",
    "\n",
    "# pvalues"
   ]
  },
  {
   "cell_type": "code",
   "execution_count": null,
   "metadata": {},
   "outputs": [],
   "source": []
  }
 ],
 "metadata": {
  "kernelspec": {
   "display_name": "Python 3",
   "language": "python",
   "name": "python3"
  },
  "language_info": {
   "codemirror_mode": {
    "name": "ipython",
    "version": 3
   },
   "file_extension": ".py",
   "mimetype": "text/x-python",
   "name": "python",
   "nbconvert_exporter": "python",
   "pygments_lexer": "ipython3",
   "version": "3.7.1"
  }
 },
 "nbformat": 4,
 "nbformat_minor": 2
}
