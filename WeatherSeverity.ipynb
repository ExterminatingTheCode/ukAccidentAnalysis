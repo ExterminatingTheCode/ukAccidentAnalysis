{
 "cells": [
  {
   "cell_type": "code",
   "execution_count": 1,
   "metadata": {},
   "outputs": [],
   "source": [
    "%matplotlib inline\n",
    "\n",
    "import numpy as np\n",
    "import matplotlib.pyplot as plt\n",
    "import scipy.stats as stats\n",
    "import pandas as pd\n",
    "\n",
    "# Always make it pretty.\n",
    "plt.style.use('ggplot')"
   ]
  },
  {
   "cell_type": "code",
   "execution_count": 7,
   "metadata": {},
   "outputs": [
    {
     "name": "stderr",
     "output_type": "stream",
     "text": [
      "/anaconda3/lib/python3.7/site-packages/IPython/core/interactiveshell.py:3020: DtypeWarning: Columns (31) have mixed types. Specify dtype option on import or set low_memory=False.\n",
      "  interactivity=interactivity, compiler=compiler, result=result)\n"
     ]
    }
   ],
   "source": [
    "df1 = pd.read_csv(\"data/accidents_2005_to_2007.csv\")\n",
    "df2 = pd.read_csv(\"data/accidents_2009_to_2011.csv\")\n",
    "df3 = pd.read_csv(\"data/accidents_2012_to_2014.csv\")\n",
    "traffic = pd.read_csv(\"data/ukTrafficAADF.csv\")\n",
    "\n",
    "df12 = pd.concat([df1,df2])\n",
    "df = pd.concat([df12,df3])\n",
    "\n",
    "df = df.drop_duplicates(subset=['Accident_Index','Date','LSOA_of_Accident_Location','Time','Longitude','Latitude'], keep='first')\n",
    "\n",
    "df = df[df.Speed_limit !=15]\n",
    "df = df[(df.Weather_Conditions == 'Fine without high winds') | (df.Weather_Conditions =='Raining without high winds')]"
   ]
  },
  {
   "cell_type": "code",
   "execution_count": 8,
   "metadata": {},
   "outputs": [],
   "source": [
    "del df['Police_Force']\n",
    "del df['Local_Authority_(Highway)']\n",
    "del df['Local_Authority_(District)']\n",
    "del df['Pedestrian_Crossing-Human_Control']\n",
    "del df['Pedestrian_Crossing-Physical_Facilities']\n",
    "del df['Did_Police_Officer_Attend_Scene_of_Accident']"
   ]
  },
  {
   "cell_type": "code",
   "execution_count": 9,
   "metadata": {},
   "outputs": [
    {
     "data": {
      "text/plain": [
       "array([0.01306109, 0.1370329 , 0.84990601])"
      ]
     },
     "execution_count": 9,
     "metadata": {},
     "output_type": "execute_result"
    }
   ],
   "source": [
    "severity_totals = df.groupby('Accident_Severity').size().values\n",
    "#total is 1,469,963 number of accidents 1469963\n",
    "severity_mus = severity_totals / severity_totals.sum()\n",
    "severity_mus"
   ]
  },
  {
   "cell_type": "code",
   "execution_count": 10,
   "metadata": {},
   "outputs": [
    {
     "data": {
      "text/plain": [
       "array([[ 15811, 164200, 996631],\n",
       "       [  1816,  20737, 150386]])"
      ]
     },
     "execution_count": 10,
     "metadata": {},
     "output_type": "execute_result"
    }
   ],
   "source": [
    "#actuals number of accidents of severity 0,1,2, (columns) and Weather conditions sunny (0) and rainy (1) rows\n",
    "# actuals_severity_weather = df.groupby(['Accident_Severity','Weather_Conditions']).count()['Accident_Index']\n",
    "\n",
    "actuals_severity_weather = np.transpose(np.reshape(df.groupby(['Accident_Severity','Weather_Conditions']).count()['Accident_Index'].values,(3,2)))\n",
    "actuals_severity_weather"
   ]
  },
  {
   "cell_type": "code",
   "execution_count": 11,
   "metadata": {},
   "outputs": [
    {
     "data": {
      "text/plain": [
       "array([0.01306109, 0.1370329 , 0.84990601])"
      ]
     },
     "execution_count": 11,
     "metadata": {},
     "output_type": "execute_result"
    }
   ],
   "source": [
    "sums2 = df.groupby(['Accident_Severity','Weather_Conditions']).count().groupby('Accident_Severity').sum()['Accident_Index']\n",
    "severity_sums = df.groupby(['Accident_Severity','Weather_Conditions']).count().groupby('Accident_Severity').sum()['Accident_Index'].values\n",
    "severity_mus = severity_sums/severity_sums.sum()\n",
    "severity_mus"
   ]
  },
  {
   "cell_type": "code",
   "execution_count": 12,
   "metadata": {},
   "outputs": [
    {
     "data": {
      "text/plain": [
       "array([1176642,  172939])"
      ]
     },
     "execution_count": 12,
     "metadata": {},
     "output_type": "execute_result"
    }
   ],
   "source": [
    "sums = df.groupby(['Weather_Conditions']).count()['Accident_Index']\n",
    "weather_sums = df.groupby(['Weather_Conditions']).count()['Accident_Index'].values\n",
    "weather_sums"
   ]
  },
  {
   "cell_type": "code",
   "execution_count": 18,
   "metadata": {},
   "outputs": [
    {
     "data": {
      "text/plain": [
       "array([[  15368.22801595,  161238.66707815, 1000035.10490589],\n",
       "       [   2258.77198405,   23698.33292185,  146981.89509411]])"
      ]
     },
     "execution_count": 18,
     "metadata": {},
     "output_type": "execute_result"
    }
   ],
   "source": [
    "expected_by_weather = np.zeros((2,3))\n",
    "for i in np.arange(2):\n",
    "    for j in np.arange(3):\n",
    "        expected_by_weather[i][j] = weather_sums[i] * severity_mus[j]\n",
    "expected_by_weather"
   ]
  },
  {
   "cell_type": "code",
   "execution_count": 20,
   "metadata": {},
   "outputs": [
    {
     "data": {
      "text/plain": [
       "array([1176642,  172939])"
      ]
     },
     "execution_count": 20,
     "metadata": {},
     "output_type": "execute_result"
    }
   ],
   "source": [
    "expected_by_weather = expected_by_weather.round().astype(int)\n",
    "expected_by_weather\n",
    "expected_by_weather.sum(axis=1)"
   ]
  },
  {
   "cell_type": "code",
   "execution_count": 22,
   "metadata": {},
   "outputs": [
    {
     "data": {
      "text/plain": [
       "array([8.00584456e-018, 4.77685165e-117])"
      ]
     },
     "execution_count": 22,
     "metadata": {},
     "output_type": "execute_result"
    }
   ],
   "source": [
    "pvalues = np.zeros(2)\n",
    "\n",
    "# stats.chisquare(actuals_severity_slimits[0],expected_by_slimit[0])[1]\n",
    "\n",
    "for i in np.arange(2):\n",
    "    pvalues[i] = stats.chisquare(actuals_severity_weather[i],expected_by_weather[i])[1]\n",
    "\n",
    "pvalues"
   ]
  },
  {
   "cell_type": "code",
   "execution_count": null,
   "metadata": {},
   "outputs": [],
   "source": []
  }
 ],
 "metadata": {
  "kernelspec": {
   "display_name": "Python 3",
   "language": "python",
   "name": "python3"
  },
  "language_info": {
   "codemirror_mode": {
    "name": "ipython",
    "version": 3
   },
   "file_extension": ".py",
   "mimetype": "text/x-python",
   "name": "python",
   "nbconvert_exporter": "python",
   "pygments_lexer": "ipython3",
   "version": "3.7.1"
  }
 },
 "nbformat": 4,
 "nbformat_minor": 2
}
