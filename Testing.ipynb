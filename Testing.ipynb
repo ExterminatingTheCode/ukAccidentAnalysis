{
 "cells": [
  {
   "cell_type": "code",
   "execution_count": 1,
   "metadata": {},
   "outputs": [],
   "source": [
    "%matplotlib inline\n",
    "\n",
    "import numpy as np\n",
    "import matplotlib.pyplot as plt\n",
    "import scipy.stats as stats\n",
    "import pandas as pd\n",
    "from scipy.spatial import distance\n",
    "from sklearn.metrics.pairwise import haversine_distances\n",
    "import functions as f\n",
    "\n",
    "# Always make it pretty. Always.\n",
    "plt.style.use('ggplot')"
   ]
  },
  {
   "cell_type": "code",
   "execution_count": 4,
   "metadata": {},
   "outputs": [],
   "source": [
    "df = f.cleaner_data(f.load_and_clean_accident_data())"
   ]
  },
  {
   "cell_type": "code",
   "execution_count": 5,
   "metadata": {},
   "outputs": [
    {
     "name": "stderr",
     "output_type": "stream",
     "text": [
      "//anaconda3/lib/python3.7/site-packages/IPython/core/interactiveshell.py:3057: DtypeWarning: Columns (11,12) have mixed types. Specify dtype option on import or set low_memory=False.\n",
      "  interactivity=interactivity, compiler=compiler, result=result)\n"
     ]
    }
   ],
   "source": [
    "traffic = pd.read_csv(\"data/TrafficData/TotalTraffic.csv\")"
   ]
  },
  {
   "cell_type": "code",
   "execution_count": 6,
   "metadata": {},
   "outputs": [
    {
     "data": {
      "text/plain": [
       "Index(['count_point_id', 'year', 'region_id', 'region_name', 'region_ons_code',\n",
       "       'local_authority_id', 'local_authority_name', 'local_authority_code',\n",
       "       'road_name', 'road_category', 'road_type', 'start_junction_road_name',\n",
       "       'end_junction_road_name', 'easting', 'northing', 'latitude',\n",
       "       'longitude', 'link_length_km', 'link_length_miles', 'estimation_method',\n",
       "       'estimation_method_detailed', 'pedal_cycles',\n",
       "       'two_wheeled_motor_vehicles', 'cars_and_taxis', 'buses_and_coaches',\n",
       "       'lgvs', 'hgvs_2_rigid_axle', 'hgvs_3_rigid_axle',\n",
       "       'hgvs_3_or_4_articulated_axle', 'hgvs_4_or_more_rigid_axle',\n",
       "       'hgvs_5_articulated_axle', 'hgvs_6_articulated_axle', 'all_hgvs',\n",
       "       'all_motor_vehicles'],\n",
       "      dtype='object')"
      ]
     },
     "execution_count": 6,
     "metadata": {},
     "output_type": "execute_result"
    }
   ],
   "source": [
    "traffic.columns"
   ]
  },
  {
   "cell_type": "code",
   "execution_count": null,
   "metadata": {},
   "outputs": [],
   "source": []
  }
 ],
 "metadata": {
  "kernelspec": {
   "display_name": "Python 3",
   "language": "python",
   "name": "python3"
  },
  "language_info": {
   "codemirror_mode": {
    "name": "ipython",
    "version": 3
   },
   "file_extension": ".py",
   "mimetype": "text/x-python",
   "name": "python",
   "nbconvert_exporter": "python",
   "pygments_lexer": "ipython3",
   "version": "3.7.3"
  }
 },
 "nbformat": 4,
 "nbformat_minor": 2
}
