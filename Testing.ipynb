{
 "cells": [
  {
   "cell_type": "code",
   "execution_count": 1,
   "metadata": {},
   "outputs": [],
   "source": [
    "%matplotlib inline\n",
    "\n",
    "import numpy as np\n",
    "import matplotlib.pyplot as plt\n",
    "import scipy.stats as stats\n",
    "import pandas as pd\n",
    "from scipy.spatial import distance\n",
    "from sklearn.metrics.pairwise import haversine_distances\n",
    "import functions as f\n",
    "\n",
    "# Always make it pretty. Always.\n",
    "plt.style.use('ggplot')"
   ]
  },
  {
   "cell_type": "code",
   "execution_count": 2,
   "metadata": {},
   "outputs": [],
   "source": [
    "# df = f.cleaner_data(f.load_and_clean_accident_data())\n",
    "df1 = f.load_new_accident_data()\n",
    "# df = pd.read_csv('data/accidentswTraffic.csv')\n"
   ]
  },
  {
   "cell_type": "code",
   "execution_count": 3,
   "metadata": {},
   "outputs": [
    {
     "name": "stderr",
     "output_type": "stream",
     "text": [
      "//anaconda3/lib/python3.7/site-packages/IPython/core/interactiveshell.py:3248: DtypeWarning: Columns (11,12) have mixed types. Specify dtype option on import or set low_memory=False.\n",
      "  if (await self.run_code(code, result,  async_=asy)):\n"
     ]
    }
   ],
   "source": [
    "# traffic = f.load_and_clean_traffic_data()\n",
    "traffic = f.load_and_clean_traffic_data()"
   ]
  },
  {
   "cell_type": "code",
   "execution_count": 4,
   "metadata": {},
   "outputs": [],
   "source": [
    "f.connectTrafficData(df1,traffic)"
   ]
  },
  {
   "cell_type": "code",
   "execution_count": 6,
   "metadata": {},
   "outputs": [],
   "source": [
    "df1.to_csv('data/finalTable.csv')"
   ]
  },
  {
   "cell_type": "code",
   "execution_count": 7,
   "metadata": {},
   "outputs": [
    {
     "data": {
      "text/plain": [
       "Index(['Accident_Index', 'Location_Easting_OSGR', 'Location_Northing_OSGR',\n",
       "       'Longitude', 'Latitude', 'Police_Force', 'Accident_Severity',\n",
       "       'Number_of_Vehicles', 'Number_of_Casualties', 'Date', 'Day_of_Week',\n",
       "       'Time', 'Local_Authority_(District)', 'Local_Authority_(Highway)',\n",
       "       '1st_Road_Class', '1st_Road_Number', 'Road_Type', 'Speed_limit',\n",
       "       'Junction_Detail', 'Junction_Control', '2nd_Road_Class',\n",
       "       '2nd_Road_Number', 'Pedestrian_Crossing-Human_Control',\n",
       "       'Pedestrian_Crossing-Physical_Facilities', 'Light_Conditions',\n",
       "       'Weather_Conditions', 'Road_Surface_Conditions',\n",
       "       'Special_Conditions_at_Site', 'Carriageway_Hazards',\n",
       "       'Urban_or_Rural_Area', 'Did_Police_Officer_Attend_Scene_of_Accident',\n",
       "       'LSOA_of_Accident_Location', 'Year', 'CP', 'Traffic', 'CPlatitude',\n",
       "       'CPlongitude'],\n",
       "      dtype='object')"
      ]
     },
     "execution_count": 7,
     "metadata": {},
     "output_type": "execute_result"
    }
   ],
   "source": [
    "df1.columns"
   ]
  },
  {
   "cell_type": "code",
   "execution_count": 8,
   "metadata": {},
   "outputs": [
    {
     "data": {
      "text/plain": [
       "Index(['count_point_id', 'year', 'region_id', 'region_name', 'region_ons_code',\n",
       "       'local_authority_id', 'local_authority_name', 'local_authority_code',\n",
       "       'road_name', 'road_category', 'road_type', 'start_junction_road_name',\n",
       "       'end_junction_road_name', 'easting', 'northing', 'latitude',\n",
       "       'longitude', 'link_length_km', 'link_length_miles', 'estimation_method',\n",
       "       'estimation_method_detailed', 'pedal_cycles',\n",
       "       'two_wheeled_motor_vehicles', 'cars_and_taxis', 'buses_and_coaches',\n",
       "       'lgvs', 'hgvs_2_rigid_axle', 'hgvs_3_rigid_axle',\n",
       "       'hgvs_3_or_4_articulated_axle', 'hgvs_4_or_more_rigid_axle',\n",
       "       'hgvs_5_articulated_axle', 'hgvs_6_articulated_axle', 'all_hgvs',\n",
       "       'all_motor_vehicles'],\n",
       "      dtype='object')"
      ]
     },
     "execution_count": 8,
     "metadata": {},
     "output_type": "execute_result"
    }
   ],
   "source": [
    "traffic.columns"
   ]
  },
  {
   "cell_type": "code",
   "execution_count": null,
   "metadata": {},
   "outputs": [],
   "source": [
    "casualties = dict(df.groupby(['CP'])['Number_of_Casualties'].agg('sum'))\n",
    "accidents = dict(df.groupby(['CP'])['Number_of_Casualties'].agg('count'))\n",
    "\n",
    "df['TotalCasualtiesPerCP'] = df['CP'].map(casualties)\n",
    "df['TotalAccidentsPerCP'] = df['CP'].map(accidents)\n",
    "\n",
    "traffic['TotalCasualties'] = traffic['count_point_id'].map(casualties)\n",
    "traffic['TotalAccidents'] = traffic['count_point_id'].map(accidents)"
   ]
  },
  {
   "cell_type": "code",
   "execution_count": null,
   "metadata": {},
   "outputs": [],
   "source": [
    "df['numCasualtiesAtCheckpoint'] = df.groupby(['CP','Year'])['Number_of_Casualties'].transform('sum')\n",
    "df['numAccidentsAtCheckpoint'] = df.groupby(['CP','Year'])['Number_of_Casualties'].transform('count')"
   ]
  },
  {
   "cell_type": "code",
   "execution_count": null,
   "metadata": {},
   "outputs": [],
   "source": [
    "traffic_data = np.unique(df[['Year','CP','numCasualtiesAtCheckpoint','numAccidentsAtCheckpoint']].values,axis=0).astype(int)"
   ]
  },
  {
   "cell_type": "code",
   "execution_count": null,
   "metadata": {},
   "outputs": [],
   "source": []
  },
  {
   "cell_type": "code",
   "execution_count": null,
   "metadata": {},
   "outputs": [],
   "source": [
    "traffic['numCasualties'] = traffic_zeros\n",
    "traffic['numAccidents'] = traffic_zeros\n",
    "\n",
    "traffic['CPYEARKEY'] = traffic['count_point_id'].values.astype(str) + traffic['year'].values.astype(str)\n",
    "\n",
    "traffic.head()\n",
    "# for i in range(len(traffic)):\n",
    "#     traffic['numCasualties'] = df.groupby\n",
    "#     traffic[np.logical_and(traffic['year'] == t[0], traffic['count_point_id'] == t[1])].numCasualties = t[2]\n",
    "#     traffic[np.logical_and(traffic['year'] == t[0], traffic['count_point_id'] == t[1])].numAccidents = t[3]\n",
    "\n",
    "            "
   ]
  },
  {
   "cell_type": "code",
   "execution_count": null,
   "metadata": {},
   "outputs": [],
   "source": [
    "years = df.groupby(['Year']).count()['Accident_Index']\n",
    "fig, ax = plt.subplots()\n",
    "ax.bar(years.index, years.values)\n",
    "ax.set_title('Total Number of Accidents per Year')\n",
    "fig.savefig('TotalNumberAccidentsPerYear.png',format='png')\n",
    "None"
   ]
  },
  {
   "cell_type": "code",
   "execution_count": null,
   "metadata": {},
   "outputs": [],
   "source": []
  },
  {
   "cell_type": "code",
   "execution_count": null,
   "metadata": {},
   "outputs": [],
   "source": [
    "# df1 = df[df['Year'] == 2005].copy()\n",
    "# df1 = df[df['Location_Northing_OSGR'] < 991090].copy()\n",
    "df1= df[df['Accident_Severity'] == 1]\n",
    "\n",
    "eastings = (df1.Location_Easting_OSGR.values - df1.Location_Easting_OSGR.values.min())/(df1.Location_Easting_OSGR.values.max() - df1.Location_Easting_OSGR.values.min())\n",
    "northings = (df1.Location_Northing_OSGR.values - df1.Location_Northing_OSGR.values.min())/(df1.Location_Northing_OSGR.values.max() - df1.Location_Northing_OSGR.values.min())"
   ]
  },
  {
   "cell_type": "code",
   "execution_count": null,
   "metadata": {},
   "outputs": [],
   "source": [
    "fig, ax = plt.subplots(figsize= (5.5,11))\n",
    "\n",
    "ax.scatter(eastings, northings * 4, s=1, alpha=1)\n",
    "ax.set_yticklabels([])\n",
    "ax.set_xticklabels([])\n",
    "ax.grid(False)\n",
    "ax.set_facecolor('xkcd:white')\n",
    "\n",
    "fig.savefig('MapofallSeverity1Accidents.png',format='png')\n",
    "\n",
    "None"
   ]
  },
  {
   "cell_type": "code",
   "execution_count": null,
   "metadata": {},
   "outputs": [],
   "source": [
    "df.columns"
   ]
  },
  {
   "cell_type": "code",
   "execution_count": null,
   "metadata": {},
   "outputs": [],
   "source": [
    "new_traffic = pd.DataFrame(np.unique(df[['Year','CP']].values.astype(int),axis=0), columns= ['Year','CP']).copy()"
   ]
  },
  {
   "cell_type": "code",
   "execution_count": null,
   "metadata": {},
   "outputs": [],
   "source": [
    "traffic.columns"
   ]
  },
  {
   "cell_type": "code",
   "execution_count": null,
   "metadata": {},
   "outputs": [],
   "source": []
  },
  {
   "cell_type": "code",
   "execution_count": null,
   "metadata": {},
   "outputs": [],
   "source": [
    "for year, CP in new_traffic.values[:5]:\n",
    "    print (year,CP)\n",
    "    "
   ]
  },
  {
   "cell_type": "code",
   "execution_count": null,
   "metadata": {},
   "outputs": [],
   "source": [
    "traffic1 = traffic[traffic['CasualtiesPerMV'] < 20000]\n",
    "traffic1 = traffic1[traffic1['AADFYear'] == 2005]\n",
    "\n",
    "eastings = (traffic1.Easting.values - traffic1.Easting.values.min())/(traffic1.Easting.values.max() - traffic1.Easting.values.min())\n",
    "northings = (traffic1.Northing.values - traffic1.Northing.values.min())/(traffic1.Northing.values.max() - traffic1.Northing.values.min())"
   ]
  },
  {
   "cell_type": "code",
   "execution_count": null,
   "metadata": {},
   "outputs": [],
   "source": [
    "fig, ax = plt.subplots(figsize= (6,9.5))\n",
    "\n",
    "cs = ax.scatter(eastings, northings * 4, cmap='Greys', c=(traffic1['CasualtiesPerMV'].values), s=1, alpha=1) \n",
    "#c=traffic1['CasualtiesPerMV'].values/traffic1['CasualtiesPerMV'].max(),\n",
    "#/traffic1['CasualtiesPerMV'].max()\n",
    "ax.set_yticklabels([])\n",
    "ax.set_xticklabels([])\n",
    "ax.grid(False)\n",
    "fig.colorbar(cs)\n",
    "None"
   ]
  },
  {
   "cell_type": "code",
   "execution_count": null,
   "metadata": {},
   "outputs": [],
   "source": [
    "Ebegin = df['Location_Easting_OSGR'].min()\n",
    "Eend = df['Location_Easting_OSGR'].max()\n",
    "Nbegin = df['Location_Northing_OSGR'].min()\n",
    "Nend = df['Location_Northing_OSGR'].max()"
   ]
  },
  {
   "cell_type": "code",
   "execution_count": null,
   "metadata": {},
   "outputs": [],
   "source": [
    "# df1 = df[df['Year'] == 2005].copy()\n",
    "df1 = df[df['Location_Easting_OSGR'] < (Ebegin + (Eend-Ebegin)*9/10)].copy()\n",
    "df1 = df1[df1['Location_Easting_OSGR'] > (Ebegin + (Eend-Ebegin)*6/10)].copy()\n",
    "df1 = df1[df1['Location_Northing_OSGR'] > (Ebegin + (Eend-Ebegin)/10)].copy()\n",
    "df1 = df1[df1['Location_Northing_OSGR'] < (Ebegin + (Eend-Ebegin)*3/10)].copy()\n",
    "# df1= df1[df1['Accident_Severity'] == 1]\n",
    "\n",
    "eastings = (df1.Location_Easting_OSGR.values - df1.Location_Easting_OSGR.values.min())/(df1.Location_Easting_OSGR.values.max() - df1.Location_Easting_OSGR.values.min())\n",
    "northings = (df1.Location_Northing_OSGR.values - df1.Location_Northing_OSGR.values.min())/(df1.Location_Northing_OSGR.values.max() - df1.Location_Northing_OSGR.values.min())"
   ]
  },
  {
   "cell_type": "code",
   "execution_count": null,
   "metadata": {},
   "outputs": [],
   "source": [
    "fig, ax = plt.subplots(figsize= (12,9.5))\n",
    "\n",
    "ax.scatter(eastings, northings * 4, s=1, alpha=1)\n",
    "ax.set_yticklabels([])\n",
    "ax.set_xticklabels([])\n",
    "ax.grid(False)\n",
    "ax.set_facecolor('xkcd:white')\n",
    "\n",
    "fig.savefig('MapofSeverity1inLondon.png',format='png')\n",
    "None"
   ]
  },
  {
   "cell_type": "code",
   "execution_count": null,
   "metadata": {},
   "outputs": [],
   "source": [
    "traffic['CasualtiesPerMMD'] = traffic['numCasualties'] / traffic['link_length_miles'] / traffic['all_motor_vehicles'] * 1000000\n",
    "traffic['AccidentsPerMMD'] = traffic['numAccidents'] / traffic['link_length_miles'] / traffic['all_motor_vehicles'] * 1000000"
   ]
  },
  {
   "cell_type": "code",
   "execution_count": null,
   "metadata": {},
   "outputs": [],
   "source": [
    "traffic['numCasualties'].max()"
   ]
  },
  {
   "cell_type": "code",
   "execution_count": null,
   "metadata": {},
   "outputs": [],
   "source": [
    "traffic1 = traffic[traffic['CasualtiesPerMMD'] < 20000]\n",
    "traffic1 = traffic1[traffic1['year'] == 2005]\n",
    "\n",
    "eastings = (traffic1.easting.values - traffic1.easting.values.min())/(traffic1.easting.values.max() - traffic1.easting.values.min())\n",
    "northings = (traffic1.northing.values - traffic1.northing.values.min())/(traffic1.northing.values.max() - traffic1.northing.values.min())\n",
    "\n",
    "fig, ax = plt.subplots(figsize= (6,9.5))\n",
    "\n",
    "cs = ax.scatter(eastings, northings * 4, cmap='Greys', c=(traffic1['CasualtiesPerMMD'].values), s=1, alpha=1) \n",
    "#c=traffic1['CasualtiesPerMV'].values/traffic1['CasualtiesPerMV'].max(),\n",
    "#/traffic1['CasualtiesPerMV'].max()\n",
    "ax.set_yticklabels([])\n",
    "ax.set_xticklabels([])\n",
    "ax.grid(False)\n",
    "fig.colorbar(cs)\n",
    "None"
   ]
  },
  {
   "cell_type": "code",
   "execution_count": null,
   "metadata": {},
   "outputs": [],
   "source": [
    "traffic.head()"
   ]
  },
  {
   "cell_type": "code",
   "execution_count": null,
   "metadata": {},
   "outputs": [],
   "source": [
    "df.columns"
   ]
  },
  {
   "cell_type": "code",
   "execution_count": null,
   "metadata": {},
   "outputs": [],
   "source": [
    "df[['CP','Year']] == [48544,2005]"
   ]
  },
  {
   "cell_type": "code",
   "execution_count": null,
   "metadata": {},
   "outputs": [],
   "source": [
    "traffic.columns"
   ]
  },
  {
   "cell_type": "code",
   "execution_count": null,
   "metadata": {},
   "outputs": [],
   "source": [
    "df.columns"
   ]
  },
  {
   "cell_type": "code",
   "execution_count": null,
   "metadata": {},
   "outputs": [],
   "source": [
    "for cp in df.loc[:5,'CP']:\n",
    "    print(cp)"
   ]
  },
  {
   "cell_type": "code",
   "execution_count": null,
   "metadata": {},
   "outputs": [],
   "source": [
    "#this attaches CP location to accident table\n",
    "\n",
    "df['CPnorthing'] = np.zeros(len(df))\n",
    "df['CPneasting'] = np.zeros(len(df))\n",
    "\n",
    "for i, cp in enumerate(df['CP']):\n",
    "\n",
    "    df.loc[i,'CPnorthing'] = traffic[traffic['count_point_id'] == cp].northing.mean()\n",
    "    df.loc[i,'CPeasting'] = traffic[traffic['count_point_id'] == cp].easting.mean()"
   ]
  },
  {
   "cell_type": "code",
   "execution_count": null,
   "metadata": {},
   "outputs": [],
   "source": [
    "traffic.columns"
   ]
  },
  {
   "cell_type": "code",
   "execution_count": null,
   "metadata": {},
   "outputs": [],
   "source": []
  }
 ],
 "metadata": {
  "kernelspec": {
   "display_name": "Python 3",
   "language": "python",
   "name": "python3"
  },
  "language_info": {
   "codemirror_mode": {
    "name": "ipython",
    "version": 3
   },
   "file_extension": ".py",
   "mimetype": "text/x-python",
   "name": "python",
   "nbconvert_exporter": "python",
   "pygments_lexer": "ipython3",
   "version": "3.7.3"
  }
 },
 "nbformat": 4,
 "nbformat_minor": 2
}
