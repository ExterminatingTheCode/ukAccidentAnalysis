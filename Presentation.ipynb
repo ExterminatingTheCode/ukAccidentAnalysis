{
 "cells": [
  {
   "cell_type": "markdown",
   "metadata": {},
   "source": [
    "#  1.6 million (or is it???) UK traffic accidents \n",
    "\n",
    "### An exercise in discovering the obvious "
   ]
  },
  {
   "cell_type": "code",
   "execution_count": 1,
   "metadata": {},
   "outputs": [],
   "source": [
    "%matplotlib inline\n",
    "\n",
    "import numpy as np\n",
    "import matplotlib.pyplot as plt\n",
    "import scipy.stats as stats\n",
    "import pandas as pd\n",
    "import functions as f\n",
    "\n",
    "# Always make it pretty.\n",
    "plt.style.use('ggplot')"
   ]
  },
  {
   "cell_type": "code",
   "execution_count": 2,
   "metadata": {},
   "outputs": [
    {
     "name": "stderr",
     "output_type": "stream",
     "text": [
      "/anaconda3/lib/python3.7/site-packages/IPython/core/interactiveshell.py:3185: DtypeWarning: Columns (31) have mixed types. Specify dtype option on import or set low_memory=False.\n",
      "  if (yield from self.run_code(code, result)):\n"
     ]
    }
   ],
   "source": [
    "# load data and find overall probability of an accident being in particular severity (mu)\n",
    "df = f.load_and_clean_accident_data()\n",
    "severity_mus = f.find_severity_mus(df)\n",
    "\n"
   ]
  },
  {
   "cell_type": "code",
   "execution_count": 3,
   "metadata": {},
   "outputs": [
    {
     "name": "stdout",
     "output_type": "stream",
     "text": [
      "The actual number of accidents in this record, after removing duplicates is: 1469963\n"
     ]
    }
   ],
   "source": [
    "print(f'The actual number of accidents in this record, after removing duplicates is: {len(df)}')"
   ]
  },
  {
   "cell_type": "code",
   "execution_count": 4,
   "metadata": {
    "scrolled": true
   },
   "outputs": [
    {
     "data": {
      "image/png": "[encoded data removed]",
      "text/plain": [
       "<Figure size 432x288 with 1 Axes>"
      ]
     },
     "metadata": {
      "needs_background": "light"
     },
     "output_type": "display_data"
    }
   ],
   "source": [
    "years = df.groupby(['Year']).count()['Accident_Index']\n",
    "fig, ax = plt.subplots()\n",
    "ax.bar(years.index, years.values)\n",
    "None"
   ]
  },
  {
   "cell_type": "markdown",
   "metadata": {},
   "source": [
    "### Finding the actual amounts of accidents by severity and correlate factor"
   ]
  },
  {
   "cell_type": "code",
   "execution_count": 5,
   "metadata": {},
   "outputs": [],
   "source": [
    "df = f.cleaner_data(df)\n",
    "\n",
    "#find actual amounts of each accident\n",
    "actuals_severity_roadsc = np.transpose(np.reshape(df.groupby(['Accident_Severity','Road_Surface_Conditions']).count()['Accident_Index'].values,(3,3)))\n",
    "actuals_severity_slimit = np.transpose(np.reshape(df.groupby(['Accident_Severity','Speed_limit']).count()['Accident_Index'].values,(3,7)))\n",
    "actuals_severity_weather = np.transpose(np.reshape(df.groupby(['Accident_Severity','Weather_Conditions']).count()['Accident_Index'].values,(3,2)))\n",
    "\n",
    "#total number of accidents within each category\n",
    "roadsc_sums = df.groupby(['Road_Surface_Conditions']).count()['Accident_Index'].values\n",
    "slimit_sums = df.groupby(['Speed_limit']).count()['Accident_Index'].values\n",
    "weather_sums = df.groupby(['Weather_Conditions']).count()['Accident_Index'].values"
   ]
  },
  {
   "cell_type": "code",
   "execution_count": 6,
   "metadata": {},
   "outputs": [],
   "source": [
    "#expected number of each severity under null hypothesis of varying category not having effect\n",
    "expected_by_roadsc = np.dot(roadsc_sums.reshape((-1,1)),severity_mus.reshape((1,-1)))\n",
    "expected_by_roadsc = expected_by_roadsc.round().astype(int)\n",
    "\n",
    "expected_by_slimit = np.dot(slimit_sums.reshape((-1,1)),severity_mus.reshape((1,-1)))\n",
    "expected_by_slimit = expected_by_slimit.round().astype(int)\n",
    "\n",
    "expected_by_weather = np.dot(weather_sums.reshape((-1,1)),severity_mus.reshape((1,-1)))\n",
    "expected_by_weather = expected_by_weather.round().astype(int)"
   ]
  },
  {
   "cell_type": "markdown",
   "metadata": {},
   "source": [
    "### Proportion of accidents in each severity category by speed limit"
   ]
  },
  {
   "cell_type": "code",
   "execution_count": 7,
   "metadata": {},
   "outputs": [
    {
     "data": {
      "image/png": "[encoded data removed]",
      "text/plain": [
       "<Figure size 432x288 with 1 Axes>"
      ]
     },
     "metadata": {
      "needs_background": "light"
     },
     "output_type": "display_data"
    }
   ],
   "source": [
    "slimit20= df[df[\"Speed_limit\"] == 20]\n",
    "slimit30= df[df[\"Speed_limit\"] == 30]\n",
    "slimit40= df[df[\"Speed_limit\"] == 40]\n",
    "slimit50= df[df[\"Speed_limit\"] == 50]\n",
    "slimit60= df[df[\"Speed_limit\"] == 60]\n",
    "slimit70= df[df[\"Speed_limit\"] == 70]\n",
    "\n",
    "slimit_severities = np.vstack(((slimit20.Accident_Severity.value_counts(),\n",
    "                              slimit30.Accident_Severity.value_counts(),\n",
    "                              slimit40.Accident_Severity.value_counts(),\n",
    "                              slimit50.Accident_Severity.value_counts(),\n",
    "                              slimit60.Accident_Severity.value_counts(),\n",
    "                              slimit70.Accident_Severity.value_counts(),)))\n",
    "\n",
    "slimit_severities = slimit_severities / slimit_severities.sum(axis=1).reshape((6,-1))\n",
    "slimit_severities\n",
    "\n",
    "fig, ax = plt.subplots()\n",
    "ax.bar(range(len(slimit_severities)), slimit_severities[:,0])\n",
    "ax.bar(range(len(slimit_severities)), slimit_severities[:,1], bottom=slimit_severities[:,0])\n",
    "ax.bar(range(len(slimit_severities)), slimit_severities[:,2], bottom=slimit_severities[:,0] + slimit_severities[:,1])\n",
    "\n",
    "ax.set_xticks(np.arange(0,6))                                                                                                                \n",
    "ax.set_xticklabels(np.arange(2,8)*10)\n",
    "ax.set_title(\"Proportions of severity 1,2,3 accidents at speed limits 20-70\")\n",
    "None"
   ]
  },
  {
   "cell_type": "markdown",
   "metadata": {},
   "source": [
    "### Hypothesis testing and results - (Discovering the obvious)"
   ]
  },
  {
   "cell_type": "code",
   "execution_count": 8,
   "metadata": {},
   "outputs": [
    {
     "name": "stderr",
     "output_type": "stream",
     "text": [
      "/anaconda3/lib/python3.7/site-packages/scipy/stats/stats.py:4567: RuntimeWarning: divide by zero encountered in true_divide\n",
      "  terms = (f_obs - f_exp)**2 / f_exp\n"
     ]
    }
   ],
   "source": [
    "# calculating p values under null hypothesis of varying categories not having effect\n",
    "p_values_roadsc = f.calculate_p_values(actuals_severity_roadsc,expected_by_roadsc)\n",
    "p_values_slimit = f.calculate_p_values(actuals_severity_slimit,expected_by_slimit)\n",
    "p_values_weather = f.calculate_p_values(actuals_severity_weather,expected_by_weather)"
   ]
  },
  {
   "cell_type": "code",
   "execution_count": 9,
   "metadata": {},
   "outputs": [
    {
     "name": "stdout",
     "output_type": "stream",
     "text": [
      "p-value for dry roads: [1.9712979e-29] \n",
      " p-value for icy roads: [3.89620787e-08] \n",
      " p-value for wet roads: [7.01593117e-17] \n",
      "\n",
      "\n",
      "p-value for 10mph speed limit: [0.] \n",
      " p-value for 20mph speed limit: [1.207247e-16] \n",
      " p-value for 30mph speed limit: [0.] \n",
      " p-value for 40mph speed limit: [8.63095953e-09] \n",
      " p-value for 50mph speed limit: [3.57941245e-78] \n",
      " p-value for 60mph speed limit: [0.] \n",
      "\n",
      "p-value for sunny weather: [1.67900061e-46] \n",
      " p-value for rainy weather: [2.10436551e-99]\n"
     ]
    }
   ],
   "source": [
    "print(f'p-value for dry roads: {p_values_roadsc[0]}',\"\\n\",f'p-value for icy roads: {p_values_roadsc[1]}',\"\\n\"\n",
    "      ,f'p-value for wet roads: {p_values_roadsc[2]}',\"\\n\\n\")\n",
    "print(f'p-value for 10mph speed limit: {p_values_slimit[0]}',\"\\n\",\n",
    "     f'p-value for 20mph speed limit: {p_values_slimit[1]}',\"\\n\",\n",
    "     f'p-value for 30mph speed limit: {p_values_slimit[2]}',\"\\n\",\n",
    "     f'p-value for 40mph speed limit: {p_values_slimit[3]}',\"\\n\",\n",
    "     f'p-value for 50mph speed limit: {p_values_slimit[4]}',\"\\n\",\n",
    "     f'p-value for 60mph speed limit: {p_values_slimit[5]}',\"\\n\")\n",
    "print(f'p-value for sunny weather: {p_values_weather[0]}',\"\\n\",f'p-value for rainy weather: {p_values_weather[1]}')"
   ]
  },
  {
   "cell_type": "markdown",
   "metadata": {},
   "source": [
    "### Significant difference testing\n",
    "#### (Or demonstration of all hypothesis tests rejecting with large enough sample size)"
   ]
  },
  {
   "cell_type": "code",
   "execution_count": 18,
   "metadata": {},
   "outputs": [
    {
     "data": {
      "text/plain": [
       "array([ 0.00220704,  0.02305606, -0.0252631 ])"
      ]
     },
     "execution_count": 18,
     "metadata": {},
     "output_type": "execute_result"
    }
   ],
   "source": [
    "difference = .1\n",
    "\n",
    "dangerous_severities = severity_mus.copy()\n",
    "safer_severities = severity_mus.copy()\n",
    "dangerous_severities[0] = severity_mus[0]*(1+difference)\n",
    "safer_severities[0] = severity_mus[0]*(1-difference)\n",
    "dangerous_severities[1] = severity_mus[1]*(1+difference)\n",
    "safer_severities[1] = severity_mus[1]*(1-difference)\n",
    "#After adding the difference, they must be normalized as ratios of each always sum to 1!\n",
    "safer_severities = safer_severities / safer_severities.sum()\n",
    "dangerous_severities = dangerous_severities / dangerous_severities.sum()\n",
    "\n",
    "dangerous_severities - safer_severities"
   ]
  },
  {
   "cell_type": "code",
   "execution_count": 19,
   "metadata": {},
   "outputs": [],
   "source": [
    "safer_by_roadsc = np.dot(roadsc_sums.reshape((-1,1)),safer_severities.reshape((1,-1)))\n",
    "safer_by_roadsc = safer_by_roadsc.round().astype(int)\n",
    "\n",
    "dangerous_by_roadsc = np.dot(roadsc_sums.reshape((-1,1)),dangerous_severities.reshape((1,-1)))\n",
    "dangerous_by_roadsc = dangerous_by_roadsc.round().astype(int)\n",
    "\n",
    "safer_by_slimit = np.dot(slimit_sums.reshape((-1,1)),safer_severities.reshape((1,-1)))\n",
    "safer_by_slimit = safer_by_slimit.round().astype(int)\n",
    "\n",
    "dangerous_by_slimit = np.dot(slimit_sums.reshape((-1,1)),dangerous_severities.reshape((1,-1)))\n",
    "dangerous_by_slimit = dangerous_by_slimit.round().astype(int)\n",
    "\n",
    "safer_by_weather = np.dot(weather_sums.reshape((-1,1)),safer_severities.reshape((1,-1)))\n",
    "safer_by_weather = safer_by_weather.round().astype(int)\n",
    "\n",
    "dangerous_by_weather = np.dot(weather_sums.reshape((-1,1)),dangerous_severities.reshape((1,-1)))\n",
    "dangerous_by_weather = dangerous_by_weather.round().astype(int)"
   ]
  },
  {
   "cell_type": "code",
   "execution_count": 24,
   "metadata": {},
   "outputs": [
    {
     "name": "stdout",
     "output_type": "stream",
     "text": [
      "[0.65667151]\n",
      "[]\n",
      "[]\n",
      "[]\n",
      "[]\n",
      "[]\n",
      "[[0.00000000e+00]\n",
      " [6.56671512e-01]\n",
      " [2.06757660e-90]]\n"
     ]
    }
   ],
   "source": [
    "s_p_values_roadsc = f.calculate_p_values(actuals_severity_roadsc,safer_by_roadsc)\n",
    "s_p_values_slimit = f.calculate_p_values(actuals_severity_slimit,safer_by_slimit)\n",
    "s_p_values_weather = f.calculate_p_values(actuals_severity_weather,safer_by_weather)\n",
    "d_p_values_roadsc = f.calculate_p_values(actuals_severity_roadsc,dangerous_by_roadsc)\n",
    "d_p_values_slimit = f.calculate_p_values(actuals_severity_slimit,dangerous_by_slimit)\n",
    "d_p_values_weather = f.calculate_p_values(actuals_severity_weather,dangerous_by_weather)\n",
    "\n",
    "\n",
    "print(s_p_values_roadsc[s_p_values_roadsc > .001])\n",
    "print(s_p_values_slimit[s_p_values_slimit > .001])\n",
    "print(s_p_values_weather[s_p_values_weather > .001])\n",
    "print(d_p_values_roadsc[d_p_values_roadsc > .001])\n",
    "print(d_p_values_slimit[d_p_values_slimit > .001])\n",
    "print(d_p_values_weather[d_p_values_weather > .001])\n",
    "\n",
    "print(s_p_values_roadsc)\n",
    "# print(s_p_values_slimit)\n",
    "# print(s_p_values_weather)\n",
    "# print(d_p_values_roadsc)\n",
    "# print(d_p_values_slimit)\n",
    "# print(d_p_values_weather)\n",
    "\n"
   ]
  },
  {
   "cell_type": "markdown",
   "metadata": {},
   "source": [
    "The exception that proves the rule: The smallest sample size group is the only one that had a significant p value"
   ]
  },
  {
   "cell_type": "code",
   "execution_count": null,
   "metadata": {},
   "outputs": [],
   "source": []
  }
 ],
 "metadata": {
  "kernelspec": {
   "display_name": "Python 3",
   "language": "python",
   "name": "python3"
  },
  "language_info": {
   "codemirror_mode": {
    "name": "ipython",
    "version": 3
   },
   "file_extension": ".py",
   "mimetype": "text/x-python",
   "name": "python",
   "nbconvert_exporter": "python",
   "pygments_lexer": "ipython3",
   "version": "3.7.1"
  }
 },
 "nbformat": 4,
 "nbformat_minor": 2
}
