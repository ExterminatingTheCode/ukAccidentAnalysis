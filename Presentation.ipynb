{
 "cells": [
  {
   "cell_type": "markdown",
   "metadata": {},
   "source": [
    "#  1.6 million (or is it???) UK traffic accidents \n",
    "\n",
    "### An exercise in discovering the obvious "
   ]
  },
  {
   "cell_type": "code",
   "execution_count": 1,
   "metadata": {},
   "outputs": [],
   "source": [
    "%matplotlib inline\n",
    "\n",
    "import numpy as np\n",
    "import matplotlib.pyplot as plt\n",
    "import scipy.stats as stats\n",
    "import pandas as pd\n",
    "import functions as f\n",
    "\n",
    "# Always make it pretty.\n",
    "plt.style.use('ggplot')"
   ]
  },
  {
   "cell_type": "code",
   "execution_count": 2,
   "metadata": {},
   "outputs": [
    {
     "name": "stderr",
     "output_type": "stream",
     "text": [
      "/anaconda3/lib/python3.7/site-packages/IPython/core/interactiveshell.py:3185: DtypeWarning: Columns (31) have mixed types. Specify dtype option on import or set low_memory=False.\n",
      "  if (yield from self.run_code(code, result)):\n"
     ]
    },
    {
     "name": "stdout",
     "output_type": "stream",
     "text": [
      "The actual number of accidents in this record, after removing duplicates is: 1469963\n"
     ]
    }
   ],
   "source": [
    "# load data and find overall probability of an accident being in particular severity (mu)\n",
    "df = f.load_and_clean_accident_data()\n",
    "severity_mus = f.find_severity_mus(df)\n",
    "\n",
    "print(f'The actual number of accidents in this record, after removing duplicates is: {len(df)}')"
   ]
  },
  {
   "cell_type": "code",
   "execution_count": 3,
   "metadata": {},
   "outputs": [
    {
     "ename": "SyntaxError",
     "evalue": "invalid syntax (<ipython-input-3-e5586003c238>, line 1)",
     "output_type": "error",
     "traceback": [
      "\u001b[0;36m  File \u001b[0;32m\"<ipython-input-3-e5586003c238>\"\u001b[0;36m, line \u001b[0;32m1\u001b[0m\n\u001b[0;31m    Total number of accidents per year\u001b[0m\n\u001b[0m               ^\u001b[0m\n\u001b[0;31mSyntaxError\u001b[0m\u001b[0;31m:\u001b[0m invalid syntax\n"
     ]
    }
   ],
   "source": [
    "Total number of accidents per year"
   ]
  },
  {
   "cell_type": "code",
   "execution_count": null,
   "metadata": {
    "scrolled": true
   },
   "outputs": [],
   "source": [
    "years = df.groupby(['Year']).count()['Accident_Index']\n",
    "fig, ax = plt.subplots()\n",
    "ax.bar(years.index, years.values)\n",
    "None"
   ]
  },
  {
   "cell_type": "markdown",
   "metadata": {},
   "source": [
    "### Finding the actual amounts of accidents by severity and correlate factor"
   ]
  },
  {
   "cell_type": "code",
   "execution_count": null,
   "metadata": {},
   "outputs": [],
   "source": [
    "#find actual amounts of each accident\n",
    "actuals_severity_roadsc = np.transpose(np.reshape(df.groupby(['Accident_Severity','Road_Surface_Conditions']).count()['Accident_Index'].values,(3,3)))\n",
    "actuals_severity_slimit = np.transpose(np.reshape(df.groupby(['Accident_Severity','Speed_limit']).count()['Accident_Index'].values,(3,7)))\n",
    "actuals_severity_weather = np.transpose(np.reshape(df.groupby(['Accident_Severity','Weather_Conditions']).count()['Accident_Index'].values,(3,2)))\n",
    "\n",
    "#total number of accidents within each category\n",
    "roadsc_sums = df.groupby(['Road_Surface_Conditions']).count()['Accident_Index'].values\n",
    "slimit_sums = df.groupby(['Speed_limit']).count()['Accident_Index'].values\n",
    "weather_sums = df.groupby(['Weather_Conditions']).count()['Accident_Index'].values"
   ]
  },
  {
   "cell_type": "code",
   "execution_count": null,
   "metadata": {},
   "outputs": [],
   "source": [
    "#expected number of each severity under null hypothesis of varying category not having effect\n",
    "expected_by_roadsc = np.dot(roadsc_sums.reshape((-1,1)),severity_mus.reshape((1,-1)))\n",
    "expected_by_roadsc = expected_by_roadsc.round().astype(int)\n",
    "\n",
    "expected_by_slimit = np.dot(slimit_sums.reshape((-1,1)),severity_mus.reshape((1,-1)))\n",
    "expected_by_slimit = expected_by_slimit.round().astype(int)\n",
    "\n",
    "expected_by_weather = np.dot(weather_sums.reshape((-1,1)),severity_mus.reshape((1,-1)))\n",
    "expected_by_weather = expected_by_weather.round().astype(int)"
   ]
  },
  {
   "cell_type": "markdown",
   "metadata": {},
   "source": [
    "### Proportion of accidents in each severity category by speed limit"
   ]
  },
  {
   "cell_type": "code",
   "execution_count": null,
   "metadata": {},
   "outputs": [],
   "source": [
    "slimit20= df[df[\"Speed_limit\"] == 20]\n",
    "slimit30= df[df[\"Speed_limit\"] == 30]\n",
    "slimit40= df[df[\"Speed_limit\"] == 40]\n",
    "slimit50= df[df[\"Speed_limit\"] == 50]\n",
    "slimit60= df[df[\"Speed_limit\"] == 60]\n",
    "slimit70= df[df[\"Speed_limit\"] == 70]\n",
    "\n",
    "slimit_severities = np.vstack(((slimit20.Accident_Severity.value_counts(),\n",
    "                              slimit30.Accident_Severity.value_counts(),\n",
    "                              slimit40.Accident_Severity.value_counts(),\n",
    "                              slimit50.Accident_Severity.value_counts(),\n",
    "                              slimit60.Accident_Severity.value_counts(),\n",
    "                              slimit70.Accident_Severity.value_counts(),)))\n",
    "\n",
    "slimit_severities = slimit_severities / slimit_severities.sum(axis=1).reshape((6,-1))\n",
    "slimit_severities\n",
    "\n",
    "fig, ax = plt.subplots()\n",
    "ax.bar(range(len(slimit_severities)), slimit_severities[:,0])\n",
    "ax.bar(range(len(slimit_severities)), slimit_severities[:,1], bottom=slimit_severities[:,0])\n",
    "ax.bar(range(len(slimit_severities)), slimit_severities[:,2], bottom=slimit_severities[:,0] + slimit_severities[:,1])\n",
    "\n",
    "ax.set_xticks(np.arange(0,6))                                                                                                                \n",
    "ax.set_xticklabels(np.arange(2,8)*10)\n",
    "ax.set_title(\"Proportions of severity 1,2,3 accidents at speed limits 20-70\")\n",
    "None"
   ]
  },
  {
   "cell_type": "markdown",
   "metadata": {},
   "source": [
    "### Hypothesis testing and results"
   ]
  },
  {
   "cell_type": "code",
   "execution_count": null,
   "metadata": {},
   "outputs": [],
   "source": [
    "# calculating p values under null hypothesis of varying categories not having effect\n",
    "p_values_roadsc = f.calculate_p_values(actuals_severity_roadsc,expected_by_roadsc)\n",
    "p_values_slimit = f.calculate_p_values(actuals_severity_slimit,expected_by_slimit)\n",
    "p_values_weather = f.calculate_p_values(actuals_severity_weather,expected_by_weather)"
   ]
  },
  {
   "cell_type": "code",
   "execution_count": null,
   "metadata": {},
   "outputs": [],
   "source": [
    "print(f'p-value for dry roads: {p_values_roadsc[0]}',\"\\n\",f'p-value for icy roads: {p_values_roadsc[1]}',\"\\n\"\n",
    "      ,f'p-value for wet roads: {p_values_roadsc[2]}',\"\\n\\n\")\n",
    "print(f'p-value for 10mph speed limit: {p_values_slimit[0]}',\"\\n\",\n",
    "     f'p-value for 20mph speed limit: {p_values_slimit[1]}',\"\\n\",\n",
    "     f'p-value for 30mph speed limit: {p_values_slimit[2]}',\"\\n\",\n",
    "     f'p-value for 40mph speed limit: {p_values_slimit[3]}',\"\\n\",\n",
    "     f'p-value for 50mph speed limit: {p_values_slimit[4]}',\"\\n\",\n",
    "     f'p-value for 60mph speed limit: {p_values_slimit[5]}',\"\\n\")\n",
    "print(f'p-value for sunny weather: {p_values_weather[0]}',\"\\n\",f'p-value for rainy weather: {p_values_weather[1]}')"
   ]
  },
  {
   "cell_type": "markdown",
   "metadata": {},
   "source": [
    "### Significant difference testing"
   ]
  },
  {
   "cell_type": "code",
   "execution_count": null,
   "metadata": {},
   "outputs": [],
   "source": [
    "difference = .1\n",
    "\n",
    "dangerous_severities = severity_mus\n",
    "safer_severities = severity_mus\n",
    "dangerous_severities[0] = severity_mus[0]*(1+difference)\n",
    "safer_severities[0] = severity_mus[0]*(1-difference)\n",
    "#After adding the difference, they must be normalized as ratios of each always sum to 1!\n",
    "safer_severities = safer_severities / safer_severities.sum()\n",
    "dangerous_severities = dangerous_severities / dangerous_severities.sum()"
   ]
  },
  {
   "cell_type": "code",
   "execution_count": null,
   "metadata": {},
   "outputs": [],
   "source": [
    "safer_by_roadsc = np.dot(roadsc_sums.reshape((-1,1)),safer_severities.reshape((1,-1)))\n",
    "safer_by_roadsc = safer_by_roadsc.round().astype(int)\n",
    "\n",
    "dangerous_by_roadsc = np.dot(roadsc_sums.reshape((-1,1)),dangerous_severities.reshape((1,-1)))\n",
    "dangerous_by_roadsc = dangerous_by_roadsc.round().astype(int)\n",
    "\n",
    "safer_by_slimit = np.dot(slimit_sums.reshape((-1,1)),safer_severities.reshape((1,-1)))\n",
    "safer_by_slimit = safer_by_slimit.round().astype(int)\n",
    "\n",
    "dangerous_by_slimit = np.dot(slimit_sums.reshape((-1,1)),dangerous_severities.reshape((1,-1)))\n",
    "dangerous_by_slimit = dangerous_by_slimit.round().astype(int)\n",
    "\n",
    "safer_by_weather = np.dot(weather_sums.reshape((-1,1)),safer_severities.reshape((1,-1)))\n",
    "safer_by_weather = safer_by_weather.round().astype(int)\n",
    "\n",
    "dangerous_by_weather = np.dot(weather_sums.reshape((-1,1)),dangerous_severities.reshape((1,-1)))\n",
    "dangerous_by_weather = dangerous_by_weather.round().astype(int)"
   ]
  },
  {
   "cell_type": "code",
   "execution_count": null,
   "metadata": {},
   "outputs": [],
   "source": [
    "s_p_values_roadsc = f.calculate_p_values(actuals_severity_roadsc,safer_by_roadsc)\n",
    "s_p_values_slimit = f.calculate_p_values(actuals_severity_slimit,safer_by_slimit)\n",
    "s_p_values_weather = f.calculate_p_values(actuals_severity_weather,safer_by_weather)\n",
    "d_p_values_roadsc = f.calculate_p_values(actuals_severity_roadsc,dangerous_by_roadsc)\n",
    "d_p_values_slimit = f.calculate_p_values(actuals_severity_slimit,dangerous_by_slimit)\n",
    "d_p_values_weather = f.calculate_p_values(actuals_severity_weather,dangerous_by_weather)\n",
    "\n",
    "\n",
    "print(s_p_values_roadsc[s_p_values_roadsc > .001])\n",
    "print(s_p_values_slimit[s_p_values_slimit > .001])\n",
    "print(s_p_values_weather[s_p_values_weather > .001])\n",
    "print(d_p_values_roadsc[d_p_values_roadsc > .001])\n",
    "print(d_p_values_slimit[d_p_values_slimit > .001])\n",
    "print(d_p_values_weather[d_p_values_weather > .001])\n",
    "\n",
    "# print(s_p_values_roadsc)\n",
    "# print(s_p_values_slimit)\n",
    "# print(s_p_values_weather)\n",
    "# print(d_p_values_roadsc)\n",
    "# print(d_p_values_slimit)\n",
    "# print(d_p_values_weather)\n"
   ]
  }
 ],
 "metadata": {
  "kernelspec": {
   "display_name": "Python 3",
   "language": "python",
   "name": "python3"
  },
  "language_info": {
   "codemirror_mode": {
    "name": "ipython",
    "version": 3
   },
   "file_extension": ".py",
   "mimetype": "text/x-python",
   "name": "python",
   "nbconvert_exporter": "python",
   "pygments_lexer": "ipython3",
   "version": "3.7.1"
  }
 },
 "nbformat": 4,
 "nbformat_minor": 2
}
