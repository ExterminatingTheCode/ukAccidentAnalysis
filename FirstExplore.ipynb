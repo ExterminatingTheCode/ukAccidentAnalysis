{
 "cells": [
  {
   "cell_type": "code",
   "execution_count": null,
   "metadata": {},
   "outputs": [],
   "source": []
  },
  {
   "cell_type": "code",
   "execution_count": null,
   "metadata": {},
   "outputs": [],
   "source": []
  },
  {
   "cell_type": "code",
   "execution_count": 1,
   "metadata": {},
   "outputs": [],
   "source": [
    "%matplotlib inline\n",
    "\n",
    "import numpy as np\n",
    "import matplotlib.pyplot as plt\n",
    "import scipy.stats as stats\n",
    "import pandas as pd\n",
    "from scipy.spatial import distance\n",
    "from sklearn.metrics.pairwise import haversine_distances\n",
    "import functions as f\n",
    "\n",
    "# Always make it pretty. Always.\n",
    "plt.style.use('ggplot')"
   ]
  },
  {
   "cell_type": "code",
   "execution_count": 140,
   "metadata": {
    "scrolled": true
   },
   "outputs": [],
   "source": [
    "df1 = pd.read_csv(\"data/accidents_2005_to_2007.csv\")\n",
    "df2 = pd.read_csv(\"data/accidents_2009_to_2011.csv\")\n",
    "df3 = pd.read_csv(\"data/accidents_2012_to_2014.csv\")\n",
    "traffic = pd.read_csv(\"data/ukTrafficAADF.csv\")\n",
    "\n",
    "# df12 = pd.concat([df1,df2])\n",
    "df = pd.concat([df1, df2, df3])\n",
    "\n",
    "df = df.drop_duplicates(subset=['Accident_Index','Date','LSOA_of_Accident_Location','Time','Longitude','Latitude'], keep='first')\n",
    "\n",
    "df = df[df.Speed_limit !=15]\n",
    "\n",
    "df1 = df1.dropna(subset=['Longitude'])\n",
    "df = df.dropna(subset=['Longitude'])\n"
   ]
  },
  {
   "cell_type": "code",
   "execution_count": 22,
   "metadata": {},
   "outputs": [],
   "source": [
    "df4 = pd.read_csv(\"data/Accidents0515.csv\")\n",
    "df5 = pd.read_csv(\"data/Casualties0514.csv\")\n",
    "df6 = pd.read_csv(\"data/Vehicles0514.csv\")"
   ]
  },
  {
   "cell_type": "code",
   "execution_count": null,
   "metadata": {},
   "outputs": [],
   "source": [
    "df4 = df4[~(df4.Accident_Index.str.startswith('2015'))]"
   ]
  },
  {
   "cell_type": "code",
   "execution_count": null,
   "metadata": {},
   "outputs": [],
   "source": [
    "df4 = df4.drop_duplicates(subset=['Accident_Index','Date','LSOA_of_Accident_Location','Time','Longitude','Latitude'], keep='first')\n",
    "df4 = df4[df4.Speed_limit != 15]\n",
    "df4.Accident_Index.count()"
   ]
  },
  {
   "cell_type": "code",
   "execution_count": null,
   "metadata": {},
   "outputs": [],
   "source": [
    "traffic.columns"
   ]
  },
  {
   "cell_type": "code",
   "execution_count": null,
   "metadata": {},
   "outputs": [],
   "source": [
    "df.head()"
   ]
  },
  {
   "cell_type": "code",
   "execution_count": null,
   "metadata": {},
   "outputs": [],
   "source": [
    "del df['Police_Force']\n",
    "del df['Local_Authority_(Highway)']\n",
    "del df['Local_Authority_(District)']\n",
    "del df['Pedestrian_Crossing-Human_Control']\n",
    "del df['Pedestrian_Crossing-Physical_Facilities']\n",
    "del df['Did_Police_Officer_Attend_Scene_of_Accident']"
   ]
  },
  {
   "cell_type": "code",
   "execution_count": null,
   "metadata": {},
   "outputs": [],
   "source": [
    "df.groupby(by='Year')['Number_of_Casualties'].sum()"
   ]
  },
  {
   "cell_type": "code",
   "execution_count": null,
   "metadata": {},
   "outputs": [],
   "source": [
    "severity_totals = df.groupby('Accident_Severity').size().values\n",
    "#total is 1,469,963 number of accidents 1469963\n",
    "severity_mus = severity_totals / severity_totals.sum()\n",
    "severity_mus"
   ]
  },
  {
   "cell_type": "code",
   "execution_count": null,
   "metadata": {},
   "outputs": [],
   "source": [
    "# mu1 = 19041 / 1469963\n",
    "# mu2 = 198914 / 1469963\n",
    "# mu3 = 1252008 / 1469963"
   ]
  },
  {
   "cell_type": "code",
   "execution_count": null,
   "metadata": {},
   "outputs": [],
   "source": [
    "df.groupby(by='Year')['Number_of_Casualties'].sum()"
   ]
  },
  {
   "cell_type": "code",
   "execution_count": null,
   "metadata": {},
   "outputs": [],
   "source": []
  },
  {
   "cell_type": "code",
   "execution_count": null,
   "metadata": {},
   "outputs": [],
   "source": [
    "df.groupby('Year').size()\n",
    "# Year\n",
    "# 2005    198722\n",
    "# 2006    189157\n",
    "# 2007    182114\n",
    "# 2009    163550\n",
    "# 2010    154411\n",
    "# 2011    151466\n",
    "# 2012    145569\n",
    "# 2013    138657\n",
    "# 2014    146317\n",
    "# dtype: int64\n",
    "\n",
    "# Year\n",
    "# 2005    198727\n",
    "# 2006    189160\n",
    "# 2007    182114\n",
    "# 2009    163553\n",
    "# 2010    154413\n",
    "# 2011    151467\n",
    "# 2012    145569\n",
    "# 2013    138658\n",
    "# 2014    146319\n",
    "# dtype: int64"
   ]
  },
  {
   "cell_type": "code",
   "execution_count": null,
   "metadata": {},
   "outputs": [],
   "source": [
    "df.describe()"
   ]
  },
  {
   "cell_type": "code",
   "execution_count": null,
   "metadata": {},
   "outputs": [],
   "source": [
    "df.Weather_Conditions.value_counts()"
   ]
  },
  {
   "cell_type": "code",
   "execution_count": null,
   "metadata": {},
   "outputs": [],
   "source": [
    "df.Accident_Severity.value_counts()"
   ]
  },
  {
   "cell_type": "code",
   "execution_count": null,
   "metadata": {},
   "outputs": [],
   "source": [
    "df.groupby(['Accident_Severity','Speed_limit']).sum()\n",
    "severity_speed_limit = np.reshape(df.groupby(['Accident_Severity','Speed_limit']).size().values,(3,7))\n",
    "\n",
    "severity_speed_limit[0]=severity_speed_limit[0]/severity_speed_limit[0].sum()\n",
    "type(severity_speed_limit[0][0])\n",
    "\n",
    "# severity_by_speed = ([(severity_speed_limit[0][:]/severity_speed_limit[0].sum()),\n",
    "#                         (severity_speed_limit[1][:]/severity_speed_limit[1].sum()),\n",
    "#                         (severity_speed_limit[2][:]/severity_speed_limit[2].sum())])\n",
    "# severity_by_speed"
   ]
  },
  {
   "cell_type": "code",
   "execution_count": null,
   "metadata": {},
   "outputs": [],
   "source": [
    "actuals_severity_slimits = np.transpose(np.reshape(df.groupby(['Accident_Severity','Speed_limit']).count()['Accident_Index'].values,(3,7)))\n",
    "actuals_severity_slimits"
   ]
  },
  {
   "cell_type": "code",
   "execution_count": null,
   "metadata": {},
   "outputs": [],
   "source": [
    "sums2 = df.groupby(['Accident_Severity','Speed_limit']).count().groupby('Accident_Severity').sum()['Accident_Index']\n",
    "severity_sums = df.groupby(['Accident_Severity','Speed_limit']).count().groupby('Accident_Severity').sum()['Accident_Index'].values\n",
    "severity_mus = severity_sums/severity_sums.sum()\n",
    "severity_mus"
   ]
  },
  {
   "cell_type": "code",
   "execution_count": null,
   "metadata": {},
   "outputs": [],
   "source": [
    "sums = df.groupby(['Speed_limit']).count()['Accident_Index']\n",
    "slimit_sums = df.groupby(['Speed_limit']).count()['Accident_Index'].values\n",
    "slimit_sums"
   ]
  },
  {
   "cell_type": "code",
   "execution_count": null,
   "metadata": {},
   "outputs": [],
   "source": [
    "# slimit10_expected = np.zeros(3)\n",
    "# for i in np.arange(3):\n",
    "#     expected_by_slimit[i][0] = slimit_sums[0] * severity_mus[i]\n",
    "# slimit20_expected = np.zeros(3)\n",
    "# for i in np.arange(3):\n",
    "#     expected_by_slimit[i][1] = slimit_sums[1] * severity_mus[i]\n",
    "# slimit30_expected = np.zeros(3)\n",
    "# for i in np.arange(3):\n",
    "#     expected_by_slimit[i][2] = slimit_sums[2] * severity_mus[i]\n",
    "# slimit40_expected = np.zeros(3)\n",
    "# for i in np.arange(3):\n",
    "#     expected_by_slimit[i][3] = slimit_sums[3] * severity_mus[i]\n",
    "# slimit50_expected = np.zeros(3)\n",
    "# for i in np.arange(3):\n",
    "#     expected_by_slimit[i][4] = slimit_sums[4] * severity_mus[i]\n",
    "# slimit60_expected = np.zeros(3)\n",
    "# for i in np.arange(3):\n",
    "#     expected_by_slimit[i][5] = slimit_sums[5] * severity_mus[i]\n",
    "# slimit70_expected = np.zeros(3)\n",
    "# for i in np.arange(3):\n",
    "#     expected_by_slimit[i][6] = slimit_sums[6] * severity_mus[i]\n",
    "# slimit70_expected\n",
    "\n",
    "\n",
    "expected_by_slimit = np.zeros((7,3))\n",
    "for i in np.arange(7):\n",
    "    for j in np.arange(3):\n",
    "        expected_by_slimit[i][j] = slimit_sums[i] * severity_mus[j]\n",
    "expected_by_slimit"
   ]
  },
  {
   "cell_type": "code",
   "execution_count": null,
   "metadata": {},
   "outputs": [],
   "source": [
    "#actual number of severity category 1, 2, 3, under speed limits...uh...10,20,30 &c\n",
    "actuals_severity_slimits"
   ]
  },
  {
   "cell_type": "code",
   "execution_count": null,
   "metadata": {},
   "outputs": [],
   "source": [
    "expected_by_slimit = expected_by_slimit.round().astype(int)\n",
    "expected_by_slimit\n",
    "expected_by_slimit.sum(axis=1)"
   ]
  },
  {
   "cell_type": "code",
   "execution_count": null,
   "metadata": {},
   "outputs": [],
   "source": [
    "i = 2\n",
    "print( \"actual\", actuals_severity_slimits[i] )\n",
    "print( \"expected\", expected_by_slimit[i] )\n",
    "print( stats.chisquare( actuals_severity_slimits[i], expected_by_slimit[i] ) )"
   ]
  },
  {
   "cell_type": "code",
   "execution_count": null,
   "metadata": {},
   "outputs": [],
   "source": [
    "pvalues = np.zeros(7)\n",
    "\n",
    "# stats.chisquare(actuals_severity_slimits[0],expected_by_slimit[0])[1]\n",
    "\n",
    "for i in np.arange(7):\n",
    "    pvalues[i] = stats.chisquare(actuals_severity_slimits[i],expected_by_slimit[i])[1]\n",
    "\n",
    "pvalues\n",
    "\n",
    "# stats.chisquare(actuals_severity_slimits[2],expected_by_slimit[2])[1]\n",
    "# actuals_severity_slimits[2]\n",
    "# expected_by_slimit[2]\n"
   ]
  },
  {
   "cell_type": "code",
   "execution_count": null,
   "metadata": {},
   "outputs": [],
   "source": [
    "years = df.groupby(['Year']).count()['Accident_Index']\n",
    "years"
   ]
  },
  {
   "cell_type": "code",
   "execution_count": null,
   "metadata": {},
   "outputs": [],
   "source": [
    "mus = df.groupby(['Accident_Severity','Speed_limit']).count()['Accident_Index']/sums2\n",
    "mus"
   ]
  },
  {
   "cell_type": "code",
   "execution_count": null,
   "metadata": {},
   "outputs": [],
   "source": []
  },
  {
   "cell_type": "code",
   "execution_count": null,
   "metadata": {},
   "outputs": [],
   "source": [
    "df.Speed_limit.value_counts()"
   ]
  },
  {
   "cell_type": "code",
   "execution_count": null,
   "metadata": {},
   "outputs": [],
   "source": [
    "df.Light_Conditions.value_counts()\n",
    "\n",
    "fig, ax = plt.subplots()\n",
    "\n",
    "labels = 'Daylight', 'Dark/Lit', 'Dark', 'Unkown', 'Dark Unlit'\n",
    "\n",
    "ax.pie(df.Light_Conditions.value_counts(), labels=labels)"
   ]
  },
  {
   "cell_type": "code",
   "execution_count": null,
   "metadata": {},
   "outputs": [],
   "source": [
    "df.Road_Surface_Conditions.value_counts()\n",
    "\n",
    "fig, ax = plt.subplots()\n",
    "\n",
    "labels = 'Dry', 'Wet/Damp', 'Frost/Ice', 'Snow', 'Flood'\n",
    "\n",
    "ax.pie(df.Road_Surface_Conditions.value_counts(), labels=labels)"
   ]
  },
  {
   "cell_type": "code",
   "execution_count": null,
   "metadata": {},
   "outputs": [],
   "source": [
    "df.Carriageway_Hazards.value_counts()"
   ]
  },
  {
   "cell_type": "code",
   "execution_count": null,
   "metadata": {},
   "outputs": [],
   "source": [
    "df.Urban_or_Rural_Area.value_counts()\n",
    "\n",
    "fig, ax = plt.subplots(1,2)\n",
    "\n",
    "labels = 'Urban', 'Rural', 'Other'\n",
    "\n",
    "# ax.pie(df.Urban_or_Rural_Area.value_counts(), labels=labels)\n",
    "\n",
    "urban = df[df[\"Urban_or_Rural_Area\"] == 1]\n",
    "rural = df[df[\"Urban_or_Rural_Area\"] == 2]\n",
    "\n",
    "labels = 'Dry', 'Wet/Damp', 'Frost/Ice', 'Snow', 'Flood'\n",
    "\n",
    "ax[0].pie(urban.Road_Surface_Conditions.value_counts(), labels=labels)\n",
    "ax[1].pie(rural.Road_Surface_Conditions.value_counts(), labels=labels)"
   ]
  },
  {
   "cell_type": "code",
   "execution_count": null,
   "metadata": {},
   "outputs": [],
   "source": [
    "df.Special_Conditions_at_Site.value_counts()"
   ]
  },
  {
   "cell_type": "code",
   "execution_count": null,
   "metadata": {},
   "outputs": [],
   "source": []
  },
  {
   "cell_type": "code",
   "execution_count": null,
   "metadata": {},
   "outputs": [],
   "source": []
  },
  {
   "cell_type": "code",
   "execution_count": null,
   "metadata": {},
   "outputs": [],
   "source": [
    "df.Road_Type.value_counts()\n",
    "\n",
    "single= df[df[\"Road_Type\"] == 'Single carriageway']\n",
    "dual= df[df[\"Road_Type\"] == 'Dual carriageway']\n",
    "roundabout= df[df[\"Road_Type\"] == 'Roundabout']\n",
    "one_way= df[df[\"Road_Type\"] == 'One way street']\n",
    "slip= df[df[\"Road_Type\"] == 'Slip road']\n",
    "\n",
    "fig, ax = plt.subplots(2,3,figsize = (18,8))\n",
    "\n",
    "labels = 'Dry', 'Wet/Damp', 'Frost/Ice', 'Snow', 'Flood'\n",
    "\n",
    "ax[0][0].pie(single.Road_Surface_Conditions.value_counts(), labels=labels)\n",
    "ax[0][1].pie(dual.Road_Surface_Conditions.value_counts(), labels=labels)\n",
    "ax[0][2].pie(roundabout.Road_Surface_Conditions.value_counts(), labels=labels)\n",
    "ax[1][0].pie(one_way.Road_Surface_Conditions.value_counts(), labels=labels)\n",
    "ax[1][1].pie(slip.Road_Surface_Conditions.value_counts(), labels=labels)\n",
    "\n",
    "ax[0][0].set_title('Single Carriageway')\n",
    "ax[0][1].set_title('Dual Carriageway')\n",
    "ax[0][2].set_title('Roundabout')\n",
    "ax[1][0].set_title('One way street')\n",
    "ax[1][1].set_title('Slip Road')\n",
    "\n",
    "# Single carriageway    423414\n",
    "# Dual carriageway       87274\n",
    "# Roundabout             36637\n",
    "# One way street         12434\n",
    "# Slip road               5936\n",
    "# Unknown                 4316"
   ]
  },
  {
   "cell_type": "code",
   "execution_count": null,
   "metadata": {
    "scrolled": true
   },
   "outputs": [],
   "source": [
    "limit20= df2[df2[\"Speed_limit\"] == 20]\n",
    "limit30= df2[df2[\"Speed_limit\"] == 30]\n",
    "limit40= df2[df2[\"Speed_limit\"] == 40]\n",
    "limit50= df2[df2[\"Speed_limit\"] == 50]\n",
    "limit60= df2[df2[\"Speed_limit\"] == 60]\n",
    "limit70= df2[df2[\"Speed_limit\"] == 70]\n",
    "count = {20:0,30:0,40:0,50:0,60:0,70:0}\n",
    "\n",
    "for key, value in count.items():\n",
    "    count[key] = len(df2[df2[\"Speed_limit\"] == key].index)\n",
    "    \n",
    "\n",
    "slimit20= df[df[\"Speed_limit\"] == 20]\n",
    "slimit30= df[df[\"Speed_limit\"] == 30]\n",
    "slimit40= df[df[\"Speed_limit\"] == 40]\n",
    "slimit50= df[df[\"Speed_limit\"] == 50]\n",
    "slimit60= df[df[\"Speed_limit\"] == 60]\n",
    "slimit70= df[df[\"Speed_limit\"] == 70]\n",
    "counts = {20:0,30:0,40:0,50:0,60:0,70:0}\n",
    "\n",
    "for key, value in counts.items():\n",
    "    counts[key] = len(df[df[\"Speed_limit\"] == key].index)\n",
    "    \n",
    "sslimit20= df3[df3[\"Speed_limit\"] == 20]\n",
    "sslimit30= df3[df3[\"Speed_limit\"] == 30]\n",
    "sslimit40= df3[df3[\"Speed_limit\"] == 40]\n",
    "sslimit50= df3[df3[\"Speed_limit\"] == 50]\n",
    "sslimit60= df3[df3[\"Speed_limit\"] == 60]\n",
    "sslimit70= df3[df3[\"Speed_limit\"] == 70]\n",
    "countss = {20:0,30:0,40:0,50:0,60:0,70:0}\n",
    "\n",
    "for key, value in countss.items():\n",
    "    countss[key] = len(df[df[\"Speed_limit\"] == key].index)\n",
    "\n",
    "fig, ax = plt.subplots(6,3,figsize = (18,24))\n",
    "\n",
    "labels = 'Dry', 'Wet/Damp', 'Frost/Ice', 'Snow', 'Flood'\n",
    "\n",
    "ax[0][0].pie(limit20.Road_Surface_Conditions.value_counts(), labels=labels)\n",
    "ax[0][1].pie(limit30.Road_Surface_Conditions.value_counts(), labels=labels)\n",
    "ax[0][2].pie(limit40.Road_Surface_Conditions.value_counts(), labels=labels)\n",
    "ax[3][0].pie(limit50.Road_Surface_Conditions.value_counts(), labels=labels)\n",
    "ax[3][1].pie(limit60.Road_Surface_Conditions.value_counts(), labels=labels)\n",
    "ax[3][2].pie(limit70.Road_Surface_Conditions.value_counts(), labels=labels)\n",
    "\n",
    "ax[0][0].set_title(f'Speed 20, n = {count[20]}')\n",
    "ax[0][1].set_title(f'Speed 30, n = {count[30]}')\n",
    "ax[0][2].set_title(f'Speed 40, n = {count[40]}')\n",
    "ax[3][0].set_title(f'Speed 50, n = {count[50]}')\n",
    "ax[3][1].set_title(f'Speed 60, n = {count[60]}')\n",
    "ax[3][2].set_title(f'Speed 70, n = {count[70]}')\n",
    "\n",
    "ax[1][0].pie(slimit20.Road_Surface_Conditions.value_counts(), labels=labels)\n",
    "ax[1][1].pie(slimit30.Road_Surface_Conditions.value_counts(), labels=labels)\n",
    "ax[1][2].pie(slimit40.Road_Surface_Conditions.value_counts(), labels=labels)\n",
    "ax[4][0].pie(slimit50.Road_Surface_Conditions.value_counts(), labels=labels)\n",
    "ax[4][1].pie(slimit60.Road_Surface_Conditions.value_counts(), labels=labels)\n",
    "ax[4][2].pie(slimit70.Road_Surface_Conditions.value_counts(), labels=labels)\n",
    "\n",
    "ax[1][0].set_title(f'Speed 20, n = {counts[20]}')\n",
    "ax[1][1].set_title(f'Speed 30, n = {counts[30]}')\n",
    "ax[1][2].set_title(f'Speed 40, n = {counts[40]}')\n",
    "ax[4][0].set_title(f'Speed 50, n = {counts[50]}')\n",
    "ax[4][1].set_title(f'Speed 60, n = {counts[60]}')\n",
    "ax[4][2].set_title(f'Speed 70, n = {counts[70]}')\n",
    "\n",
    "ax[2][0].pie(sslimit20.Road_Surface_Conditions.value_counts(), labels=labels)\n",
    "ax[2][1].pie(sslimit30.Road_Surface_Conditions.value_counts(), labels=labels)\n",
    "ax[2][2].pie(sslimit40.Road_Surface_Conditions.value_counts(), labels=labels)\n",
    "ax[5][0].pie(sslimit50.Road_Surface_Conditions.value_counts(), labels=labels)\n",
    "ax[5][1].pie(sslimit60.Road_Surface_Conditions.value_counts(), labels=labels)\n",
    "ax[5][2].pie(sslimit70.Road_Surface_Conditions.value_counts(), labels=labels)\n",
    "\n",
    "ax[2][0].set_title(f'Speed 20, n = {countss[20]}')\n",
    "ax[2][1].set_title(f'Speed 30, n = {countss[30]}')\n",
    "ax[2][2].set_title(f'Speed 40, n = {countss[40]}')\n",
    "ax[5][0].set_title(f'Speed 50, n = {countss[50]}')\n",
    "ax[5][1].set_title(f'Speed 60, n = {countss[60]}')\n",
    "ax[5][2].set_title(f'Speed 70, n = {countss[70]}')\n"
   ]
  },
  {
   "cell_type": "code",
   "execution_count": null,
   "metadata": {},
   "outputs": [],
   "source": [
    "slimit20= df[df[\"Speed_limit\"] == 20]\n",
    "slimit30= df[df[\"Speed_limit\"] == 30]\n",
    "slimit40= df[df[\"Speed_limit\"] == 40]\n",
    "slimit50= df[df[\"Speed_limit\"] == 50]\n",
    "slimit60= df[df[\"Speed_limit\"] == 60]\n",
    "slimit70= df[df[\"Speed_limit\"] == 70]\n",
    "\n",
    "slimit_severities = np.vstack(((slimit20.Accident_Severity.value_counts(),\n",
    "                              slimit30.Accident_Severity.value_counts(),\n",
    "                              slimit40.Accident_Severity.value_counts(),\n",
    "                              slimit50.Accident_Severity.value_counts(),\n",
    "                              slimit60.Accident_Severity.value_counts(),\n",
    "                              slimit70.Accident_Severity.value_counts(),)))\n",
    "\n",
    "slimit_severities = slimit_severities / slimit_severities.sum(axis=1).reshape((6,-1))\n",
    "slimit_severities\n",
    "\n",
    "fig, ax = plt.subplots()\n",
    "ax.bar(range(len(slimit_severities)), slimit_severities[:,0])\n",
    "ax.bar(range(len(slimit_severities)), slimit_severities[:,1], bottom=slimit_severities[:,0])\n",
    "ax.bar(range(len(slimit_severities)), slimit_severities[:,2], bottom=slimit_severities[:,0] + slimit_severities[:,1])\n",
    "\n",
    "ax.set_xticks(np.arange(0,6))                                                                                                                \n",
    "ax.set_xticklabels(np.arange(2,8)*10)\n"
   ]
  },
  {
   "cell_type": "code",
   "execution_count": null,
   "metadata": {},
   "outputs": [],
   "source": [
    "df.groupby(['Accident_Severity','Speed_limit']).size()"
   ]
  },
  {
   "cell_type": "code",
   "execution_count": null,
   "metadata": {},
   "outputs": [],
   "source": [
    "traffic.head()"
   ]
  },
  {
   "cell_type": "code",
   "execution_count": null,
   "metadata": {},
   "outputs": [],
   "source": [
    "traffic.Road.value_counts()"
   ]
  },
  {
   "cell_type": "code",
   "execution_count": null,
   "metadata": {},
   "outputs": [],
   "source": [
    "traffic.Northing.value_counts()"
   ]
  },
  {
   "cell_type": "code",
   "execution_count": null,
   "metadata": {},
   "outputs": [],
   "source": [
    "traffic.Estimation_method_detailed.value_counts()"
   ]
  },
  {
   "cell_type": "code",
   "execution_count": null,
   "metadata": {},
   "outputs": [],
   "source": []
  },
  {
   "cell_type": "code",
   "execution_count": null,
   "metadata": {},
   "outputs": [],
   "source": []
  },
  {
   "cell_type": "code",
   "execution_count": null,
   "metadata": {},
   "outputs": [],
   "source": [
    "x = np.arange(4).reshape((2,2))\n",
    "x"
   ]
  },
  {
   "cell_type": "code",
   "execution_count": null,
   "metadata": {},
   "outputs": [],
   "source": [
    "np.transpose(x)"
   ]
  },
  {
   "cell_type": "code",
   "execution_count": null,
   "metadata": {},
   "outputs": [],
   "source": [
    "x"
   ]
  },
  {
   "cell_type": "code",
   "execution_count": null,
   "metadata": {},
   "outputs": [],
   "source": [
    "traffic.columns"
   ]
  },
  {
   "cell_type": "code",
   "execution_count": null,
   "metadata": {},
   "outputs": [],
   "source": [
    "traffic['StartJunction'].value_counts()"
   ]
  },
  {
   "cell_type": "code",
   "execution_count": null,
   "metadata": {},
   "outputs": [],
   "source": [
    "traffic_locations = traffic[['Lat','Lon']]\n",
    "traffic_locations.head()"
   ]
  },
  {
   "cell_type": "code",
   "execution_count": null,
   "metadata": {},
   "outputs": [],
   "source": [
    "df1_locations = df1[['Latitude','Longitude']]\n",
    "df1_locations.head()"
   ]
  },
  {
   "cell_type": "code",
   "execution_count": null,
   "metadata": {},
   "outputs": [],
   "source": [
    "df_locations = df[['Latitude', 'Longitude']]"
   ]
  },
  {
   "cell_type": "code",
   "execution_count": null,
   "metadata": {},
   "outputs": [],
   "source": [
    "df[['Accident_Index','Date','LSOA_of_Accident_Location','Time','Longitude','Latitude']].head()"
   ]
  },
  {
   "cell_type": "code",
   "execution_count": null,
   "metadata": {},
   "outputs": [],
   "source": [
    "df['Road_Type'].value_counts()\n"
   ]
  },
  {
   "cell_type": "code",
   "execution_count": null,
   "metadata": {},
   "outputs": [],
   "source": [
    "Accident_Index,\n",
    "Vehicle_Reference,\n",
    "Casualty_Reference,\n",
    "Casualty_Class,\n",
    "Sex_of_Casualty,\n",
    "Age_of_Casualty,\n",
    "Age_Band_of_Casualty,\n",
    "Casualty_Severity,\n",
    "Pedestrian_Location,\n",
    "Pedestrian_Movement,\n",
    "Car_Passenger,\n",
    "Bus_or_Coach_Passenger,\n",
    "Pedestrian_Road_Maintenance_Worker,\n",
    "Casualty_Type,\n",
    "Casualty_Home_Area_Type\n"
   ]
  },
  {
   "cell_type": "code",
   "execution_count": null,
   "metadata": {},
   "outputs": [],
   "source": [
    "# df1['1st_Road_Class'].value_counts()\n",
    "# df1['1st_Road_Number'].value_counts()\n",
    "# df1['Road_Type'].value_counts()\n",
    "# df1['Speed_limit'].value_counts()\n",
    "# df1['Junction_Detail'].value_counts()\n",
    "# df1['Junction_Control'].value_counts()\n",
    "# df1['2nd_Road_Class'].value_counts()\n",
    "df1['2nd_Road_Number'].value_counts()"
   ]
  },
  {
   "cell_type": "code",
   "execution_count": null,
   "metadata": {},
   "outputs": [],
   "source": [
    "len_df1 = len(df1)"
   ]
  },
  {
   "cell_type": "code",
   "execution_count": null,
   "metadata": {},
   "outputs": [],
   "source": [
    "# from scipy.spatial import distance_matrix\n",
    "\n",
    "# distances = distance_matrix(df1_locations, traffic_locations)"
   ]
  },
  {
   "cell_type": "code",
   "execution_count": null,
   "metadata": {},
   "outputs": [],
   "source": [
    "#P_df.to_pickle(\\\"data/P_df.pkl\\\")"
   ]
  },
  {
   "cell_type": "code",
   "execution_count": null,
   "metadata": {},
   "outputs": [],
   "source": [
    "def euclidean(first, second):\n",
    "    return np.sqrt(((first - second)**2).sum())"
   ]
  },
  {
   "cell_type": "code",
   "execution_count": null,
   "metadata": {},
   "outputs": [],
   "source": [
    "one = df1_locations.loc[0].values"
   ]
  },
  {
   "cell_type": "code",
   "execution_count": null,
   "metadata": {},
   "outputs": [],
   "source": [
    "two = traffic_locations.loc[0].values"
   ]
  },
  {
   "cell_type": "code",
   "execution_count": null,
   "metadata": {},
   "outputs": [],
   "source": [
    "traffic.columns"
   ]
  },
  {
   "cell_type": "code",
   "execution_count": null,
   "metadata": {},
   "outputs": [],
   "source": [
    "'''This section is to be run only once, thereafter use the second snippet to load the data'''\n",
    "\n",
    "def connectTrafficData(accData, trafData):\n",
    "    ''' \n",
    "    Parameters:\n",
    "        accData: Pandas dataframe of the accident data\n",
    "        trafData: Pandas dataframe of traffic data\n",
    "\n",
    "    In-place attaches traffic data to accData as 'Traffic' column\n",
    "    '''\n",
    "    #Haversine distance finds the actual distance between two points given their latitude and longitude\n",
    "    #Accuracy for Haversine formula is within 1%, doesn't account for ellipsoidal shape of the earth. \n",
    "    from sklearn.metrics.pairwise import haversine_distances\n",
    "\n",
    "    accLocs = accData[['Latitude', 'Longitude']].values\n",
    "    trafLocs = trafData[['Lat','Lon']].values\n",
    "\n",
    "    closest = np.ones((len(accData),2)) * 10\n",
    "\n",
    "    for i, acc in enumerate(accLocs):\n",
    "        distances = haversine_distances(acc.reshape((1,-1)),trafLocs)\n",
    "        closest[i,0] = distances.min()\n",
    "        CPindex = distances.argsort()\n",
    "        closest[i,1] = accData.loc[CPindex].CP\n",
    "    return closest\n",
    "\n",
    "closest = connectTrafficData(df1.loc[:500],traffic[traffic['AADFYear'] == 2005])\n",
    "\n",
    "\n",
    "\n",
    "# np.save('/Users/mac/galvanize/week4/ukAccidentAnalysis/distance_matrix',closest)\n",
    "\n",
    "'''This section can be run if the above code has ran on your computer'''\n",
    "# closest = np.load('/Users/mac/galvanize/week4/ukAccidentAnalysis/distance_matrix.npy')\n",
    "# df1_closest = closest[:len_df1,1]\n",
    "# df1['Traffic'] = traffic.loc[df1_closest.astype(int)].AllMotorVehicles.values"
   ]
  },
  {
   "cell_type": "code",
   "execution_count": null,
   "metadata": {},
   "outputs": [],
   "source": [
    "first_traf = traffic[['Lat','Lon']].loc[0].values\n",
    "\n",
    "all_acc = df1[['Latitude','Longitude']].values\n",
    "\n",
    "haversine_distances(first_traf.reshape((1,-1)),all_acc)[:,29008]"
   ]
  },
  {
   "cell_type": "code",
   "execution_count": null,
   "metadata": {
    "scrolled": true
   },
   "outputs": [],
   "source": [
    "df1.loc[29008]"
   ]
  },
  {
   "cell_type": "code",
   "execution_count": null,
   "metadata": {},
   "outputs": [],
   "source": [
    "test_distances = distance.cdist(df1_locations.values[0].reshape((1,-1)), traffic_locations, 'euclidean')"
   ]
  },
  {
   "cell_type": "code",
   "execution_count": null,
   "metadata": {},
   "outputs": [],
   "source": [
    "test_distances.min()\n",
    "test_distances.argmin()"
   ]
  },
  {
   "cell_type": "code",
   "execution_count": null,
   "metadata": {},
   "outputs": [],
   "source": [
    "df.shape"
   ]
  },
  {
   "cell_type": "code",
   "execution_count": null,
   "metadata": {},
   "outputs": [],
   "source": []
  },
  {
   "cell_type": "code",
   "execution_count": null,
   "metadata": {},
   "outputs": [],
   "source": [
    "closest = np.load('/Users/mac/galvanize/week4/ukAccidentAnalysis/distance_matrix.npy')"
   ]
  },
  {
   "cell_type": "code",
   "execution_count": null,
   "metadata": {},
   "outputs": [],
   "source": [
    "pwd"
   ]
  },
  {
   "cell_type": "code",
   "execution_count": null,
   "metadata": {},
   "outputs": [],
   "source": [
    "df1_closest = closest[:len_df1,1]"
   ]
  },
  {
   "cell_type": "code",
   "execution_count": null,
   "metadata": {},
   "outputs": [],
   "source": [
    "traffic.loc[df1_closest.astype(int)].AllMotorVehicles.values"
   ]
  },
  {
   "cell_type": "code",
   "execution_count": null,
   "metadata": {},
   "outputs": [],
   "source": [
    "df1_closest.astype(int)"
   ]
  },
  {
   "cell_type": "code",
   "execution_count": null,
   "metadata": {},
   "outputs": [],
   "source": [
    "df1['Traffic'] = traffic.loc[df1_closest.astype(int)].AllMotorVehicles.values"
   ]
  },
  {
   "cell_type": "code",
   "execution_count": null,
   "metadata": {},
   "outputs": [],
   "source": [
    "df1['CP'] = traffic.loc[df1_closest.astype(int)].CP.values"
   ]
  },
  {
   "cell_type": "code",
   "execution_count": null,
   "metadata": {},
   "outputs": [],
   "source": [
    "traffic_casualties = df1.groupby(['CP'])['Number_of_Casualties'].sum().values\n",
    "traffic_traffics = df1.groupby('CP')['Traffic'].mean().values"
   ]
  },
  {
   "cell_type": "code",
   "execution_count": null,
   "metadata": {},
   "outputs": [],
   "source": [
    "CarsPerCasualty = traffic_traffics / traffic_casualties"
   ]
  },
  {
   "cell_type": "code",
   "execution_count": null,
   "metadata": {},
   "outputs": [],
   "source": []
  },
  {
   "cell_type": "code",
   "execution_count": null,
   "metadata": {},
   "outputs": [],
   "source": [
    "traffic_casualties.shape\n",
    "traffic_traffics.shape\n",
    "CarsPerCasualty.shape"
   ]
  },
  {
   "cell_type": "code",
   "execution_count": null,
   "metadata": {},
   "outputs": [],
   "source": [
    "traffic_casualtiesDF = pd.DataFrame({'CP': np.unique(df1['CP'].values), 'Number_of_Casualties': traffic_casualties, 'Traffic': traffic_traffics, 'AADFPerCasualty': CarsPerCasualty})"
   ]
  },
  {
   "cell_type": "code",
   "execution_count": null,
   "metadata": {},
   "outputs": [],
   "source": [
    "traffic_casualtiesDF[traffic_casualtiesDF['AADFPerCasualty'] == 0]"
   ]
  },
  {
   "cell_type": "code",
   "execution_count": null,
   "metadata": {},
   "outputs": [],
   "source": [
    "nonzerotraffic_casulatiesDF = traffic_casualtiesDF[traffic_casualtiesDF['CP'] != 80206]"
   ]
  },
  {
   "cell_type": "code",
   "execution_count": null,
   "metadata": {},
   "outputs": [],
   "source": [
    "nonzerotraffic_casulatiesDF['AADFPerCasualty'].argmin()"
   ]
  },
  {
   "cell_type": "code",
   "execution_count": null,
   "metadata": {},
   "outputs": [],
   "source": [
    "nonzerotraffic_casulatiesDF.loc[5838]"
   ]
  },
  {
   "cell_type": "code",
   "execution_count": null,
   "metadata": {
    "scrolled": true
   },
   "outputs": [],
   "source": [
    "traffic[traffic['CP'] == 30980]"
   ]
  },
  {
   "cell_type": "code",
   "execution_count": null,
   "metadata": {},
   "outputs": [],
   "source": [
    "df1[df1['CP'] == 30980]"
   ]
  },
  {
   "cell_type": "code",
   "execution_count": null,
   "metadata": {},
   "outputs": [],
   "source": [
    "closest2007 = f.connectTrafficData(df1[df1['Year'] == 2007], traffic[traffic['AADFYear'] == 2007])"
   ]
  },
  {
   "cell_type": "code",
   "execution_count": null,
   "metadata": {},
   "outputs": [],
   "source": [
    "curAccs = df1[df1['Year'] == 2007]\n",
    "curTraf = traffic[traffic['AADFYear'] == 2007]\n",
    "curAccLocs = curAccs[['Latitude', 'Longitude']].values\n",
    "curTrafLocs = curTraf[['Lat', 'Lon']].values"
   ]
  },
  {
   "cell_type": "code",
   "execution_count": null,
   "metadata": {},
   "outputs": [],
   "source": [
    "distance = haversine_distances(curAccLocs[0].reshape((1,-1)),curTrafLocs)\n",
    "closest = distance.min()\n",
    "print(closest)\n",
    "closestIdx= distance.argmin()\n",
    "print(closestIdx)\n",
    "closestCP = curTraf.loc[closestIdx].CP\n",
    "print(closestCP)"
   ]
  },
  {
   "cell_type": "code",
   "execution_count": null,
   "metadata": {},
   "outputs": [],
   "source": [
    "curTraf.iloc[12965]"
   ]
  },
  {
   "cell_type": "code",
   "execution_count": null,
   "metadata": {},
   "outputs": [],
   "source": [
    "subset = df1[df1['Number_of_Casualties'] == 4]\n",
    "len(subset)"
   ]
  },
  {
   "cell_type": "code",
   "execution_count": null,
   "metadata": {},
   "outputs": [],
   "source": [
    "closest_subset = f.connectTrafficData(subset, traffic, inplace=False)"
   ]
  },
  {
   "cell_type": "code",
   "execution_count": 145,
   "metadata": {},
   "outputs": [
    {
     "ename": "KeyboardInterrupt",
     "evalue": "",
     "output_type": "error",
     "traceback": [
      "\u001b[0;31m---------------------------------------------------------------------------\u001b[0m",
      "\u001b[0;31mKeyboardInterrupt\u001b[0m                         Traceback (most recent call last)",
      "\u001b[0;32m<ipython-input-145-46ee81ae5cdc>\u001b[0m in \u001b[0;36m<module>\u001b[0;34m\u001b[0m\n\u001b[0;32m----> 1\u001b[0;31m \u001b[0mf\u001b[0m\u001b[0;34m.\u001b[0m\u001b[0mconnectTrafficData\u001b[0m\u001b[0;34m(\u001b[0m\u001b[0mdf\u001b[0m\u001b[0;34m,\u001b[0m \u001b[0mtraffic\u001b[0m\u001b[0;34m)\u001b[0m\u001b[0;34m\u001b[0m\u001b[0;34m\u001b[0m\u001b[0m\n\u001b[0m\u001b[1;32m      2\u001b[0m \u001b[0mdf\u001b[0m\u001b[0;34m.\u001b[0m\u001b[0mcolumns\u001b[0m\u001b[0;34m\u001b[0m\u001b[0;34m\u001b[0m\u001b[0m\n",
      "\u001b[0;32m~/galvanize/ukAccidentAnalysis/functions.py\u001b[0m in \u001b[0;36mconnectTrafficData\u001b[0;34m(accData, trafData, inplace)\u001b[0m\n\u001b[1;32m    129\u001b[0m         \u001b[0mcurTrafLocs\u001b[0m \u001b[0;34m=\u001b[0m \u001b[0mcurTraf\u001b[0m\u001b[0;34m[\u001b[0m\u001b[0;34m[\u001b[0m\u001b[0;34m'Lat'\u001b[0m\u001b[0;34m,\u001b[0m \u001b[0;34m'Lon'\u001b[0m\u001b[0;34m]\u001b[0m\u001b[0;34m]\u001b[0m\u001b[0;34m.\u001b[0m\u001b[0mcopy\u001b[0m\u001b[0;34m(\u001b[0m\u001b[0;34m)\u001b[0m\u001b[0;34m.\u001b[0m\u001b[0mvalues\u001b[0m\u001b[0;34m\u001b[0m\u001b[0;34m\u001b[0m\u001b[0m\n\u001b[1;32m    130\u001b[0m         \u001b[0;32mfor\u001b[0m \u001b[0mi\u001b[0m\u001b[0;34m,\u001b[0m \u001b[0macc\u001b[0m \u001b[0;32min\u001b[0m \u001b[0menumerate\u001b[0m\u001b[0;34m(\u001b[0m\u001b[0mcurAccLocs\u001b[0m\u001b[0;34m)\u001b[0m\u001b[0;34m:\u001b[0m\u001b[0;34m\u001b[0m\u001b[0;34m\u001b[0m\u001b[0m\n\u001b[0;32m--> 131\u001b[0;31m             \u001b[0mdistances\u001b[0m \u001b[0;34m=\u001b[0m \u001b[0mhaversine_distances\u001b[0m\u001b[0;34m(\u001b[0m\u001b[0macc\u001b[0m\u001b[0;34m.\u001b[0m\u001b[0mreshape\u001b[0m\u001b[0;34m(\u001b[0m\u001b[0;34m(\u001b[0m\u001b[0;36m1\u001b[0m\u001b[0;34m,\u001b[0m\u001b[0;34m-\u001b[0m\u001b[0;36m1\u001b[0m\u001b[0;34m)\u001b[0m\u001b[0;34m)\u001b[0m\u001b[0;34m,\u001b[0m\u001b[0mcurTrafLocs\u001b[0m\u001b[0;34m)\u001b[0m\u001b[0;34m\u001b[0m\u001b[0;34m\u001b[0m\u001b[0m\n\u001b[0m\u001b[1;32m    132\u001b[0m             \u001b[0mclosest\u001b[0m\u001b[0;34m[\u001b[0m\u001b[0mindex\u001b[0m \u001b[0;34m+\u001b[0m \u001b[0mi\u001b[0m\u001b[0;34m,\u001b[0m\u001b[0;36m0\u001b[0m\u001b[0;34m]\u001b[0m \u001b[0;34m=\u001b[0m \u001b[0mdistances\u001b[0m\u001b[0;34m.\u001b[0m\u001b[0mmin\u001b[0m\u001b[0;34m(\u001b[0m\u001b[0;34m)\u001b[0m\u001b[0;34m\u001b[0m\u001b[0;34m\u001b[0m\u001b[0m\n\u001b[1;32m    133\u001b[0m             \u001b[0mCPindex\u001b[0m \u001b[0;34m=\u001b[0m \u001b[0mdistances\u001b[0m\u001b[0;34m.\u001b[0m\u001b[0margmin\u001b[0m\u001b[0;34m(\u001b[0m\u001b[0;34m)\u001b[0m\u001b[0;34m\u001b[0m\u001b[0;34m\u001b[0m\u001b[0m\n",
      "\u001b[0;32m//anaconda3/lib/python3.7/site-packages/sklearn/metrics/pairwise.py\u001b[0m in \u001b[0;36mhaversine_distances\u001b[0;34m(X, Y)\u001b[0m\n\u001b[1;32m    577\u001b[0m     \"\"\"\n\u001b[1;32m    578\u001b[0m     \u001b[0;32mfrom\u001b[0m \u001b[0msklearn\u001b[0m\u001b[0;34m.\u001b[0m\u001b[0mneighbors\u001b[0m \u001b[0;32mimport\u001b[0m \u001b[0mDistanceMetric\u001b[0m\u001b[0;34m\u001b[0m\u001b[0;34m\u001b[0m\u001b[0m\n\u001b[0;32m--> 579\u001b[0;31m     \u001b[0;32mreturn\u001b[0m \u001b[0mDistanceMetric\u001b[0m\u001b[0;34m.\u001b[0m\u001b[0mget_metric\u001b[0m\u001b[0;34m(\u001b[0m\u001b[0;34m'haversine'\u001b[0m\u001b[0;34m)\u001b[0m\u001b[0;34m.\u001b[0m\u001b[0mpairwise\u001b[0m\u001b[0;34m(\u001b[0m\u001b[0mX\u001b[0m\u001b[0;34m,\u001b[0m \u001b[0mY\u001b[0m\u001b[0;34m)\u001b[0m\u001b[0;34m\u001b[0m\u001b[0;34m\u001b[0m\u001b[0m\n\u001b[0m\u001b[1;32m    580\u001b[0m \u001b[0;34m\u001b[0m\u001b[0m\n\u001b[1;32m    581\u001b[0m \u001b[0;34m\u001b[0m\u001b[0m\n",
      "\u001b[0;31mKeyboardInterrupt\u001b[0m: "
     ]
    }
   ],
   "source": [
    "\n",
    "f.connectTrafficData(df, traffic)\n",
    "df.columns"
   ]
  },
  {
   "cell_type": "code",
   "execution_count": 146,
   "metadata": {},
   "outputs": [],
   "source": [
    "# df.to_csv(\"data/accidents_2005_to_2014_wTraffic.csv\")\n",
    "df = pd.read_csv(\"data/accidents_2005_to_2014_wTraffic.csv\")"
   ]
  },
  {
   "cell_type": "code",
   "execution_count": null,
   "metadata": {},
   "outputs": [],
   "source": [
    "closest_subset.shape"
   ]
  },
  {
   "cell_type": "code",
   "execution_count": 11,
   "metadata": {},
   "outputs": [
    {
     "data": {
      "text/plain": [
       "1.0207305555555555"
      ]
     },
     "execution_count": 11,
     "metadata": {},
     "output_type": "execute_result"
    }
   ],
   "source": [
    "1469852/10000 * 25 /60 / 60"
   ]
  },
  {
   "cell_type": "code",
   "execution_count": null,
   "metadata": {},
   "outputs": [],
   "source": [
    "int(traffic[(traffic['CP'] == closest_subset[-1,1]) & (traffic['AADFYear'] == 2007)].AllMotorVehicles.values)"
   ]
  },
  {
   "cell_type": "code",
   "execution_count": null,
   "metadata": {},
   "outputs": [],
   "source": [
    "df1_closest = f.connectTrafficData(df1, traffic,inplace=False)\n",
    "np.save('/Users/mac/galvanize/week4/ukAccidentAnalysis/distance_matrix',closest)"
   ]
  },
  {
   "cell_type": "code",
   "execution_count": null,
   "metadata": {},
   "outputs": [],
   "source": [
    "bool(0)"
   ]
  },
  {
   "cell_type": "code",
   "execution_count": null,
   "metadata": {},
   "outputs": [],
   "source": [
    "df1.columns"
   ]
  },
  {
   "cell_type": "code",
   "execution_count": null,
   "metadata": {},
   "outputs": [],
   "source": [
    "plt.scatter(df1.Location_Easting_OSGR, df1.Location_Northing_OSGR, s=1, alpha=.3)"
   ]
  },
  {
   "cell_type": "code",
   "execution_count": 37,
   "metadata": {},
   "outputs": [
    {
     "data": {
      "text/plain": [
       "1189600.0"
      ]
     },
     "execution_count": 37,
     "metadata": {},
     "output_type": "execute_result"
    }
   ],
   "source": [
    "df1.Location_Northing_OSGR.values.max()"
   ]
  },
  {
   "cell_type": "code",
   "execution_count": 36,
   "metadata": {},
   "outputs": [
    {
     "data": {
      "text/plain": [
       "891090.0"
      ]
     },
     "execution_count": 36,
     "metadata": {},
     "output_type": "execute_result"
    }
   ],
   "source": [
    "df1.Location_Northing_OSGR.values.max() - 298510\n",
    "\n"
   ]
  },
  {
   "cell_type": "code",
   "execution_count": 48,
   "metadata": {},
   "outputs": [],
   "source": [
    "df1 = df[df['Year'] == 2005].copy()\n",
    "df1 = df1[df1['Location_Northing_OSGR'] < 991090].copy()\n",
    "\n",
    "eastings = (df1.Location_Easting_OSGR.values - df1.Location_Easting_OSGR.values.min())/(df1.Location_Easting_OSGR.values.max() - df1.Location_Easting_OSGR.values.min())\n",
    "northings = (df1.Location_Northing_OSGR.values - df1.Location_Northing_OSGR.values.min())/(df1.Location_Northing_OSGR.values.max() - df1.Location_Northing_OSGR.values.min())"
   ]
  },
  {
   "cell_type": "code",
   "execution_count": 57,
   "metadata": {},
   "outputs": [
    {
     "data": {
      "image/png": "[encoded data removed]",
      "text/plain": [
       "<Figure size 432x684 with 1 Axes>"
      ]
     },
     "metadata": {
      "needs_background": "light"
     },
     "output_type": "display_data"
    }
   ],
   "source": [
    "fig, ax = plt.subplots(figsize= (6,9.5))\n",
    "\n",
    "ax.scatter(eastings, northings * 4, s=1, alpha=1)\n",
    "ax.set_yticklabels([])\n",
    "ax.set_xticklabels([])\n",
    "ax.grid(False)\n",
    "None"
   ]
  },
  {
   "cell_type": "code",
   "execution_count": null,
   "metadata": {},
   "outputs": [],
   "source": [
    "df = df.dropna(subset=['Latitude'])\n",
    "\n",
    "eastings = (df.Location_Easting_OSGR.values - df.Location_Easting_OSGR.values.min())/(df.Location_Easting_OSGR.values.max() - df.Location_Easting_OSGR.values.min())\n",
    "northings = (df.Location_Northing_OSGR.values - df.Location_Northing_OSGR.values.min())/(df.Location_Northing_OSGR.values.max() - df.Location_Northing_OSGR.values.min())\n",
    "\n",
    "fig, ax = plt.subplots(figsize= (8,15))\n",
    "\n",
    "ax.scatter(eastings, northings * 4, s=1, alpha=.3)\n",
    "ax.set_yticklabels([])\n",
    "ax.set_xticklabels([])\n",
    "ax.grid(False)\n",
    "None\n"
   ]
  },
  {
   "cell_type": "code",
   "execution_count": 58,
   "metadata": {},
   "outputs": [
    {
     "data": {
      "text/plain": [
       "Index(['Accident_Index', 'Location_Easting_OSGR', 'Location_Northing_OSGR',\n",
       "       'Longitude', 'Latitude', 'Police_Force', 'Accident_Severity',\n",
       "       'Number_of_Vehicles', 'Number_of_Casualties', 'Date', 'Day_of_Week',\n",
       "       'Time', 'Local_Authority_(District)', 'Local_Authority_(Highway)',\n",
       "       '1st_Road_Class', '1st_Road_Number', 'Road_Type', 'Speed_limit',\n",
       "       'Junction_Detail', 'Junction_Control', '2nd_Road_Class',\n",
       "       '2nd_Road_Number', 'Pedestrian_Crossing-Human_Control',\n",
       "       'Pedestrian_Crossing-Physical_Facilities', 'Light_Conditions',\n",
       "       'Weather_Conditions', 'Road_Surface_Conditions',\n",
       "       'Special_Conditions_at_Site', 'Carriageway_Hazards',\n",
       "       'Urban_or_Rural_Area', 'Did_Police_Officer_Attend_Scene_of_Accident',\n",
       "       'LSOA_of_Accident_Location', 'Year', 'CP', 'Traffic'],\n",
       "      dtype='object')"
      ]
     },
     "execution_count": 58,
     "metadata": {},
     "output_type": "execute_result"
    }
   ],
   "source": [
    "df.columns"
   ]
  },
  {
   "cell_type": "code",
   "execution_count": 182,
   "metadata": {},
   "outputs": [
    {
     "data": {
      "text/plain": [
       "Index(['AADFYear', 'CP', 'Estimation_method', 'Estimation_method_detailed',\n",
       "       'Region', 'LocalAuthority', 'Road', 'RoadCategory', 'Easting',\n",
       "       'Northing', 'StartJunction', 'EndJunction', 'LinkLength_km',\n",
       "       'LinkLength_miles', 'PedalCycles', 'Motorcycles', 'CarsTaxis',\n",
       "       'BusesCoaches', 'LightGoodsVehicles', 'V2AxleRigidHGV',\n",
       "       'V3AxleRigidHGV', 'V4or5AxleRigidHGV', 'V3or4AxleArticHGV',\n",
       "       'V5AxleArticHGV', 'V6orMoreAxleArticHGV', 'AllHGVs', 'AllMotorVehicles',\n",
       "       'Lat', 'Lon', 'TotalCasualties', 'TotalAccidents', 'CasualtiesPerMV',\n",
       "       'AccidentsPerMV'],\n",
       "      dtype='object')"
      ]
     },
     "execution_count": 182,
     "metadata": {},
     "output_type": "execute_result"
    }
   ],
   "source": [
    "traffic.columns"
   ]
  },
  {
   "cell_type": "code",
   "execution_count": 191,
   "metadata": {},
   "outputs": [
    {
     "data": {
      "text/plain": [
       "Index(['Accident_Index', 'Location_Easting_OSGR', 'Location_Northing_OSGR',\n",
       "       'Longitude', 'Latitude', 'Police_Force', 'Accident_Severity',\n",
       "       'Number_of_Vehicles', 'Number_of_Casualties', 'Date', 'Day_of_Week',\n",
       "       'Time', 'Local_Authority_(District)', 'Local_Authority_(Highway)',\n",
       "       '1st_Road_Class', '1st_Road_Number', 'Road_Type', 'Speed_limit',\n",
       "       'Junction_Detail', 'Junction_Control', '2nd_Road_Class',\n",
       "       '2nd_Road_Number', 'Pedestrian_Crossing-Human_Control',\n",
       "       'Pedestrian_Crossing-Physical_Facilities', 'Light_Conditions',\n",
       "       'Weather_Conditions', 'Road_Surface_Conditions',\n",
       "       'Special_Conditions_at_Site', 'Carriageway_Hazards',\n",
       "       'Urban_or_Rural_Area', 'Did_Police_Officer_Attend_Scene_of_Accident',\n",
       "       'LSOA_of_Accident_Location'],\n",
       "      dtype='object')"
      ]
     },
     "execution_count": 191,
     "metadata": {},
     "output_type": "execute_result"
    }
   ],
   "source": [
    "df4.columns"
   ]
  },
  {
   "cell_type": "code",
   "execution_count": 160,
   "metadata": {},
   "outputs": [],
   "source": [
    "traffic['CasualtiesPerMV'] = traffic['TotalCasualties']/traffic['AllMotorVehicles']/traffic['LinkLength_miles'] * 1000000\n",
    "traffic['AccidentsPerMV'] = traffic['TotalAccidents']/traffic['AllMotorVehicles']/traffic['LinkLength_miles'] * 1000000"
   ]
  },
  {
   "cell_type": "code",
   "execution_count": 157,
   "metadata": {},
   "outputs": [],
   "source": [
    "casualties = dict(df.groupby(['CP'])['Number_of_Casualties'].agg('sum'))\n",
    "accidents = dict(df.groupby(['CP'])['Number_of_Casualties'].agg('count'))"
   ]
  },
  {
   "cell_type": "code",
   "execution_count": 158,
   "metadata": {},
   "outputs": [],
   "source": [
    "df['TotalCasualtiesPerCP'] = df['CP'].map(casualties)\n",
    "df['TotalAccidentsPerCP'] = df['CP'].map(accidents)"
   ]
  },
  {
   "cell_type": "code",
   "execution_count": 159,
   "metadata": {},
   "outputs": [],
   "source": [
    "traffic['TotalCasualties'] = traffic['CP'].map(casualties)\n",
    "traffic['TotalAccidents'] = traffic['CP'].map(accidents)"
   ]
  },
  {
   "cell_type": "code",
   "execution_count": 185,
   "metadata": {},
   "outputs": [],
   "source": [
    "traffic1 = traffic[traffic['CasualtiesPerMV'] < 20000]\n",
    "traffic1 = traffic1[traffic1['AADFYear'] == 2005]\n",
    "\n",
    "eastings = (traffic1.Easting.values - traffic1.Easting.values.min())/(traffic1.Easting.values.max() - traffic1.Easting.values.min())\n",
    "northings = (traffic1.Northing.values - traffic1.Northing.values.min())/(traffic1.Northing.values.max() - traffic1.Northing.values.min())"
   ]
  },
  {
   "cell_type": "code",
   "execution_count": 186,
   "metadata": {},
   "outputs": [
    {
     "data": {
      "image/png": "[encoded data removed]",
      "text/plain": [
       "<Figure size 432x684 with 1 Axes>"
      ]
     },
     "metadata": {
      "needs_background": "light"
     },
     "output_type": "display_data"
    }
   ],
   "source": [
    "fig, ax = plt.subplots(figsize= (6,9.5))\n",
    "\n",
    "ax.scatter(eastings, northings * 4, c=traffic1['CasualtiesPerMV'].values/traffic1['CasualtiesPerMV'].max(), s=1, cmap=plt.cm.coolwarm, alpha=1) \n",
    "#c=traffic1['CasualtiesPerMV'].values/traffic1['CasualtiesPerMV'].max(),\n",
    "ax.set_yticklabels([])\n",
    "ax.set_xticklabels([])\n",
    "ax.grid(False)\n",
    "None"
   ]
  },
  {
   "cell_type": "code",
   "execution_count": 84,
   "metadata": {},
   "outputs": [],
   "source": [
    "traffic = traffic.dropna(subset=['TotalCasualties'])"
   ]
  },
  {
   "cell_type": "code",
   "execution_count": 171,
   "metadata": {},
   "outputs": [],
   "source": [
    "traffic = traffic[traffic['AllMotorVehicles'] > 0]"
   ]
  },
  {
   "cell_type": "code",
   "execution_count": 112,
   "metadata": {},
   "outputs": [
    {
     "data": {
      "text/plain": [
       "<matplotlib.collections.PathCollection at 0x1a205f3470>"
      ]
     },
     "execution_count": 112,
     "metadata": {},
     "output_type": "execute_result"
    },
    {
     "data": {
      "image/png": "[encoded data removed]",
      "text/plain": [
       "<Figure size 432x288 with 1 Axes>"
      ]
     },
     "metadata": {
      "needs_background": "light"
     },
     "output_type": "display_data"
    }
   ],
   "source": [
    "plt.scatter(list(range(len(traffic))),traffic['CasualtiesPerMV'].values/traffic['CasualtiesPerMV'].max(),s=1)"
   ]
  },
  {
   "cell_type": "code",
   "execution_count": 119,
   "metadata": {},
   "outputs": [
    {
     "data": {
      "text/plain": [
       "0.0024852080075058493"
      ]
     },
     "execution_count": 119,
     "metadata": {},
     "output_type": "execute_result"
    }
   ],
   "source": [
    "np.mean(traffic['CasualtiesPerMV'].values/traffic['CasualtiesPerMV'].max())"
   ]
  },
  {
   "cell_type": "code",
   "execution_count": 125,
   "metadata": {},
   "outputs": [
    {
     "data": {
      "text/plain": [
       "273052"
      ]
     },
     "execution_count": 125,
     "metadata": {},
     "output_type": "execute_result"
    }
   ],
   "source": [
    "len(traffic)"
   ]
  },
  {
   "cell_type": "code",
   "execution_count": 131,
   "metadata": {},
   "outputs": [
    {
     "data": {
      "text/plain": [
       "0.5332500769084277"
      ]
     },
     "execution_count": 131,
     "metadata": {},
     "output_type": "execute_result"
    }
   ],
   "source": [
    "len(traffic[traffic['CasualtiesPerMV'] > .005]) / len(traffic)"
   ]
  },
  {
   "cell_type": "code",
   "execution_count": 153,
   "metadata": {},
   "outputs": [],
   "source": [
    "traffic = pd.read_csv(\"data/ukTrafficAADF.csv\")"
   ]
  },
  {
   "cell_type": "code",
   "execution_count": 177,
   "metadata": {},
   "outputs": [],
   "source": [
    "traffic2 = pd.read_csv(\"data/dft_aadf_region_id_1.csv\")"
   ]
  },
  {
   "cell_type": "code",
   "execution_count": 187,
   "metadata": {},
   "outputs": [
    {
     "data": {
      "text/html": [
       "<div>\n",
       "<style scoped>\n",
       "    .dataframe tbody tr th:only-of-type {\n",
       "        vertical-align: middle;\n",
       "    }\n",
       "\n",
       "    .dataframe tbody tr th {\n",
       "        vertical-align: top;\n",
       "    }\n",
       "\n",
       "    .dataframe thead th {\n",
       "        text-align: right;\n",
       "    }\n",
       "</style>\n",
       "<table border=\"1\" class=\"dataframe\">\n",
       "  <thead>\n",
       "    <tr style=\"text-align: right;\">\n",
       "      <th></th>\n",
       "      <th>count_point_id</th>\n",
       "      <th>year</th>\n",
       "      <th>region_id</th>\n",
       "      <th>local_authority_id</th>\n",
       "      <th>road_name</th>\n",
       "      <th>road_type</th>\n",
       "      <th>start_junction_road_name</th>\n",
       "      <th>end_junction_road_name</th>\n",
       "      <th>easting</th>\n",
       "      <th>northing</th>\n",
       "      <th>...</th>\n",
       "      <th>buses_and_coaches</th>\n",
       "      <th>lgvs</th>\n",
       "      <th>hgvs_2_rigid_axle</th>\n",
       "      <th>hgvs_3_rigid_axle</th>\n",
       "      <th>hgvs_3_or_4_articulated_axle</th>\n",
       "      <th>hgvs_4_or_more_rigid_axle</th>\n",
       "      <th>hgvs_5_articulated_axle</th>\n",
       "      <th>hgvs_6_articulated_axle</th>\n",
       "      <th>all_hgvs</th>\n",
       "      <th>all_motor_vehicles</th>\n",
       "    </tr>\n",
       "  </thead>\n",
       "  <tbody>\n",
       "    <tr>\n",
       "      <th>0</th>\n",
       "      <td>951884</td>\n",
       "      <td>2018</td>\n",
       "      <td>1</td>\n",
       "      <td>71</td>\n",
       "      <td>U</td>\n",
       "      <td>minor</td>\n",
       "      <td>NaN</td>\n",
       "      <td>NaN</td>\n",
       "      <td>248222</td>\n",
       "      <td>131285</td>\n",
       "      <td>...</td>\n",
       "      <td>0</td>\n",
       "      <td>43</td>\n",
       "      <td>3</td>\n",
       "      <td>0</td>\n",
       "      <td>0</td>\n",
       "      <td>0</td>\n",
       "      <td>0</td>\n",
       "      <td>0</td>\n",
       "      <td>3</td>\n",
       "      <td>289</td>\n",
       "    </tr>\n",
       "    <tr>\n",
       "      <th>1</th>\n",
       "      <td>951879</td>\n",
       "      <td>2018</td>\n",
       "      <td>1</td>\n",
       "      <td>144</td>\n",
       "      <td>U</td>\n",
       "      <td>minor</td>\n",
       "      <td>NaN</td>\n",
       "      <td>NaN</td>\n",
       "      <td>363128</td>\n",
       "      <td>176155</td>\n",
       "      <td>...</td>\n",
       "      <td>0</td>\n",
       "      <td>31</td>\n",
       "      <td>0</td>\n",
       "      <td>0</td>\n",
       "      <td>0</td>\n",
       "      <td>0</td>\n",
       "      <td>0</td>\n",
       "      <td>0</td>\n",
       "      <td>0</td>\n",
       "      <td>296</td>\n",
       "    </tr>\n",
       "    <tr>\n",
       "      <th>2</th>\n",
       "      <td>951878</td>\n",
       "      <td>2018</td>\n",
       "      <td>1</td>\n",
       "      <td>200</td>\n",
       "      <td>U</td>\n",
       "      <td>minor</td>\n",
       "      <td>NaN</td>\n",
       "      <td>NaN</td>\n",
       "      <td>401855</td>\n",
       "      <td>97882</td>\n",
       "      <td>...</td>\n",
       "      <td>51</td>\n",
       "      <td>222</td>\n",
       "      <td>3</td>\n",
       "      <td>3</td>\n",
       "      <td>0</td>\n",
       "      <td>1</td>\n",
       "      <td>0</td>\n",
       "      <td>0</td>\n",
       "      <td>6</td>\n",
       "      <td>2019</td>\n",
       "    </tr>\n",
       "    <tr>\n",
       "      <th>3</th>\n",
       "      <td>947725</td>\n",
       "      <td>2018</td>\n",
       "      <td>1</td>\n",
       "      <td>68</td>\n",
       "      <td>U</td>\n",
       "      <td>minor</td>\n",
       "      <td>NaN</td>\n",
       "      <td>NaN</td>\n",
       "      <td>387636</td>\n",
       "      <td>151120</td>\n",
       "      <td>...</td>\n",
       "      <td>21</td>\n",
       "      <td>98</td>\n",
       "      <td>3</td>\n",
       "      <td>1</td>\n",
       "      <td>0</td>\n",
       "      <td>0</td>\n",
       "      <td>0</td>\n",
       "      <td>0</td>\n",
       "      <td>4</td>\n",
       "      <td>838</td>\n",
       "    </tr>\n",
       "    <tr>\n",
       "      <th>4</th>\n",
       "      <td>947721</td>\n",
       "      <td>2018</td>\n",
       "      <td>1</td>\n",
       "      <td>68</td>\n",
       "      <td>U</td>\n",
       "      <td>minor</td>\n",
       "      <td>NaN</td>\n",
       "      <td>NaN</td>\n",
       "      <td>392772</td>\n",
       "      <td>173632</td>\n",
       "      <td>...</td>\n",
       "      <td>2</td>\n",
       "      <td>72</td>\n",
       "      <td>6</td>\n",
       "      <td>2</td>\n",
       "      <td>0</td>\n",
       "      <td>0</td>\n",
       "      <td>0</td>\n",
       "      <td>0</td>\n",
       "      <td>8</td>\n",
       "      <td>915</td>\n",
       "    </tr>\n",
       "  </tbody>\n",
       "</table>\n",
       "<p>5 rows × 29 columns</p>\n",
       "</div>"
      ],
      "text/plain": [
       "   count_point_id  year  region_id  local_authority_id road_name road_type  \\\n",
       "0          951884  2018          1                  71         U     minor   \n",
       "1          951879  2018          1                 144         U     minor   \n",
       "2          951878  2018          1                 200         U     minor   \n",
       "3          947725  2018          1                  68         U     minor   \n",
       "4          947721  2018          1                  68         U     minor   \n",
       "\n",
       "  start_junction_road_name end_junction_road_name  easting  northing  ...  \\\n",
       "0                      NaN                    NaN   248222    131285  ...   \n",
       "1                      NaN                    NaN   363128    176155  ...   \n",
       "2                      NaN                    NaN   401855     97882  ...   \n",
       "3                      NaN                    NaN   387636    151120  ...   \n",
       "4                      NaN                    NaN   392772    173632  ...   \n",
       "\n",
       "   buses_and_coaches  lgvs  hgvs_2_rigid_axle  hgvs_3_rigid_axle  \\\n",
       "0                  0    43                  3                  0   \n",
       "1                  0    31                  0                  0   \n",
       "2                 51   222                  3                  3   \n",
       "3                 21    98                  3                  1   \n",
       "4                  2    72                  6                  2   \n",
       "\n",
       "  hgvs_3_or_4_articulated_axle hgvs_4_or_more_rigid_axle  \\\n",
       "0                            0                         0   \n",
       "1                            0                         0   \n",
       "2                            0                         1   \n",
       "3                            0                         0   \n",
       "4                            0                         0   \n",
       "\n",
       "   hgvs_5_articulated_axle  hgvs_6_articulated_axle  all_hgvs  \\\n",
       "0                        0                        0         3   \n",
       "1                        0                        0         0   \n",
       "2                        0                        0         6   \n",
       "3                        0                        0         4   \n",
       "4                        0                        0         8   \n",
       "\n",
       "   all_motor_vehicles  \n",
       "0                 289  \n",
       "1                 296  \n",
       "2                2019  \n",
       "3                 838  \n",
       "4                 915  \n",
       "\n",
       "[5 rows x 29 columns]"
      ]
     },
     "execution_count": 187,
     "metadata": {},
     "output_type": "execute_result"
    }
   ],
   "source": [
    "traffic2.year.value_counts()\n",
    "traffic2.head()"
   ]
  },
  {
   "cell_type": "code",
   "execution_count": 180,
   "metadata": {},
   "outputs": [
    {
     "data": {
      "text/html": [
       "<div>\n",
       "<style scoped>\n",
       "    .dataframe tbody tr th:only-of-type {\n",
       "        vertical-align: middle;\n",
       "    }\n",
       "\n",
       "    .dataframe tbody tr th {\n",
       "        vertical-align: top;\n",
       "    }\n",
       "\n",
       "    .dataframe thead th {\n",
       "        text-align: right;\n",
       "    }\n",
       "</style>\n",
       "<table border=\"1\" class=\"dataframe\">\n",
       "  <thead>\n",
       "    <tr style=\"text-align: right;\">\n",
       "      <th></th>\n",
       "      <th>AADFYear</th>\n",
       "      <th>CP</th>\n",
       "      <th>Estimation_method</th>\n",
       "      <th>Estimation_method_detailed</th>\n",
       "      <th>Region</th>\n",
       "      <th>LocalAuthority</th>\n",
       "      <th>Road</th>\n",
       "      <th>RoadCategory</th>\n",
       "      <th>Easting</th>\n",
       "      <th>Northing</th>\n",
       "      <th>...</th>\n",
       "      <th>V5AxleArticHGV</th>\n",
       "      <th>V6orMoreAxleArticHGV</th>\n",
       "      <th>AllHGVs</th>\n",
       "      <th>AllMotorVehicles</th>\n",
       "      <th>Lat</th>\n",
       "      <th>Lon</th>\n",
       "      <th>TotalCasualties</th>\n",
       "      <th>TotalAccidents</th>\n",
       "      <th>CasualtiesPerMV</th>\n",
       "      <th>AccidentsPerMV</th>\n",
       "    </tr>\n",
       "  </thead>\n",
       "  <tbody>\n",
       "    <tr>\n",
       "      <th>0</th>\n",
       "      <td>2000</td>\n",
       "      <td>6007</td>\n",
       "      <td>Counted</td>\n",
       "      <td>Manual count</td>\n",
       "      <td>Yorkshire and the Humber</td>\n",
       "      <td>Rotherham</td>\n",
       "      <td>M1</td>\n",
       "      <td>TM</td>\n",
       "      <td>446000</td>\n",
       "      <td>389300</td>\n",
       "      <td>...</td>\n",
       "      <td>4715</td>\n",
       "      <td>2149</td>\n",
       "      <td>15170</td>\n",
       "      <td>111146</td>\n",
       "      <td>53.398531</td>\n",
       "      <td>-1.309655</td>\n",
       "      <td>104.0</td>\n",
       "      <td>70.0</td>\n",
       "      <td>396.485673</td>\n",
       "      <td>266.865357</td>\n",
       "    </tr>\n",
       "    <tr>\n",
       "      <th>1</th>\n",
       "      <td>2000</td>\n",
       "      <td>6009</td>\n",
       "      <td>Counted</td>\n",
       "      <td>Manual count</td>\n",
       "      <td>Yorkshire and the Humber</td>\n",
       "      <td>Leeds</td>\n",
       "      <td>M621</td>\n",
       "      <td>TM</td>\n",
       "      <td>432150</td>\n",
       "      <td>429500</td>\n",
       "      <td>...</td>\n",
       "      <td>1494</td>\n",
       "      <td>921</td>\n",
       "      <td>4895</td>\n",
       "      <td>65939</td>\n",
       "      <td>53.760869</td>\n",
       "      <td>-1.513814</td>\n",
       "      <td>119.0</td>\n",
       "      <td>79.0</td>\n",
       "      <td>1529.405324</td>\n",
       "      <td>1015.319500</td>\n",
       "    </tr>\n",
       "    <tr>\n",
       "      <th>2</th>\n",
       "      <td>2000</td>\n",
       "      <td>6035</td>\n",
       "      <td>Counted</td>\n",
       "      <td>Manual count</td>\n",
       "      <td>Yorkshire and the Humber</td>\n",
       "      <td>Doncaster</td>\n",
       "      <td>M18</td>\n",
       "      <td>TM</td>\n",
       "      <td>466400</td>\n",
       "      <td>407900</td>\n",
       "      <td>...</td>\n",
       "      <td>3695</td>\n",
       "      <td>2000</td>\n",
       "      <td>8888</td>\n",
       "      <td>40229</td>\n",
       "      <td>53.563523</td>\n",
       "      <td>-0.998970</td>\n",
       "      <td>54.0</td>\n",
       "      <td>37.0</td>\n",
       "      <td>332.256249</td>\n",
       "      <td>227.657059</td>\n",
       "    </tr>\n",
       "    <tr>\n",
       "      <th>3</th>\n",
       "      <td>2000</td>\n",
       "      <td>6054</td>\n",
       "      <td>Counted</td>\n",
       "      <td>Manual count</td>\n",
       "      <td>Yorkshire and the Humber</td>\n",
       "      <td>Calderdale</td>\n",
       "      <td>M62</td>\n",
       "      <td>TM</td>\n",
       "      <td>404000</td>\n",
       "      <td>416600</td>\n",
       "      <td>...</td>\n",
       "      <td>5902</td>\n",
       "      <td>3438</td>\n",
       "      <td>15109</td>\n",
       "      <td>85759</td>\n",
       "      <td>53.645893</td>\n",
       "      <td>-1.940967</td>\n",
       "      <td>192.0</td>\n",
       "      <td>109.0</td>\n",
       "      <td>600.223077</td>\n",
       "      <td>340.751642</td>\n",
       "    </tr>\n",
       "    <tr>\n",
       "      <th>4</th>\n",
       "      <td>2000</td>\n",
       "      <td>6055</td>\n",
       "      <td>Counted</td>\n",
       "      <td>Manual count</td>\n",
       "      <td>Yorkshire and the Humber</td>\n",
       "      <td>Leeds</td>\n",
       "      <td>M62</td>\n",
       "      <td>TM</td>\n",
       "      <td>426000</td>\n",
       "      <td>426200</td>\n",
       "      <td>...</td>\n",
       "      <td>6669</td>\n",
       "      <td>3743</td>\n",
       "      <td>17436</td>\n",
       "      <td>98487</td>\n",
       "      <td>53.731551</td>\n",
       "      <td>-1.607374</td>\n",
       "      <td>166.0</td>\n",
       "      <td>127.0</td>\n",
       "      <td>554.441329</td>\n",
       "      <td>424.181017</td>\n",
       "    </tr>\n",
       "  </tbody>\n",
       "</table>\n",
       "<p>5 rows × 33 columns</p>\n",
       "</div>"
      ],
      "text/plain": [
       "   AADFYear    CP Estimation_method Estimation_method_detailed  \\\n",
       "0      2000  6007           Counted               Manual count   \n",
       "1      2000  6009           Counted               Manual count   \n",
       "2      2000  6035           Counted               Manual count   \n",
       "3      2000  6054           Counted               Manual count   \n",
       "4      2000  6055           Counted               Manual count   \n",
       "\n",
       "                     Region LocalAuthority  Road RoadCategory  Easting  \\\n",
       "0  Yorkshire and the Humber      Rotherham    M1           TM   446000   \n",
       "1  Yorkshire and the Humber          Leeds  M621           TM   432150   \n",
       "2  Yorkshire and the Humber      Doncaster   M18           TM   466400   \n",
       "3  Yorkshire and the Humber     Calderdale   M62           TM   404000   \n",
       "4  Yorkshire and the Humber          Leeds   M62           TM   426000   \n",
       "\n",
       "   Northing  ... V5AxleArticHGV V6orMoreAxleArticHGV  AllHGVs  \\\n",
       "0    389300  ...           4715                 2149    15170   \n",
       "1    429500  ...           1494                  921     4895   \n",
       "2    407900  ...           3695                 2000     8888   \n",
       "3    416600  ...           5902                 3438    15109   \n",
       "4    426200  ...           6669                 3743    17436   \n",
       "\n",
       "   AllMotorVehicles        Lat       Lon  TotalCasualties  TotalAccidents  \\\n",
       "0            111146  53.398531 -1.309655            104.0            70.0   \n",
       "1             65939  53.760869 -1.513814            119.0            79.0   \n",
       "2             40229  53.563523 -0.998970             54.0            37.0   \n",
       "3             85759  53.645893 -1.940967            192.0           109.0   \n",
       "4             98487  53.731551 -1.607374            166.0           127.0   \n",
       "\n",
       "   CasualtiesPerMV  AccidentsPerMV  \n",
       "0       396.485673      266.865357  \n",
       "1      1529.405324     1015.319500  \n",
       "2       332.256249      227.657059  \n",
       "3       600.223077      340.751642  \n",
       "4       554.441329      424.181017  \n",
       "\n",
       "[5 rows x 33 columns]"
      ]
     },
     "execution_count": 180,
     "metadata": {},
     "output_type": "execute_result"
    }
   ],
   "source": [
    "traffic.head()"
   ]
  },
  {
   "cell_type": "code",
   "execution_count": 188,
   "metadata": {},
   "outputs": [
    {
     "data": {
      "text/plain": [
       "Index(['count_point_id', 'year', 'region_id', 'local_authority_id',\n",
       "       'road_name', 'road_type', 'start_junction_road_name',\n",
       "       'end_junction_road_name', 'easting', 'northing', 'latitude',\n",
       "       'longitude', 'link_length_km', 'link_length_miles', 'estimation_method',\n",
       "       'estimation_method_detailed', 'pedal_cycles',\n",
       "       'two_wheeled_motor_vehicles', 'cars_and_taxis', 'buses_and_coaches',\n",
       "       'lgvs', 'hgvs_2_rigid_axle', 'hgvs_3_rigid_axle',\n",
       "       'hgvs_3_or_4_articulated_axle', 'hgvs_4_or_more_rigid_axle',\n",
       "       'hgvs_5_articulated_axle', 'hgvs_6_articulated_axle', 'all_hgvs',\n",
       "       'all_motor_vehicles'],\n",
       "      dtype='object')"
      ]
     },
     "execution_count": 188,
     "metadata": {},
     "output_type": "execute_result"
    }
   ],
   "source": [
    "traffic2.columns"
   ]
  },
  {
   "cell_type": "code",
   "execution_count": 189,
   "metadata": {},
   "outputs": [
    {
     "data": {
      "text/plain": [
       "Index(['AADFYear', 'CP', 'Estimation_method', 'Estimation_method_detailed',\n",
       "       'Region', 'LocalAuthority', 'Road', 'RoadCategory', 'Easting',\n",
       "       'Northing', 'StartJunction', 'EndJunction', 'LinkLength_km',\n",
       "       'LinkLength_miles', 'PedalCycles', 'Motorcycles', 'CarsTaxis',\n",
       "       'BusesCoaches', 'LightGoodsVehicles', 'V2AxleRigidHGV',\n",
       "       'V3AxleRigidHGV', 'V4or5AxleRigidHGV', 'V3or4AxleArticHGV',\n",
       "       'V5AxleArticHGV', 'V6orMoreAxleArticHGV', 'AllHGVs', 'AllMotorVehicles',\n",
       "       'Lat', 'Lon', 'TotalCasualties', 'TotalAccidents', 'CasualtiesPerMV',\n",
       "       'AccidentsPerMV'],\n",
       "      dtype='object')"
      ]
     },
     "execution_count": 189,
     "metadata": {},
     "output_type": "execute_result"
    }
   ],
   "source": [
    "traffic.columns"
   ]
  },
  {
   "cell_type": "code",
   "execution_count": null,
   "metadata": {},
   "outputs": [],
   "source": []
  }
 ],
 "metadata": {
  "kernelspec": {
   "display_name": "Python 3",
   "language": "python",
   "name": "python3"
  },
  "language_info": {
   "codemirror_mode": {
    "name": "ipython",
    "version": 3
   },
   "file_extension": ".py",
   "mimetype": "text/x-python",
   "name": "python",
   "nbconvert_exporter": "python",
   "pygments_lexer": "ipython3",
   "version": "3.7.3"
  }
 },
 "nbformat": 4,
 "nbformat_minor": 2
}
