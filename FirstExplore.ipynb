{
 "cells": [
  {
   "cell_type": "code",
   "execution_count": 1,
   "metadata": {},
   "outputs": [],
   "source": [
    "%matplotlib inline\n",
    "\n",
    "import numpy as np\n",
    "import matplotlib.pyplot as plt\n",
    "import scipy.stats as stats\n",
    "import pandas as pd\n",
    "\n",
    "# Always make it pretty.\n",
    "plt.style.use('ggplot')"
   ]
  },
  {
   "cell_type": "code",
   "execution_count": 2,
   "metadata": {},
   "outputs": [
    {
     "name": "stderr",
     "output_type": "stream",
     "text": [
      "/anaconda3/lib/python3.7/site-packages/IPython/core/interactiveshell.py:3020: DtypeWarning: Columns (31) have mixed types. Specify dtype option on import or set low_memory=False.\n",
      "  interactivity=interactivity, compiler=compiler, result=result)\n"
     ]
    }
   ],
   "source": [
    "df1 = pd.read_csv(\"data/accidents_2005_to_2007.csv\")\n",
    "df2 = pd.read_csv(\"data/accidents_2009_to_2011.csv\")\n",
    "df3 = pd.read_csv(\"data/accidents_2012_to_2014.csv\")\n",
    "traffic = pd.read_csv(\"data/ukTrafficAADF.csv\")\n",
    "\n",
    "df12 = pd.concat([df1,df2])\n",
    "df = pd.concat([df12,df3])\n",
    "\n",
    "df = df.drop_duplicates(subset=['Accident_Index','Date','LSOA_of_Accident_Location','Time','Longitude','Latitude'], keep='first')\n",
    "\n",
    "df = df[df.Speed_limit !=15]\n"
   ]
  },
  {
   "cell_type": "code",
   "execution_count": 3,
   "metadata": {},
   "outputs": [
    {
     "name": "stdout",
     "output_type": "stream",
     "text": [
      "<class 'pandas.core.frame.DataFrame'>\n",
      "Int64Index: 1469953 entries, 0 to 464696\n",
      "Data columns (total 33 columns):\n",
      "Accident_Index                                 1469953 non-null object\n",
      "Location_Easting_OSGR                          1469852 non-null float64\n",
      "Location_Northing_OSGR                         1469852 non-null float64\n",
      "Longitude                                      1469852 non-null float64\n",
      "Latitude                                       1469852 non-null float64\n",
      "Police_Force                                   1469953 non-null int64\n",
      "Accident_Severity                              1469953 non-null int64\n",
      "Number_of_Vehicles                             1469953 non-null int64\n",
      "Number_of_Casualties                           1469953 non-null int64\n",
      "Date                                           1469953 non-null object\n",
      "Day_of_Week                                    1469953 non-null int64\n",
      "Time                                           1469836 non-null object\n",
      "Local_Authority_(District)                     1469953 non-null int64\n",
      "Local_Authority_(Highway)                      1469953 non-null object\n",
      "1st_Road_Class                                 1469953 non-null int64\n",
      "1st_Road_Number                                1469953 non-null int64\n",
      "Road_Type                                      1469953 non-null object\n",
      "Speed_limit                                    1469953 non-null int64\n",
      "Junction_Detail                                0 non-null float64\n",
      "Junction_Control                               878166 non-null object\n",
      "2nd_Road_Class                                 1469953 non-null int64\n",
      "2nd_Road_Number                                1469953 non-null int64\n",
      "Pedestrian_Crossing-Human_Control              1469936 non-null object\n",
      "Pedestrian_Crossing-Physical_Facilities        1469919 non-null object\n",
      "Light_Conditions                               1469953 non-null object\n",
      "Weather_Conditions                             1469827 non-null object\n",
      "Road_Surface_Conditions                        1468008 non-null object\n",
      "Special_Conditions_at_Site                     1469938 non-null object\n",
      "Carriageway_Hazards                            1469924 non-null object\n",
      "Urban_or_Rural_Area                            1469953 non-null int64\n",
      "Did_Police_Officer_Attend_Scene_of_Accident    1467031 non-null object\n",
      "LSOA_of_Accident_Location                      1361735 non-null object\n",
      "Year                                           1469953 non-null int64\n",
      "dtypes: float64(5), int64(13), object(15)\n",
      "memory usage: 381.3+ MB\n"
     ]
    }
   ],
   "source": [
    "df.info()"
   ]
  },
  {
   "cell_type": "code",
   "execution_count": 4,
   "metadata": {},
   "outputs": [],
   "source": [
    "del df['Police_Force']\n",
    "del df['Local_Authority_(Highway)']\n",
    "del df['Local_Authority_(District)']\n",
    "del df['Pedestrian_Crossing-Human_Control']\n",
    "del df['Pedestrian_Crossing-Physical_Facilities']\n",
    "del df['Did_Police_Officer_Attend_Scene_of_Accident']"
   ]
  },
  {
   "cell_type": "code",
   "execution_count": 5,
   "metadata": {},
   "outputs": [
    {
     "data": {
      "text/plain": [
       "Year\n",
       "2005    271000\n",
       "2006    258395\n",
       "2007    247775\n",
       "2009    222137\n",
       "2010    208644\n",
       "2011    203941\n",
       "2012    195721\n",
       "2013    183667\n",
       "2014    194469\n",
       "Name: Number_of_Casualties, dtype: int64"
      ]
     },
     "execution_count": 5,
     "metadata": {},
     "output_type": "execute_result"
    }
   ],
   "source": [
    "df.groupby(by='Year')['Number_of_Casualties'].sum()"
   ]
  },
  {
   "cell_type": "code",
   "execution_count": 103,
   "metadata": {},
   "outputs": [
    {
     "data": {
      "text/plain": [
       "array([0.01295348, 0.13531997, 0.85172655])"
      ]
     },
     "execution_count": 103,
     "metadata": {},
     "output_type": "execute_result"
    }
   ],
   "source": [
    "severity_totals = df.groupby('Accident_Severity').size().values\n",
    "#total is 1,469,963 number of accidents 1469963\n",
    "severity_mus = severity_totals / severity_totals.sum()\n",
    "severity_mus"
   ]
  },
  {
   "cell_type": "code",
   "execution_count": null,
   "metadata": {},
   "outputs": [],
   "source": []
  },
  {
   "cell_type": "code",
   "execution_count": 104,
   "metadata": {},
   "outputs": [],
   "source": [
    "# mu1 = 19041 / 1469963\n",
    "# mu2 = 198914 / 1469963\n",
    "# mu3 = 1252008 / 1469963"
   ]
  },
  {
   "cell_type": "code",
   "execution_count": 105,
   "metadata": {},
   "outputs": [
    {
     "data": {
      "text/plain": [
       "Year\n",
       "2005    271000\n",
       "2006    258395\n",
       "2007    247775\n",
       "2009    222137\n",
       "2010    208644\n",
       "2011    203941\n",
       "2012    195721\n",
       "2013    183667\n",
       "2014    194469\n",
       "Name: Number_of_Casualties, dtype: int64"
      ]
     },
     "execution_count": 105,
     "metadata": {},
     "output_type": "execute_result"
    }
   ],
   "source": [
    "df.groupby(by='Year')['Number_of_Casualties'].sum()"
   ]
  },
  {
   "cell_type": "code",
   "execution_count": 106,
   "metadata": {},
   "outputs": [
    {
     "data": {
      "text/plain": [
       "Year\n",
       "2005    271000\n",
       "2006    258395\n",
       "2007    247775\n",
       "2009    222137\n",
       "2010    208644\n",
       "2011    203941\n",
       "2012    195721\n",
       "2013    183667\n",
       "2014    194469\n",
       "Name: Number_of_Casualties, dtype: int64"
      ]
     },
     "execution_count": 106,
     "metadata": {},
     "output_type": "execute_result"
    }
   ],
   "source": [
    "df.groupby(by='Year')['Number_of_Casualties'].sum()\n",
    "# Year\n",
    "# 2005    271008\n",
    "# 2006    258403\n",
    "# 2007    247779\n",
    "# 2009    222145\n",
    "# 2010    208647\n",
    "# 2011    203943\n",
    "# 2012    195721\n",
    "# 2013    183668\n",
    "# 2014    194474\n",
    "# Name: Number_of_Casualties, dtype: int64"
   ]
  },
  {
   "cell_type": "code",
   "execution_count": 107,
   "metadata": {},
   "outputs": [
    {
     "data": {
      "text/plain": [
       "Year\n",
       "2005    198722\n",
       "2006    189154\n",
       "2007    182110\n",
       "2009    163548\n",
       "2010    154410\n",
       "2011    151466\n",
       "2012    145569\n",
       "2013    138657\n",
       "2014    146317\n",
       "dtype: int64"
      ]
     },
     "execution_count": 107,
     "metadata": {},
     "output_type": "execute_result"
    }
   ],
   "source": [
    "df.groupby('Year').size()\n",
    "# Year\n",
    "# 2005    198722\n",
    "# 2006    189157\n",
    "# 2007    182114\n",
    "# 2009    163550\n",
    "# 2010    154411\n",
    "# 2011    151466\n",
    "# 2012    145569\n",
    "# 2013    138657\n",
    "# 2014    146317\n",
    "# dtype: int64\n",
    "\n",
    "# Year\n",
    "# 2005    198727\n",
    "# 2006    189160\n",
    "# 2007    182114\n",
    "# 2009    163553\n",
    "# 2010    154413\n",
    "# 2011    151467\n",
    "# 2012    145569\n",
    "# 2013    138658\n",
    "# 2014    146319\n",
    "# dtype: int64"
   ]
  },
  {
   "cell_type": "code",
   "execution_count": 108,
   "metadata": {},
   "outputs": [
    {
     "data": {
      "text/html": [
       "<div>\n",
       "<style scoped>\n",
       "    .dataframe tbody tr th:only-of-type {\n",
       "        vertical-align: middle;\n",
       "    }\n",
       "\n",
       "    .dataframe tbody tr th {\n",
       "        vertical-align: top;\n",
       "    }\n",
       "\n",
       "    .dataframe thead th {\n",
       "        text-align: right;\n",
       "    }\n",
       "</style>\n",
       "<table border=\"1\" class=\"dataframe\">\n",
       "  <thead>\n",
       "    <tr style=\"text-align: right;\">\n",
       "      <th></th>\n",
       "      <th>Location_Easting_OSGR</th>\n",
       "      <th>Location_Northing_OSGR</th>\n",
       "      <th>Longitude</th>\n",
       "      <th>Latitude</th>\n",
       "      <th>Accident_Severity</th>\n",
       "      <th>Number_of_Vehicles</th>\n",
       "      <th>Number_of_Casualties</th>\n",
       "      <th>Day_of_Week</th>\n",
       "      <th>1st_Road_Class</th>\n",
       "      <th>1st_Road_Number</th>\n",
       "      <th>Speed_limit</th>\n",
       "      <th>Junction_Detail</th>\n",
       "      <th>2nd_Road_Class</th>\n",
       "      <th>2nd_Road_Number</th>\n",
       "      <th>Urban_or_Rural_Area</th>\n",
       "      <th>Year</th>\n",
       "    </tr>\n",
       "  </thead>\n",
       "  <tbody>\n",
       "    <tr>\n",
       "      <th>count</th>\n",
       "      <td>1.469852e+06</td>\n",
       "      <td>1.469852e+06</td>\n",
       "      <td>1.469852e+06</td>\n",
       "      <td>1.469852e+06</td>\n",
       "      <td>1.469953e+06</td>\n",
       "      <td>1.469953e+06</td>\n",
       "      <td>1.469953e+06</td>\n",
       "      <td>1.469953e+06</td>\n",
       "      <td>1.469953e+06</td>\n",
       "      <td>1.469953e+06</td>\n",
       "      <td>1.469953e+06</td>\n",
       "      <td>0.0</td>\n",
       "      <td>1.469953e+06</td>\n",
       "      <td>1.469953e+06</td>\n",
       "      <td>1.469953e+06</td>\n",
       "      <td>1.469953e+06</td>\n",
       "    </tr>\n",
       "    <tr>\n",
       "      <th>mean</th>\n",
       "      <td>4.398986e+05</td>\n",
       "      <td>2.986709e+05</td>\n",
       "      <td>-1.432630e+00</td>\n",
       "      <td>5.257593e+01</td>\n",
       "      <td>2.838773e+00</td>\n",
       "      <td>1.831847e+00</td>\n",
       "      <td>1.350893e+00</td>\n",
       "      <td>4.118641e+00</td>\n",
       "      <td>4.089814e+00</td>\n",
       "      <td>1.008869e+03</td>\n",
       "      <td>3.907870e+01</td>\n",
       "      <td>NaN</td>\n",
       "      <td>2.663982e+00</td>\n",
       "      <td>3.800913e+02</td>\n",
       "      <td>1.356714e+00</td>\n",
       "      <td>2.009309e+03</td>\n",
       "    </tr>\n",
       "    <tr>\n",
       "      <th>std</th>\n",
       "      <td>9.553436e+04</td>\n",
       "      <td>1.612566e+05</td>\n",
       "      <td>1.404316e+00</td>\n",
       "      <td>1.452036e+00</td>\n",
       "      <td>4.014223e-01</td>\n",
       "      <td>7.152194e-01</td>\n",
       "      <td>8.258039e-01</td>\n",
       "      <td>1.924708e+00</td>\n",
       "      <td>1.429888e+00</td>\n",
       "      <td>1.821697e+03</td>\n",
       "      <td>1.417098e+01</td>\n",
       "      <td>NaN</td>\n",
       "      <td>3.207799e+00</td>\n",
       "      <td>1.300916e+03</td>\n",
       "      <td>4.792170e-01</td>\n",
       "      <td>3.021197e+00</td>\n",
       "    </tr>\n",
       "    <tr>\n",
       "      <th>min</th>\n",
       "      <td>6.495000e+04</td>\n",
       "      <td>1.029000e+04</td>\n",
       "      <td>-7.516225e+00</td>\n",
       "      <td>4.991294e+01</td>\n",
       "      <td>1.000000e+00</td>\n",
       "      <td>1.000000e+00</td>\n",
       "      <td>1.000000e+00</td>\n",
       "      <td>1.000000e+00</td>\n",
       "      <td>1.000000e+00</td>\n",
       "      <td>-1.000000e+00</td>\n",
       "      <td>1.000000e+01</td>\n",
       "      <td>NaN</td>\n",
       "      <td>-1.000000e+00</td>\n",
       "      <td>-1.000000e+00</td>\n",
       "      <td>1.000000e+00</td>\n",
       "      <td>2.005000e+03</td>\n",
       "    </tr>\n",
       "    <tr>\n",
       "      <th>25%</th>\n",
       "      <td>3.757500e+05</td>\n",
       "      <td>1.780075e+05</td>\n",
       "      <td>-2.363612e+00</td>\n",
       "      <td>5.148790e+01</td>\n",
       "      <td>3.000000e+00</td>\n",
       "      <td>1.000000e+00</td>\n",
       "      <td>1.000000e+00</td>\n",
       "      <td>2.000000e+00</td>\n",
       "      <td>3.000000e+00</td>\n",
       "      <td>0.000000e+00</td>\n",
       "      <td>3.000000e+01</td>\n",
       "      <td>NaN</td>\n",
       "      <td>-1.000000e+00</td>\n",
       "      <td>0.000000e+00</td>\n",
       "      <td>1.000000e+00</td>\n",
       "      <td>2.006000e+03</td>\n",
       "    </tr>\n",
       "    <tr>\n",
       "      <th>50%</th>\n",
       "      <td>4.409300e+05</td>\n",
       "      <td>2.653400e+05</td>\n",
       "      <td>-1.391624e+00</td>\n",
       "      <td>5.227670e+01</td>\n",
       "      <td>3.000000e+00</td>\n",
       "      <td>2.000000e+00</td>\n",
       "      <td>1.000000e+00</td>\n",
       "      <td>4.000000e+00</td>\n",
       "      <td>4.000000e+00</td>\n",
       "      <td>1.290000e+02</td>\n",
       "      <td>3.000000e+01</td>\n",
       "      <td>NaN</td>\n",
       "      <td>3.000000e+00</td>\n",
       "      <td>0.000000e+00</td>\n",
       "      <td>1.000000e+00</td>\n",
       "      <td>2.010000e+03</td>\n",
       "    </tr>\n",
       "    <tr>\n",
       "      <th>75%</th>\n",
       "      <td>5.232900e+05</td>\n",
       "      <td>3.965962e+05</td>\n",
       "      <td>-2.184798e-01</td>\n",
       "      <td>5.346434e+01</td>\n",
       "      <td>3.000000e+00</td>\n",
       "      <td>2.000000e+00</td>\n",
       "      <td>1.000000e+00</td>\n",
       "      <td>6.000000e+00</td>\n",
       "      <td>6.000000e+00</td>\n",
       "      <td>7.260000e+02</td>\n",
       "      <td>5.000000e+01</td>\n",
       "      <td>NaN</td>\n",
       "      <td>6.000000e+00</td>\n",
       "      <td>0.000000e+00</td>\n",
       "      <td>2.000000e+00</td>\n",
       "      <td>2.012000e+03</td>\n",
       "    </tr>\n",
       "    <tr>\n",
       "      <th>max</th>\n",
       "      <td>6.553700e+05</td>\n",
       "      <td>1.208800e+06</td>\n",
       "      <td>1.759398e+00</td>\n",
       "      <td>6.075754e+01</td>\n",
       "      <td>3.000000e+00</td>\n",
       "      <td>6.700000e+01</td>\n",
       "      <td>9.300000e+01</td>\n",
       "      <td>7.000000e+00</td>\n",
       "      <td>6.000000e+00</td>\n",
       "      <td>9.999000e+03</td>\n",
       "      <td>7.000000e+01</td>\n",
       "      <td>NaN</td>\n",
       "      <td>6.000000e+00</td>\n",
       "      <td>9.999000e+03</td>\n",
       "      <td>3.000000e+00</td>\n",
       "      <td>2.014000e+03</td>\n",
       "    </tr>\n",
       "  </tbody>\n",
       "</table>\n",
       "</div>"
      ],
      "text/plain": [
       "       Location_Easting_OSGR  Location_Northing_OSGR     Longitude  \\\n",
       "count           1.469852e+06            1.469852e+06  1.469852e+06   \n",
       "mean            4.398986e+05            2.986709e+05 -1.432630e+00   \n",
       "std             9.553436e+04            1.612566e+05  1.404316e+00   \n",
       "min             6.495000e+04            1.029000e+04 -7.516225e+00   \n",
       "25%             3.757500e+05            1.780075e+05 -2.363612e+00   \n",
       "50%             4.409300e+05            2.653400e+05 -1.391624e+00   \n",
       "75%             5.232900e+05            3.965962e+05 -2.184798e-01   \n",
       "max             6.553700e+05            1.208800e+06  1.759398e+00   \n",
       "\n",
       "           Latitude  Accident_Severity  Number_of_Vehicles  \\\n",
       "count  1.469852e+06       1.469953e+06        1.469953e+06   \n",
       "mean   5.257593e+01       2.838773e+00        1.831847e+00   \n",
       "std    1.452036e+00       4.014223e-01        7.152194e-01   \n",
       "min    4.991294e+01       1.000000e+00        1.000000e+00   \n",
       "25%    5.148790e+01       3.000000e+00        1.000000e+00   \n",
       "50%    5.227670e+01       3.000000e+00        2.000000e+00   \n",
       "75%    5.346434e+01       3.000000e+00        2.000000e+00   \n",
       "max    6.075754e+01       3.000000e+00        6.700000e+01   \n",
       "\n",
       "       Number_of_Casualties   Day_of_Week  1st_Road_Class  1st_Road_Number  \\\n",
       "count          1.469953e+06  1.469953e+06    1.469953e+06     1.469953e+06   \n",
       "mean           1.350893e+00  4.118641e+00    4.089814e+00     1.008869e+03   \n",
       "std            8.258039e-01  1.924708e+00    1.429888e+00     1.821697e+03   \n",
       "min            1.000000e+00  1.000000e+00    1.000000e+00    -1.000000e+00   \n",
       "25%            1.000000e+00  2.000000e+00    3.000000e+00     0.000000e+00   \n",
       "50%            1.000000e+00  4.000000e+00    4.000000e+00     1.290000e+02   \n",
       "75%            1.000000e+00  6.000000e+00    6.000000e+00     7.260000e+02   \n",
       "max            9.300000e+01  7.000000e+00    6.000000e+00     9.999000e+03   \n",
       "\n",
       "        Speed_limit  Junction_Detail  2nd_Road_Class  2nd_Road_Number  \\\n",
       "count  1.469953e+06              0.0    1.469953e+06     1.469953e+06   \n",
       "mean   3.907870e+01              NaN    2.663982e+00     3.800913e+02   \n",
       "std    1.417098e+01              NaN    3.207799e+00     1.300916e+03   \n",
       "min    1.000000e+01              NaN   -1.000000e+00    -1.000000e+00   \n",
       "25%    3.000000e+01              NaN   -1.000000e+00     0.000000e+00   \n",
       "50%    3.000000e+01              NaN    3.000000e+00     0.000000e+00   \n",
       "75%    5.000000e+01              NaN    6.000000e+00     0.000000e+00   \n",
       "max    7.000000e+01              NaN    6.000000e+00     9.999000e+03   \n",
       "\n",
       "       Urban_or_Rural_Area          Year  \n",
       "count         1.469953e+06  1.469953e+06  \n",
       "mean          1.356714e+00  2.009309e+03  \n",
       "std           4.792170e-01  3.021197e+00  \n",
       "min           1.000000e+00  2.005000e+03  \n",
       "25%           1.000000e+00  2.006000e+03  \n",
       "50%           1.000000e+00  2.010000e+03  \n",
       "75%           2.000000e+00  2.012000e+03  \n",
       "max           3.000000e+00  2.014000e+03  "
      ]
     },
     "execution_count": 108,
     "metadata": {},
     "output_type": "execute_result"
    }
   ],
   "source": [
    "df.describe()"
   ]
  },
  {
   "cell_type": "code",
   "execution_count": 109,
   "metadata": {},
   "outputs": [
    {
     "data": {
      "text/plain": [
       "Fine without high winds       1176642\n",
       "Raining without high winds     172939\n",
       "Other                           32914\n",
       "Unknown                         27749\n",
       "Raining with high winds         20359\n",
       "Fine with high winds            18097\n",
       "Snowing without high winds      11141\n",
       "Fog or mist                      8053\n",
       "Snowing with high winds          1933\n",
       "Name: Weather_Conditions, dtype: int64"
      ]
     },
     "execution_count": 109,
     "metadata": {},
     "output_type": "execute_result"
    }
   ],
   "source": [
    "df.Weather_Conditions.value_counts()"
   ]
  },
  {
   "cell_type": "code",
   "execution_count": 110,
   "metadata": {},
   "outputs": [
    {
     "data": {
      "text/plain": [
       "3    1251998\n",
       "2     198914\n",
       "1      19041\n",
       "Name: Accident_Severity, dtype: int64"
      ]
     },
     "execution_count": 110,
     "metadata": {},
     "output_type": "execute_result"
    }
   ],
   "source": [
    "df.Accident_Severity.value_counts()"
   ]
  },
  {
   "cell_type": "code",
   "execution_count": 111,
   "metadata": {},
   "outputs": [
    {
     "data": {
      "text/plain": [
       "numpy.int64"
      ]
     },
     "execution_count": 111,
     "metadata": {},
     "output_type": "execute_result"
    }
   ],
   "source": [
    "df.groupby(['Accident_Severity','Speed_limit']).sum()\n",
    "severity_speed_limit = np.reshape(df.groupby(['Accident_Severity','Speed_limit']).size().values,(3,7))\n",
    "\n",
    "severity_speed_limit[0]=severity_speed_limit[0]/severity_speed_limit[0].sum()\n",
    "type(severity_speed_limit[0][0])\n",
    "\n",
    "# severity_by_speed = ([(severity_speed_limit[0][:]/severity_speed_limit[0].sum()),\n",
    "#                         (severity_speed_limit[1][:]/severity_speed_limit[1].sum()),\n",
    "#                         (severity_speed_limit[2][:]/severity_speed_limit[2].sum())])\n",
    "# severity_by_speed"
   ]
  },
  {
   "cell_type": "code",
   "execution_count": 112,
   "metadata": {},
   "outputs": [
    {
     "data": {
      "text/plain": [
       "array([[     2,      2,     10],\n",
       "       [    95,   2341,  13995],\n",
       "       [  6272, 116665, 819971],\n",
       "       [  1761,  16279, 102233],\n",
       "       [  1027,   7047,  39759],\n",
       "       [  7380,  43719, 183831],\n",
       "       [  2504,  12861,  92199]])"
      ]
     },
     "execution_count": 112,
     "metadata": {},
     "output_type": "execute_result"
    }
   ],
   "source": [
    "actuals_severity_slimits = np.transpose(np.reshape(df.groupby(['Accident_Severity','Speed_limit']).count()['Accident_Index'].values,(3,7)))\n",
    "actuals_severity_slimits"
   ]
  },
  {
   "cell_type": "code",
   "execution_count": 114,
   "metadata": {},
   "outputs": [
    {
     "data": {
      "text/plain": [
       "array([0.01295348, 0.13531997, 0.85172655])"
      ]
     },
     "execution_count": 114,
     "metadata": {},
     "output_type": "execute_result"
    }
   ],
   "source": [
    "sums2 = df.groupby(['Accident_Severity','Speed_limit']).count().groupby('Accident_Severity').sum()['Accident_Index']\n",
    "severity_sums = df.groupby(['Accident_Severity','Speed_limit']).count().groupby('Accident_Severity').sum()['Accident_Index'].values\n",
    "severity_mus = severity_sums/severity_sums.sum()\n",
    "severity_mus"
   ]
  },
  {
   "cell_type": "code",
   "execution_count": 115,
   "metadata": {},
   "outputs": [
    {
     "data": {
      "text/plain": [
       "array([    14,  16431, 942908, 120273,  47833, 234930, 107564])"
      ]
     },
     "execution_count": 115,
     "metadata": {},
     "output_type": "execute_result"
    }
   ],
   "source": [
    "sums = df.groupby(['Speed_limit']).count()['Accident_Index']\n",
    "slimit_sums = df.groupby(['Speed_limit']).count()['Accident_Index'].values\n",
    "slimit_sums"
   ]
  },
  {
   "cell_type": "code",
   "execution_count": 138,
   "metadata": {},
   "outputs": [
    {
     "data": {
      "text/plain": [
       "array([[1.81348655e-01, 1.89447962e+00, 1.19241717e+01],\n",
       "       [2.12838554e+02, 2.22344247e+03, 1.39947190e+04],\n",
       "       [1.22139356e+04, 1.27594285e+05, 8.03099780e+05],\n",
       "       [1.55795334e+03, 1.62753391e+04, 1.02439708e+05],\n",
       "       [6.19603588e+02, 6.47276026e+03, 4.07406362e+04],\n",
       "       [3.04315997e+03, 3.17907212e+04, 2.00096119e+05],\n",
       "       [1.39332763e+03, 1.45555576e+04, 9.16151148e+04]])"
      ]
     },
     "execution_count": 138,
     "metadata": {},
     "output_type": "execute_result"
    }
   ],
   "source": [
    "# slimit10_expected = np.zeros(3)\n",
    "# for i in np.arange(3):\n",
    "#     expected_by_slimit[i][0] = slimit_sums[0] * severity_mus[i]\n",
    "# slimit20_expected = np.zeros(3)\n",
    "# for i in np.arange(3):\n",
    "#     expected_by_slimit[i][1] = slimit_sums[1] * severity_mus[i]\n",
    "# slimit30_expected = np.zeros(3)\n",
    "# for i in np.arange(3):\n",
    "#     expected_by_slimit[i][2] = slimit_sums[2] * severity_mus[i]\n",
    "# slimit40_expected = np.zeros(3)\n",
    "# for i in np.arange(3):\n",
    "#     expected_by_slimit[i][3] = slimit_sums[3] * severity_mus[i]\n",
    "# slimit50_expected = np.zeros(3)\n",
    "# for i in np.arange(3):\n",
    "#     expected_by_slimit[i][4] = slimit_sums[4] * severity_mus[i]\n",
    "# slimit60_expected = np.zeros(3)\n",
    "# for i in np.arange(3):\n",
    "#     expected_by_slimit[i][5] = slimit_sums[5] * severity_mus[i]\n",
    "# slimit70_expected = np.zeros(3)\n",
    "# for i in np.arange(3):\n",
    "#     expected_by_slimit[i][6] = slimit_sums[6] * severity_mus[i]\n",
    "# slimit70_expected\n",
    "\n",
    "\n",
    "expected_by_slimit = np.zeros((7,3))\n",
    "for i in np.arange(7):\n",
    "    for j in np.arange(3):\n",
    "        expected_by_slimit[i][j] = slimit_sums[i] * severity_mus[j]\n",
    "expected_by_slimit"
   ]
  },
  {
   "cell_type": "code",
   "execution_count": 137,
   "metadata": {},
   "outputs": [
    {
     "data": {
      "text/plain": [
       "array([[     2,      2,     10],\n",
       "       [    95,   2341,  13995],\n",
       "       [  6272, 116665, 819971],\n",
       "       [  1761,  16279, 102233],\n",
       "       [  1027,   7047,  39759],\n",
       "       [  7380,  43719, 183831],\n",
       "       [  2504,  12861,  92199]])"
      ]
     },
     "execution_count": 137,
     "metadata": {},
     "output_type": "execute_result"
    }
   ],
   "source": [
    "#actual number of severity category 1, 2, 3, under speed limits...uh...10,20,30 &c\n",
    "actuals_severity_slimits"
   ]
  },
  {
   "cell_type": "code",
   "execution_count": 123,
   "metadata": {},
   "outputs": [
    {
     "data": {
      "text/plain": [
       "array([    14,  16431, 942908, 120273,  47834, 234930, 107564])"
      ]
     },
     "execution_count": 123,
     "metadata": {},
     "output_type": "execute_result"
    }
   ],
   "source": [
    "expected_by_slimit = expected_by_slimit.round().astype(int)\n",
    "expected_by_slimit\n",
    "expected_by_slimit.sum(axis=1)"
   ]
  },
  {
   "cell_type": "code",
   "execution_count": 136,
   "metadata": {},
   "outputs": [
    {
     "name": "stdout",
     "output_type": "stream",
     "text": [
      "actual [  6272 116665 819971]\n",
      "expected [ 12214 127594 803100]\n",
      "Power_divergenceResult(statistic=4181.261949969622, pvalue=0.0)\n"
     ]
    }
   ],
   "source": [
    "i = 2\n",
    "print( \"actual\", actuals_severity_slimits[i] )\n",
    "print( \"expected\", expected_by_slimit[i] )\n",
    "print( stats.chisquare( actuals_severity_slimits[i], expected_by_slimit[i] ) )"
   ]
  },
  {
   "cell_type": "code",
   "execution_count": 139,
   "metadata": {},
   "outputs": [
    {
     "data": {
      "text/plain": [
       "array([9.35193555e-005, 3.04293795e-016, 0.00000000e+000, 1.45514130e-006,\n",
       "       4.31292023e-075, 0.00000000e+000, 1.25925683e-236])"
      ]
     },
     "execution_count": 139,
     "metadata": {},
     "output_type": "execute_result"
    }
   ],
   "source": [
    "pvalues = np.zeros(7)\n",
    "\n",
    "# stats.chisquare(actuals_severity_slimits[0],expected_by_slimit[0])[1]\n",
    "\n",
    "for i in np.arange(7):\n",
    "    pvalues[i] = stats.chisquare(actuals_severity_slimits[i],expected_by_slimit[i])[1]\n",
    "\n",
    "pvalues\n",
    "\n",
    "# stats.chisquare(actuals_severity_slimits[2],expected_by_slimit[2])[1]\n",
    "# actuals_severity_slimits[2]\n",
    "# expected_by_slimit[2]\n"
   ]
  },
  {
   "cell_type": "code",
   "execution_count": null,
   "metadata": {},
   "outputs": [],
   "source": []
  },
  {
   "cell_type": "code",
   "execution_count": 34,
   "metadata": {},
   "outputs": [
    {
     "data": {
      "text/plain": [
       "Accident_Severity  Speed_limit\n",
       "1                  10             0.000105\n",
       "                   20             0.004989\n",
       "                   30             0.329394\n",
       "                   40             0.092485\n",
       "                   50             0.053936\n",
       "                   60             0.387585\n",
       "                   70             0.131506\n",
       "2                  10             0.000010\n",
       "                   20             0.011769\n",
       "                   30             0.586510\n",
       "                   40             0.081839\n",
       "                   50             0.035427\n",
       "                   60             0.219788\n",
       "                   70             0.064656\n",
       "3                  10             0.000008\n",
       "                   20             0.011178\n",
       "                   30             0.654930\n",
       "                   40             0.081656\n",
       "                   50             0.031756\n",
       "                   60             0.146830\n",
       "                   70             0.073641\n",
       "Name: Accident_Index, dtype: float64"
      ]
     },
     "execution_count": 34,
     "metadata": {},
     "output_type": "execute_result"
    }
   ],
   "source": [
    "mus = df.groupby(['Accident_Severity','Speed_limit']).count()['Accident_Index']/sums2\n",
    "mus"
   ]
  },
  {
   "cell_type": "code",
   "execution_count": null,
   "metadata": {},
   "outputs": [],
   "source": []
  },
  {
   "cell_type": "code",
   "execution_count": 35,
   "metadata": {},
   "outputs": [
    {
     "data": {
      "text/plain": [
       "30    942908\n",
       "60    234930\n",
       "40    120273\n",
       "70    107564\n",
       "50     47833\n",
       "20     16431\n",
       "10        14\n",
       "Name: Speed_limit, dtype: int64"
      ]
     },
     "execution_count": 35,
     "metadata": {},
     "output_type": "execute_result"
    }
   ],
   "source": [
    "df.Speed_limit.value_counts()"
   ]
  },
  {
   "cell_type": "code",
   "execution_count": null,
   "metadata": {},
   "outputs": [],
   "source": [
    "df.Light_Conditions.value_counts()\n",
    "\n",
    "fig, ax = plt.subplots()\n",
    "\n",
    "labels = 'Daylight', 'Dark/Lit', 'Dark', 'Unkown', 'Dark Unlit'\n",
    "\n",
    "ax.pie(df.Light_Conditions.value_counts(), labels=labels)"
   ]
  },
  {
   "cell_type": "code",
   "execution_count": null,
   "metadata": {},
   "outputs": [],
   "source": [
    "df.Road_Surface_Conditions.value_counts()\n",
    "\n",
    "fig, ax = plt.subplots()\n",
    "\n",
    "labels = 'Dry', 'Wet/Damp', 'Frost/Ice', 'Snow', 'Flood'\n",
    "\n",
    "ax.pie(df.Road_Surface_Conditions.value_counts(), labels=labels)"
   ]
  },
  {
   "cell_type": "code",
   "execution_count": null,
   "metadata": {},
   "outputs": [],
   "source": [
    "df.Carriageway_Hazards.value_counts()"
   ]
  },
  {
   "cell_type": "code",
   "execution_count": null,
   "metadata": {},
   "outputs": [],
   "source": [
    "df.Urban_or_Rural_Area.value_counts()\n",
    "\n",
    "fig, ax = plt.subplots(1,2)\n",
    "\n",
    "labels = 'Urban', 'Rural', 'Other'\n",
    "\n",
    "# ax.pie(df.Urban_or_Rural_Area.value_counts(), labels=labels)\n",
    "\n",
    "urban = df[df[\"Urban_or_Rural_Area\"] == 1]\n",
    "rural = df[df[\"Urban_or_Rural_Area\"] == 2]\n",
    "\n",
    "labels = 'Dry', 'Wet/Damp', 'Frost/Ice', 'Snow', 'Flood'\n",
    "\n",
    "ax[0].pie(urban.Road_Surface_Conditions.value_counts(), labels=labels)\n",
    "ax[1].pie(rural.Road_Surface_Conditions.value_counts(), labels=labels)"
   ]
  },
  {
   "cell_type": "code",
   "execution_count": null,
   "metadata": {},
   "outputs": [],
   "source": [
    "df.Special_Conditions_at_Site.value_counts()"
   ]
  },
  {
   "cell_type": "code",
   "execution_count": null,
   "metadata": {},
   "outputs": [],
   "source": []
  },
  {
   "cell_type": "code",
   "execution_count": null,
   "metadata": {},
   "outputs": [],
   "source": []
  },
  {
   "cell_type": "code",
   "execution_count": null,
   "metadata": {},
   "outputs": [],
   "source": [
    "df.Road_Type.value_counts()\n",
    "\n",
    "single= df[df[\"Road_Type\"] == 'Single carriageway']\n",
    "dual= df[df[\"Road_Type\"] == 'Dual carriageway']\n",
    "roundabout= df[df[\"Road_Type\"] == 'Roundabout']\n",
    "one_way= df[df[\"Road_Type\"] == 'One way street']\n",
    "slip= df[df[\"Road_Type\"] == 'Slip road']\n",
    "\n",
    "fig, ax = plt.subplots(2,3,figsize = (18,8))\n",
    "\n",
    "labels = 'Dry', 'Wet/Damp', 'Frost/Ice', 'Snow', 'Flood'\n",
    "\n",
    "ax[0][0].pie(single.Road_Surface_Conditions.value_counts(), labels=labels)\n",
    "ax[0][1].pie(dual.Road_Surface_Conditions.value_counts(), labels=labels)\n",
    "ax[0][2].pie(roundabout.Road_Surface_Conditions.value_counts(), labels=labels)\n",
    "ax[1][0].pie(one_way.Road_Surface_Conditions.value_counts(), labels=labels)\n",
    "ax[1][1].pie(slip.Road_Surface_Conditions.value_counts(), labels=labels)\n",
    "\n",
    "ax[0][0].set_title('Single Carriageway')\n",
    "ax[0][1].set_title('Dual Carriageway')\n",
    "ax[0][2].set_title('Roundabout')\n",
    "ax[1][0].set_title('One way street')\n",
    "ax[1][1].set_title('Slip Road')\n",
    "\n",
    "# Single carriageway    423414\n",
    "# Dual carriageway       87274\n",
    "# Roundabout             36637\n",
    "# One way street         12434\n",
    "# Slip road               5936\n",
    "# Unknown                 4316"
   ]
  },
  {
   "cell_type": "code",
   "execution_count": null,
   "metadata": {},
   "outputs": [],
   "source": [
    "limit20= df2[df2[\"Speed_limit\"] == 20]\n",
    "limit30= df2[df2[\"Speed_limit\"] == 30]\n",
    "limit40= df2[df2[\"Speed_limit\"] == 40]\n",
    "limit50= df2[df2[\"Speed_limit\"] == 50]\n",
    "limit60= df2[df2[\"Speed_limit\"] == 60]\n",
    "limit70= df2[df2[\"Speed_limit\"] == 70]\n",
    "count = {20:0,30:0,40:0,50:0,60:0,70:0}\n",
    "\n",
    "for key, value in count.items():\n",
    "    count[key] = len(df2[df2[\"Speed_limit\"] == key].index)\n",
    "    \n",
    "\n",
    "slimit20= df[df[\"Speed_limit\"] == 20]\n",
    "slimit30= df[df[\"Speed_limit\"] == 30]\n",
    "slimit40= df[df[\"Speed_limit\"] == 40]\n",
    "slimit50= df[df[\"Speed_limit\"] == 50]\n",
    "slimit60= df[df[\"Speed_limit\"] == 60]\n",
    "slimit70= df[df[\"Speed_limit\"] == 70]\n",
    "counts = {20:0,30:0,40:0,50:0,60:0,70:0}\n",
    "\n",
    "for key, value in counts.items():\n",
    "    counts[key] = len(df[df[\"Speed_limit\"] == key].index)\n",
    "    \n",
    "sslimit20= df3[df3[\"Speed_limit\"] == 20]\n",
    "sslimit30= df3[df3[\"Speed_limit\"] == 30]\n",
    "sslimit40= df3[df3[\"Speed_limit\"] == 40]\n",
    "sslimit50= df3[df3[\"Speed_limit\"] == 50]\n",
    "sslimit60= df3[df3[\"Speed_limit\"] == 60]\n",
    "sslimit70= df3[df3[\"Speed_limit\"] == 70]\n",
    "countss = {20:0,30:0,40:0,50:0,60:0,70:0}\n",
    "\n",
    "for key, value in countss.items():\n",
    "    countss[key] = len(df[df[\"Speed_limit\"] == key].index)\n",
    "\n",
    "fig, ax = plt.subplots(6,3,figsize = (18,24))\n",
    "\n",
    "labels = 'Dry', 'Wet/Damp', 'Frost/Ice', 'Snow', 'Flood'\n",
    "\n",
    "ax[0][0].pie(limit20.Road_Surface_Conditions.value_counts(), labels=labels)\n",
    "ax[0][1].pie(limit30.Road_Surface_Conditions.value_counts(), labels=labels)\n",
    "ax[0][2].pie(limit40.Road_Surface_Conditions.value_counts(), labels=labels)\n",
    "ax[3][0].pie(limit50.Road_Surface_Conditions.value_counts(), labels=labels)\n",
    "ax[3][1].pie(limit60.Road_Surface_Conditions.value_counts(), labels=labels)\n",
    "ax[3][2].pie(limit70.Road_Surface_Conditions.value_counts(), labels=labels)\n",
    "\n",
    "ax[0][0].set_title(f'Speed 20, n = {count[20]}')\n",
    "ax[0][1].set_title(f'Speed 30, n = {count[30]}')\n",
    "ax[0][2].set_title(f'Speed 40, n = {count[40]}')\n",
    "ax[3][0].set_title(f'Speed 50, n = {count[50]}')\n",
    "ax[3][1].set_title(f'Speed 60, n = {count[60]}')\n",
    "ax[3][2].set_title(f'Speed 70, n = {count[70]}')\n",
    "\n",
    "ax[1][0].pie(slimit20.Road_Surface_Conditions.value_counts(), labels=labels)\n",
    "ax[1][1].pie(slimit30.Road_Surface_Conditions.value_counts(), labels=labels)\n",
    "ax[1][2].pie(slimit40.Road_Surface_Conditions.value_counts(), labels=labels)\n",
    "ax[4][0].pie(slimit50.Road_Surface_Conditions.value_counts(), labels=labels)\n",
    "ax[4][1].pie(slimit60.Road_Surface_Conditions.value_counts(), labels=labels)\n",
    "ax[4][2].pie(slimit70.Road_Surface_Conditions.value_counts(), labels=labels)\n",
    "\n",
    "ax[1][0].set_title(f'Speed 20, n = {counts[20]}')\n",
    "ax[1][1].set_title(f'Speed 30, n = {counts[30]}')\n",
    "ax[1][2].set_title(f'Speed 40, n = {counts[40]}')\n",
    "ax[4][0].set_title(f'Speed 50, n = {counts[50]}')\n",
    "ax[4][1].set_title(f'Speed 60, n = {counts[60]}')\n",
    "ax[4][2].set_title(f'Speed 70, n = {counts[70]}')\n",
    "\n",
    "ax[2][0].pie(sslimit20.Road_Surface_Conditions.value_counts(), labels=labels)\n",
    "ax[2][1].pie(sslimit30.Road_Surface_Conditions.value_counts(), labels=labels)\n",
    "ax[2][2].pie(sslimit40.Road_Surface_Conditions.value_counts(), labels=labels)\n",
    "ax[5][0].pie(sslimit50.Road_Surface_Conditions.value_counts(), labels=labels)\n",
    "ax[5][1].pie(sslimit60.Road_Surface_Conditions.value_counts(), labels=labels)\n",
    "ax[5][2].pie(sslimit70.Road_Surface_Conditions.value_counts(), labels=labels)\n",
    "\n",
    "ax[2][0].set_title(f'Speed 20, n = {countss[20]}')\n",
    "ax[2][1].set_title(f'Speed 30, n = {countss[30]}')\n",
    "ax[2][2].set_title(f'Speed 40, n = {countss[40]}')\n",
    "ax[5][0].set_title(f'Speed 50, n = {countss[50]}')\n",
    "ax[5][1].set_title(f'Speed 60, n = {countss[60]}')\n",
    "ax[5][2].set_title(f'Speed 70, n = {countss[70]}')\n"
   ]
  },
  {
   "cell_type": "code",
   "execution_count": null,
   "metadata": {},
   "outputs": [],
   "source": [
    "df.Speed_limit.value_counts()\n",
    "\n",
    "slimit20= df[df[\"Speed_limit\"] == 20]\n",
    "slimit30= df[df[\"Speed_limit\"] == 30]\n",
    "slimit40= df[df[\"Speed_limit\"] == 40]\n",
    "slimit50= df[df[\"Speed_limit\"] == 50]\n",
    "slimit60= df[df[\"Speed_limit\"] == 60]\n",
    "slimit70= df[df[\"Speed_limit\"] == 70]\n",
    "counts = {20:0,30:0,40:0,50:0,60:0,70:0}\n",
    "\n",
    "for key, value in count.items():\n",
    "    counts[key] = len(df[df[\"Speed_limit\"] == key].index)\n",
    "\n",
    "fig, ax = plt.subplots(2,3,figsize = (18,14))\n",
    "\n",
    "fig.suptitle(\"Accident Severity by Speed limit\")\n",
    "\n",
    "labels = '3', '2', '1'\n",
    "\n",
    "ax[0][0].pie(slimit20.Accident_Severity.value_counts(), labels=labels)\n",
    "ax[0][1].pie(slimit30.Accident_Severity.value_counts(), labels=labels)\n",
    "ax[0][2].pie(slimit40.Accident_Severity.value_counts(), labels=labels)\n",
    "ax[1][0].pie(slimit50.Accident_Severity.value_counts(), labels=labels)\n",
    "ax[1][1].pie(slimit60.Accident_Severity.value_counts(), labels=labels)\n",
    "ax[1][2].pie(slimit70.Accident_Severity.value_counts(), labels=labels)\n",
    "\n",
    "ax[0][0].set_title(f'Speed 20, n = {counts[20]}')\n",
    "ax[0][1].set_title(f'Speed 30, n = {counts[30]}')\n",
    "ax[0][2].set_title(f'Speed 40, n = {counts[40]}')\n",
    "ax[1][0].set_title(f'Speed 50, n = {counts[50]}')\n",
    "ax[1][1].set_title(f'Speed 60, n = {counts[60]}')\n",
    "ax[1][2].set_title(f'Speed 70, n = {counts[70]}')\n",
    "\n",
    "# 30    358591\n",
    "# 60    101891\n",
    "# 40     46288\n",
    "# 70     44448\n",
    "# 50     15666\n",
    "# 20      3111\n",
    "# 10         9\n",
    "# 15         7\n",
    "# Name: Speed_limit, dtype: int64"
   ]
  },
  {
   "cell_type": "code",
   "execution_count": null,
   "metadata": {},
   "outputs": [],
   "source": [
    "df.groupby(['Accident_Severity','Speed_limit']).size()"
   ]
  },
  {
   "cell_type": "code",
   "execution_count": null,
   "metadata": {},
   "outputs": [],
   "source": [
    "traffic.head()"
   ]
  },
  {
   "cell_type": "code",
   "execution_count": null,
   "metadata": {},
   "outputs": [],
   "source": [
    "traffic.Road.value_counts()"
   ]
  },
  {
   "cell_type": "code",
   "execution_count": null,
   "metadata": {},
   "outputs": [],
   "source": [
    "traffic.Northing.value_counts()"
   ]
  },
  {
   "cell_type": "code",
   "execution_count": null,
   "metadata": {},
   "outputs": [],
   "source": [
    "traffic.Estimation_method_detailed.value_counts()"
   ]
  },
  {
   "cell_type": "code",
   "execution_count": null,
   "metadata": {},
   "outputs": [],
   "source": []
  },
  {
   "cell_type": "code",
   "execution_count": null,
   "metadata": {},
   "outputs": [],
   "source": []
  },
  {
   "cell_type": "code",
   "execution_count": null,
   "metadata": {},
   "outputs": [],
   "source": [
    "x = np.arange(4).reshape((2,2))\n",
    "x"
   ]
  },
  {
   "cell_type": "code",
   "execution_count": null,
   "metadata": {},
   "outputs": [],
   "source": [
    "np.transpose(x)"
   ]
  },
  {
   "cell_type": "code",
   "execution_count": null,
   "metadata": {},
   "outputs": [],
   "source": [
    "x"
   ]
  },
  {
   "cell_type": "code",
   "execution_count": null,
   "metadata": {},
   "outputs": [],
   "source": []
  }
 ],
 "metadata": {
  "kernelspec": {
   "display_name": "Python 3",
   "language": "python",
   "name": "python3"
  },
  "language_info": {
   "codemirror_mode": {
    "name": "ipython",
    "version": 3
   },
   "file_extension": ".py",
   "mimetype": "text/x-python",
   "name": "python",
   "nbconvert_exporter": "python",
   "pygments_lexer": "ipython3",
   "version": "3.7.1"
  }
 },
 "nbformat": 4,
 "nbformat_minor": 2
}
