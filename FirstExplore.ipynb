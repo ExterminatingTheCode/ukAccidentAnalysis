{
 "cells": [
  {
   "cell_type": "code",
   "execution_count": 1,
   "metadata": {},
   "outputs": [],
   "source": [
    "%matplotlib inline\n",
    "\n",
    "import numpy as np\n",
    "import matplotlib.pyplot as plt\n",
    "import scipy.stats as stats\n",
    "import pandas as pd\n",
    "from scipy.spatial import distance\n",
    "from sklearn.metrics.pairwise import haversine_distances\n",
    "import functions as f\n",
    "\n",
    "# Always make it pretty. Always.\n",
    "plt.style.use('ggplot')"
   ]
  },
  {
   "cell_type": "code",
   "execution_count": 2,
   "metadata": {
    "scrolled": true
   },
   "outputs": [
    {
     "name": "stderr",
     "output_type": "stream",
     "text": [
      "/anaconda3/lib/python3.7/site-packages/IPython/core/interactiveshell.py:3020: DtypeWarning: Columns (31) have mixed types. Specify dtype option on import or set low_memory=False.\n",
      "  interactivity=interactivity, compiler=compiler, result=result)\n"
     ]
    }
   ],
   "source": [
    "df1 = pd.read_csv(\"data/accidents_2005_to_2007.csv\")\n",
    "df2 = pd.read_csv(\"data/accidents_2009_to_2011.csv\")\n",
    "df3 = pd.read_csv(\"data/accidents_2012_to_2014.csv\")\n",
    "traffic = pd.read_csv(\"data/ukTrafficAADF.csv\")\n",
    "\n",
    "# df12 = pd.concat([df1,df2])\n",
    "df = pd.concat([df1, df2, df3])\n",
    "\n",
    "df = df.drop_duplicates(subset=['Accident_Index','Date','LSOA_of_Accident_Location','Time','Longitude','Latitude'], keep='first')\n",
    "\n",
    "df = df[df.Speed_limit !=15]\n"
   ]
  },
  {
   "cell_type": "code",
   "execution_count": null,
   "metadata": {},
   "outputs": [],
   "source": [
    "df.sort_values('Accident_Index')"
   ]
  },
  {
   "cell_type": "code",
   "execution_count": null,
   "metadata": {},
   "outputs": [],
   "source": [
    "df1"
   ]
  },
  {
   "cell_type": "code",
   "execution_count": null,
   "metadata": {},
   "outputs": [],
   "source": [
    "del df['Police_Force']\n",
    "del df['Local_Authority_(Highway)']\n",
    "del df['Local_Authority_(District)']\n",
    "del df['Pedestrian_Crossing-Human_Control']\n",
    "del df['Pedestrian_Crossing-Physical_Facilities']\n",
    "del df['Did_Police_Officer_Attend_Scene_of_Accident']"
   ]
  },
  {
   "cell_type": "code",
   "execution_count": null,
   "metadata": {},
   "outputs": [],
   "source": [
    "df.groupby(by='Year')['Number_of_Casualties'].sum()"
   ]
  },
  {
   "cell_type": "code",
   "execution_count": null,
   "metadata": {},
   "outputs": [],
   "source": [
    "severity_totals = df.groupby('Accident_Severity').size().values\n",
    "#total is 1,469,963 number of accidents 1469963\n",
    "severity_mus = severity_totals / severity_totals.sum()\n",
    "severity_mus"
   ]
  },
  {
   "cell_type": "code",
   "execution_count": null,
   "metadata": {},
   "outputs": [],
   "source": [
    "df1.columns"
   ]
  },
  {
   "cell_type": "code",
   "execution_count": null,
   "metadata": {},
   "outputs": [],
   "source": [
    "# mu1 = 19041 / 1469963\n",
    "# mu2 = 198914 / 1469963\n",
    "# mu3 = 1252008 / 1469963"
   ]
  },
  {
   "cell_type": "code",
   "execution_count": null,
   "metadata": {},
   "outputs": [],
   "source": [
    "df.groupby(by='Year')['Number_of_Casualties'].sum()"
   ]
  },
  {
   "cell_type": "code",
   "execution_count": null,
   "metadata": {},
   "outputs": [],
   "source": []
  },
  {
   "cell_type": "code",
   "execution_count": null,
   "metadata": {},
   "outputs": [],
   "source": [
    "df.groupby('Year').size()\n",
    "# Year\n",
    "# 2005    198722\n",
    "# 2006    189157\n",
    "# 2007    182114\n",
    "# 2009    163550\n",
    "# 2010    154411\n",
    "# 2011    151466\n",
    "# 2012    145569\n",
    "# 2013    138657\n",
    "# 2014    146317\n",
    "# dtype: int64\n",
    "\n",
    "# Year\n",
    "# 2005    198727\n",
    "# 2006    189160\n",
    "# 2007    182114\n",
    "# 2009    163553\n",
    "# 2010    154413\n",
    "# 2011    151467\n",
    "# 2012    145569\n",
    "# 2013    138658\n",
    "# 2014    146319\n",
    "# dtype: int64"
   ]
  },
  {
   "cell_type": "code",
   "execution_count": null,
   "metadata": {},
   "outputs": [],
   "source": [
    "df.describe()"
   ]
  },
  {
   "cell_type": "code",
   "execution_count": null,
   "metadata": {},
   "outputs": [],
   "source": [
    "df.Weather_Conditions.value_counts()"
   ]
  },
  {
   "cell_type": "code",
   "execution_count": null,
   "metadata": {},
   "outputs": [],
   "source": [
    "df.Accident_Severity.value_counts()"
   ]
  },
  {
   "cell_type": "code",
   "execution_count": null,
   "metadata": {},
   "outputs": [],
   "source": [
    "df.groupby(['Accident_Severity','Speed_limit']).sum()\n",
    "severity_speed_limit = np.reshape(df.groupby(['Accident_Severity','Speed_limit']).size().values,(3,7))\n",
    "\n",
    "severity_speed_limit[0]=severity_speed_limit[0]/severity_speed_limit[0].sum()\n",
    "type(severity_speed_limit[0][0])\n",
    "\n",
    "# severity_by_speed = ([(severity_speed_limit[0][:]/severity_speed_limit[0].sum()),\n",
    "#                         (severity_speed_limit[1][:]/severity_speed_limit[1].sum()),\n",
    "#                         (severity_speed_limit[2][:]/severity_speed_limit[2].sum())])\n",
    "# severity_by_speed"
   ]
  },
  {
   "cell_type": "code",
   "execution_count": null,
   "metadata": {},
   "outputs": [],
   "source": [
    "actuals_severity_slimits = np.transpose(np.reshape(df.groupby(['Accident_Severity','Speed_limit']).count()['Accident_Index'].values,(3,7)))\n",
    "actuals_severity_slimits"
   ]
  },
  {
   "cell_type": "code",
   "execution_count": null,
   "metadata": {},
   "outputs": [],
   "source": [
    "sums2 = df.groupby(['Accident_Severity','Speed_limit']).count().groupby('Accident_Severity').sum()['Accident_Index']\n",
    "severity_sums = df.groupby(['Accident_Severity','Speed_limit']).count().groupby('Accident_Severity').sum()['Accident_Index'].values\n",
    "severity_mus = severity_sums/severity_sums.sum()\n",
    "severity_mus"
   ]
  },
  {
   "cell_type": "code",
   "execution_count": null,
   "metadata": {},
   "outputs": [],
   "source": [
    "sums = df.groupby(['Speed_limit']).count()['Accident_Index']\n",
    "slimit_sums = df.groupby(['Speed_limit']).count()['Accident_Index'].values\n",
    "slimit_sums"
   ]
  },
  {
   "cell_type": "code",
   "execution_count": null,
   "metadata": {},
   "outputs": [],
   "source": [
    "# slimit10_expected = np.zeros(3)\n",
    "# for i in np.arange(3):\n",
    "#     expected_by_slimit[i][0] = slimit_sums[0] * severity_mus[i]\n",
    "# slimit20_expected = np.zeros(3)\n",
    "# for i in np.arange(3):\n",
    "#     expected_by_slimit[i][1] = slimit_sums[1] * severity_mus[i]\n",
    "# slimit30_expected = np.zeros(3)\n",
    "# for i in np.arange(3):\n",
    "#     expected_by_slimit[i][2] = slimit_sums[2] * severity_mus[i]\n",
    "# slimit40_expected = np.zeros(3)\n",
    "# for i in np.arange(3):\n",
    "#     expected_by_slimit[i][3] = slimit_sums[3] * severity_mus[i]\n",
    "# slimit50_expected = np.zeros(3)\n",
    "# for i in np.arange(3):\n",
    "#     expected_by_slimit[i][4] = slimit_sums[4] * severity_mus[i]\n",
    "# slimit60_expected = np.zeros(3)\n",
    "# for i in np.arange(3):\n",
    "#     expected_by_slimit[i][5] = slimit_sums[5] * severity_mus[i]\n",
    "# slimit70_expected = np.zeros(3)\n",
    "# for i in np.arange(3):\n",
    "#     expected_by_slimit[i][6] = slimit_sums[6] * severity_mus[i]\n",
    "# slimit70_expected\n",
    "\n",
    "\n",
    "expected_by_slimit = np.zeros((7,3))\n",
    "for i in np.arange(7):\n",
    "    for j in np.arange(3):\n",
    "        expected_by_slimit[i][j] = slimit_sums[i] * severity_mus[j]\n",
    "expected_by_slimit"
   ]
  },
  {
   "cell_type": "code",
   "execution_count": null,
   "metadata": {},
   "outputs": [],
   "source": [
    "#actual number of severity category 1, 2, 3, under speed limits...uh...10,20,30 &c\n",
    "actuals_severity_slimits"
   ]
  },
  {
   "cell_type": "code",
   "execution_count": null,
   "metadata": {},
   "outputs": [],
   "source": [
    "expected_by_slimit = expected_by_slimit.round().astype(int)\n",
    "expected_by_slimit\n",
    "expected_by_slimit.sum(axis=1)"
   ]
  },
  {
   "cell_type": "code",
   "execution_count": null,
   "metadata": {},
   "outputs": [],
   "source": [
    "i = 2\n",
    "print( \"actual\", actuals_severity_slimits[i] )\n",
    "print( \"expected\", expected_by_slimit[i] )\n",
    "print( stats.chisquare( actuals_severity_slimits[i], expected_by_slimit[i] ) )"
   ]
  },
  {
   "cell_type": "code",
   "execution_count": null,
   "metadata": {},
   "outputs": [],
   "source": [
    "pvalues = np.zeros(7)\n",
    "\n",
    "# stats.chisquare(actuals_severity_slimits[0],expected_by_slimit[0])[1]\n",
    "\n",
    "for i in np.arange(7):\n",
    "    pvalues[i] = stats.chisquare(actuals_severity_slimits[i],expected_by_slimit[i])[1]\n",
    "\n",
    "pvalues\n",
    "\n",
    "# stats.chisquare(actuals_severity_slimits[2],expected_by_slimit[2])[1]\n",
    "# actuals_severity_slimits[2]\n",
    "# expected_by_slimit[2]\n"
   ]
  },
  {
   "cell_type": "code",
   "execution_count": null,
   "metadata": {},
   "outputs": [],
   "source": [
    "years = df.groupby(['Year']).count()['Accident_Index']\n",
    "years"
   ]
  },
  {
   "cell_type": "code",
   "execution_count": null,
   "metadata": {},
   "outputs": [],
   "source": [
    "mus = df.groupby(['Accident_Severity','Speed_limit']).count()['Accident_Index']/sums2\n",
    "mus"
   ]
  },
  {
   "cell_type": "code",
   "execution_count": null,
   "metadata": {},
   "outputs": [],
   "source": []
  },
  {
   "cell_type": "code",
   "execution_count": null,
   "metadata": {},
   "outputs": [],
   "source": [
    "df.Speed_limit.value_counts()"
   ]
  },
  {
   "cell_type": "code",
   "execution_count": null,
   "metadata": {},
   "outputs": [],
   "source": [
    "df.Light_Conditions.value_counts()\n",
    "\n",
    "fig, ax = plt.subplots()\n",
    "\n",
    "labels = 'Daylight', 'Dark/Lit', 'Dark', 'Unkown', 'Dark Unlit'\n",
    "\n",
    "ax.pie(df.Light_Conditions.value_counts(), labels=labels)"
   ]
  },
  {
   "cell_type": "code",
   "execution_count": null,
   "metadata": {},
   "outputs": [],
   "source": [
    "df.Road_Surface_Conditions.value_counts()\n",
    "\n",
    "fig, ax = plt.subplots()\n",
    "\n",
    "labels = 'Dry', 'Wet/Damp', 'Frost/Ice', 'Snow', 'Flood'\n",
    "\n",
    "ax.pie(df.Road_Surface_Conditions.value_counts(), labels=labels)"
   ]
  },
  {
   "cell_type": "code",
   "execution_count": null,
   "metadata": {},
   "outputs": [],
   "source": [
    "df.Carriageway_Hazards.value_counts()"
   ]
  },
  {
   "cell_type": "code",
   "execution_count": null,
   "metadata": {},
   "outputs": [],
   "source": [
    "df.Urban_or_Rural_Area.value_counts()\n",
    "\n",
    "fig, ax = plt.subplots(1,2)\n",
    "\n",
    "labels = 'Urban', 'Rural', 'Other'\n",
    "\n",
    "# ax.pie(df.Urban_or_Rural_Area.value_counts(), labels=labels)\n",
    "\n",
    "urban = df[df[\"Urban_or_Rural_Area\"] == 1]\n",
    "rural = df[df[\"Urban_or_Rural_Area\"] == 2]\n",
    "\n",
    "labels = 'Dry', 'Wet/Damp', 'Frost/Ice', 'Snow', 'Flood'\n",
    "\n",
    "ax[0].pie(urban.Road_Surface_Conditions.value_counts(), labels=labels)\n",
    "ax[1].pie(rural.Road_Surface_Conditions.value_counts(), labels=labels)"
   ]
  },
  {
   "cell_type": "code",
   "execution_count": null,
   "metadata": {},
   "outputs": [],
   "source": [
    "df.Special_Conditions_at_Site.value_counts()"
   ]
  },
  {
   "cell_type": "code",
   "execution_count": null,
   "metadata": {},
   "outputs": [],
   "source": []
  },
  {
   "cell_type": "code",
   "execution_count": null,
   "metadata": {},
   "outputs": [],
   "source": []
  },
  {
   "cell_type": "code",
   "execution_count": null,
   "metadata": {},
   "outputs": [],
   "source": [
    "df.Road_Type.value_counts()\n",
    "\n",
    "single= df[df[\"Road_Type\"] == 'Single carriageway']\n",
    "dual= df[df[\"Road_Type\"] == 'Dual carriageway']\n",
    "roundabout= df[df[\"Road_Type\"] == 'Roundabout']\n",
    "one_way= df[df[\"Road_Type\"] == 'One way street']\n",
    "slip= df[df[\"Road_Type\"] == 'Slip road']\n",
    "\n",
    "fig, ax = plt.subplots(2,3,figsize = (18,8))\n",
    "\n",
    "labels = 'Dry', 'Wet/Damp', 'Frost/Ice', 'Snow', 'Flood'\n",
    "\n",
    "ax[0][0].pie(single.Road_Surface_Conditions.value_counts(), labels=labels)\n",
    "ax[0][1].pie(dual.Road_Surface_Conditions.value_counts(), labels=labels)\n",
    "ax[0][2].pie(roundabout.Road_Surface_Conditions.value_counts(), labels=labels)\n",
    "ax[1][0].pie(one_way.Road_Surface_Conditions.value_counts(), labels=labels)\n",
    "ax[1][1].pie(slip.Road_Surface_Conditions.value_counts(), labels=labels)\n",
    "\n",
    "ax[0][0].set_title('Single Carriageway')\n",
    "ax[0][1].set_title('Dual Carriageway')\n",
    "ax[0][2].set_title('Roundabout')\n",
    "ax[1][0].set_title('One way street')\n",
    "ax[1][1].set_title('Slip Road')\n",
    "\n",
    "# Single carriageway    423414\n",
    "# Dual carriageway       87274\n",
    "# Roundabout             36637\n",
    "# One way street         12434\n",
    "# Slip road               5936\n",
    "# Unknown                 4316"
   ]
  },
  {
   "cell_type": "code",
   "execution_count": null,
   "metadata": {
    "scrolled": true
   },
   "outputs": [],
   "source": [
    "limit20= df2[df2[\"Speed_limit\"] == 20]\n",
    "limit30= df2[df2[\"Speed_limit\"] == 30]\n",
    "limit40= df2[df2[\"Speed_limit\"] == 40]\n",
    "limit50= df2[df2[\"Speed_limit\"] == 50]\n",
    "limit60= df2[df2[\"Speed_limit\"] == 60]\n",
    "limit70= df2[df2[\"Speed_limit\"] == 70]\n",
    "count = {20:0,30:0,40:0,50:0,60:0,70:0}\n",
    "\n",
    "for key, value in count.items():\n",
    "    count[key] = len(df2[df2[\"Speed_limit\"] == key].index)\n",
    "    \n",
    "\n",
    "slimit20= df[df[\"Speed_limit\"] == 20]\n",
    "slimit30= df[df[\"Speed_limit\"] == 30]\n",
    "slimit40= df[df[\"Speed_limit\"] == 40]\n",
    "slimit50= df[df[\"Speed_limit\"] == 50]\n",
    "slimit60= df[df[\"Speed_limit\"] == 60]\n",
    "slimit70= df[df[\"Speed_limit\"] == 70]\n",
    "counts = {20:0,30:0,40:0,50:0,60:0,70:0}\n",
    "\n",
    "for key, value in counts.items():\n",
    "    counts[key] = len(df[df[\"Speed_limit\"] == key].index)\n",
    "    \n",
    "sslimit20= df3[df3[\"Speed_limit\"] == 20]\n",
    "sslimit30= df3[df3[\"Speed_limit\"] == 30]\n",
    "sslimit40= df3[df3[\"Speed_limit\"] == 40]\n",
    "sslimit50= df3[df3[\"Speed_limit\"] == 50]\n",
    "sslimit60= df3[df3[\"Speed_limit\"] == 60]\n",
    "sslimit70= df3[df3[\"Speed_limit\"] == 70]\n",
    "countss = {20:0,30:0,40:0,50:0,60:0,70:0}\n",
    "\n",
    "for key, value in countss.items():\n",
    "    countss[key] = len(df[df[\"Speed_limit\"] == key].index)\n",
    "\n",
    "fig, ax = plt.subplots(6,3,figsize = (18,24))\n",
    "\n",
    "labels = 'Dry', 'Wet/Damp', 'Frost/Ice', 'Snow', 'Flood'\n",
    "\n",
    "ax[0][0].pie(limit20.Road_Surface_Conditions.value_counts(), labels=labels)\n",
    "ax[0][1].pie(limit30.Road_Surface_Conditions.value_counts(), labels=labels)\n",
    "ax[0][2].pie(limit40.Road_Surface_Conditions.value_counts(), labels=labels)\n",
    "ax[3][0].pie(limit50.Road_Surface_Conditions.value_counts(), labels=labels)\n",
    "ax[3][1].pie(limit60.Road_Surface_Conditions.value_counts(), labels=labels)\n",
    "ax[3][2].pie(limit70.Road_Surface_Conditions.value_counts(), labels=labels)\n",
    "\n",
    "ax[0][0].set_title(f'Speed 20, n = {count[20]}')\n",
    "ax[0][1].set_title(f'Speed 30, n = {count[30]}')\n",
    "ax[0][2].set_title(f'Speed 40, n = {count[40]}')\n",
    "ax[3][0].set_title(f'Speed 50, n = {count[50]}')\n",
    "ax[3][1].set_title(f'Speed 60, n = {count[60]}')\n",
    "ax[3][2].set_title(f'Speed 70, n = {count[70]}')\n",
    "\n",
    "ax[1][0].pie(slimit20.Road_Surface_Conditions.value_counts(), labels=labels)\n",
    "ax[1][1].pie(slimit30.Road_Surface_Conditions.value_counts(), labels=labels)\n",
    "ax[1][2].pie(slimit40.Road_Surface_Conditions.value_counts(), labels=labels)\n",
    "ax[4][0].pie(slimit50.Road_Surface_Conditions.value_counts(), labels=labels)\n",
    "ax[4][1].pie(slimit60.Road_Surface_Conditions.value_counts(), labels=labels)\n",
    "ax[4][2].pie(slimit70.Road_Surface_Conditions.value_counts(), labels=labels)\n",
    "\n",
    "ax[1][0].set_title(f'Speed 20, n = {counts[20]}')\n",
    "ax[1][1].set_title(f'Speed 30, n = {counts[30]}')\n",
    "ax[1][2].set_title(f'Speed 40, n = {counts[40]}')\n",
    "ax[4][0].set_title(f'Speed 50, n = {counts[50]}')\n",
    "ax[4][1].set_title(f'Speed 60, n = {counts[60]}')\n",
    "ax[4][2].set_title(f'Speed 70, n = {counts[70]}')\n",
    "\n",
    "ax[2][0].pie(sslimit20.Road_Surface_Conditions.value_counts(), labels=labels)\n",
    "ax[2][1].pie(sslimit30.Road_Surface_Conditions.value_counts(), labels=labels)\n",
    "ax[2][2].pie(sslimit40.Road_Surface_Conditions.value_counts(), labels=labels)\n",
    "ax[5][0].pie(sslimit50.Road_Surface_Conditions.value_counts(), labels=labels)\n",
    "ax[5][1].pie(sslimit60.Road_Surface_Conditions.value_counts(), labels=labels)\n",
    "ax[5][2].pie(sslimit70.Road_Surface_Conditions.value_counts(), labels=labels)\n",
    "\n",
    "ax[2][0].set_title(f'Speed 20, n = {countss[20]}')\n",
    "ax[2][1].set_title(f'Speed 30, n = {countss[30]}')\n",
    "ax[2][2].set_title(f'Speed 40, n = {countss[40]}')\n",
    "ax[5][0].set_title(f'Speed 50, n = {countss[50]}')\n",
    "ax[5][1].set_title(f'Speed 60, n = {countss[60]}')\n",
    "ax[5][2].set_title(f'Speed 70, n = {countss[70]}')\n"
   ]
  },
  {
   "cell_type": "code",
   "execution_count": null,
   "metadata": {},
   "outputs": [],
   "source": [
    "slimit20= df[df[\"Speed_limit\"] == 20]\n",
    "slimit30= df[df[\"Speed_limit\"] == 30]\n",
    "slimit40= df[df[\"Speed_limit\"] == 40]\n",
    "slimit50= df[df[\"Speed_limit\"] == 50]\n",
    "slimit60= df[df[\"Speed_limit\"] == 60]\n",
    "slimit70= df[df[\"Speed_limit\"] == 70]\n",
    "\n",
    "slimit_severities = np.vstack(((slimit20.Accident_Severity.value_counts(),\n",
    "                              slimit30.Accident_Severity.value_counts(),\n",
    "                              slimit40.Accident_Severity.value_counts(),\n",
    "                              slimit50.Accident_Severity.value_counts(),\n",
    "                              slimit60.Accident_Severity.value_counts(),\n",
    "                              slimit70.Accident_Severity.value_counts(),)))\n",
    "\n",
    "slimit_severities = slimit_severities / slimit_severities.sum(axis=1).reshape((6,-1))\n",
    "slimit_severities\n",
    "\n",
    "fig, ax = plt.subplots()\n",
    "ax.bar(range(len(slimit_severities)), slimit_severities[:,0])\n",
    "ax.bar(range(len(slimit_severities)), slimit_severities[:,1], bottom=slimit_severities[:,0])\n",
    "ax.bar(range(len(slimit_severities)), slimit_severities[:,2], bottom=slimit_severities[:,0] + slimit_severities[:,1])\n",
    "\n",
    "ax.set_xticks(np.arange(0,6))                                                                                                                \n",
    "ax.set_xticklabels(np.arange(2,8)*10)\n"
   ]
  },
  {
   "cell_type": "code",
   "execution_count": null,
   "metadata": {},
   "outputs": [],
   "source": [
    "df.groupby(['Accident_Severity','Speed_limit']).size()"
   ]
  },
  {
   "cell_type": "code",
   "execution_count": null,
   "metadata": {},
   "outputs": [],
   "source": [
    "traffic.head()"
   ]
  },
  {
   "cell_type": "code",
   "execution_count": null,
   "metadata": {},
   "outputs": [],
   "source": [
    "traffic.Road.value_counts()"
   ]
  },
  {
   "cell_type": "code",
   "execution_count": null,
   "metadata": {},
   "outputs": [],
   "source": [
    "traffic.Northing.value_counts()"
   ]
  },
  {
   "cell_type": "code",
   "execution_count": null,
   "metadata": {},
   "outputs": [],
   "source": [
    "traffic.Estimation_method_detailed.value_counts()"
   ]
  },
  {
   "cell_type": "code",
   "execution_count": null,
   "metadata": {},
   "outputs": [],
   "source": []
  },
  {
   "cell_type": "code",
   "execution_count": null,
   "metadata": {},
   "outputs": [],
   "source": []
  },
  {
   "cell_type": "code",
   "execution_count": null,
   "metadata": {},
   "outputs": [],
   "source": [
    "x = np.arange(4).reshape((2,2))\n",
    "x"
   ]
  },
  {
   "cell_type": "code",
   "execution_count": null,
   "metadata": {},
   "outputs": [],
   "source": [
    "np.transpose(x)"
   ]
  },
  {
   "cell_type": "code",
   "execution_count": null,
   "metadata": {},
   "outputs": [],
   "source": [
    "x"
   ]
  },
  {
   "cell_type": "code",
   "execution_count": null,
   "metadata": {},
   "outputs": [],
   "source": [
    "traffic.columns"
   ]
  },
  {
   "cell_type": "code",
   "execution_count": null,
   "metadata": {},
   "outputs": [],
   "source": [
    "traffic['StartJunction'].value_counts()"
   ]
  },
  {
   "cell_type": "code",
   "execution_count": null,
   "metadata": {},
   "outputs": [],
   "source": [
    "traffic_locations = traffic[['Lat','Lon']]\n",
    "traffic_locations.head()"
   ]
  },
  {
   "cell_type": "code",
   "execution_count": null,
   "metadata": {},
   "outputs": [],
   "source": [
    "df1_locations = df1[['Latitude','Longitude']]\n",
    "df1_locations.head()"
   ]
  },
  {
   "cell_type": "code",
   "execution_count": null,
   "metadata": {},
   "outputs": [],
   "source": [
    "df_locations = df[['Latitude', 'Longitude']]"
   ]
  },
  {
   "cell_type": "code",
   "execution_count": null,
   "metadata": {},
   "outputs": [],
   "source": [
    "df[['Accident_Index','Date','LSOA_of_Accident_Location','Time','Longitude','Latitude']].head()"
   ]
  },
  {
   "cell_type": "code",
   "execution_count": null,
   "metadata": {},
   "outputs": [],
   "source": [
    "df['Road_Type'].value_counts()\n"
   ]
  },
  {
   "cell_type": "code",
   "execution_count": null,
   "metadata": {},
   "outputs": [],
   "source": [
    "# df1['1st_Road_Class'].value_counts()\n",
    "# df1['1st_Road_Number'].value_counts()\n",
    "# df1['Road_Type'].value_counts()\n",
    "# df1['Speed_limit'].value_counts()\n",
    "# df1['Junction_Detail'].value_counts()\n",
    "# df1['Junction_Control'].value_counts()\n",
    "# df1['2nd_Road_Class'].value_counts()\n",
    "df1['2nd_Road_Number'].value_counts()"
   ]
  },
  {
   "cell_type": "code",
   "execution_count": null,
   "metadata": {},
   "outputs": [],
   "source": [
    "len_df1 = len(df1)"
   ]
  },
  {
   "cell_type": "code",
   "execution_count": null,
   "metadata": {},
   "outputs": [],
   "source": [
    "# from scipy.spatial import distance_matrix\n",
    "\n",
    "# distances = distance_matrix(df1_locations, traffic_locations)"
   ]
  },
  {
   "cell_type": "code",
   "execution_count": null,
   "metadata": {},
   "outputs": [],
   "source": [
    "#P_df.to_pickle(\\\"data/P_df.pkl\\\")"
   ]
  },
  {
   "cell_type": "code",
   "execution_count": null,
   "metadata": {},
   "outputs": [],
   "source": [
    "def euclidean(first, second):\n",
    "    return np.sqrt(((first - second)**2).sum())"
   ]
  },
  {
   "cell_type": "code",
   "execution_count": null,
   "metadata": {},
   "outputs": [],
   "source": [
    "one = df1_locations.loc[0].values"
   ]
  },
  {
   "cell_type": "code",
   "execution_count": null,
   "metadata": {},
   "outputs": [],
   "source": [
    "two = traffic_locations.loc[0].values"
   ]
  },
  {
   "cell_type": "code",
   "execution_count": null,
   "metadata": {},
   "outputs": [],
   "source": [
    "traffic.columns"
   ]
  },
  {
   "cell_type": "code",
   "execution_count": null,
   "metadata": {},
   "outputs": [],
   "source": [
    "'''This section is to be run only once, thereafter use the second snippet to load the data'''\n",
    "\n",
    "def connectTrafficData(accData, trafData):\n",
    "    ''' \n",
    "    Parameters:\n",
    "        accData: Pandas dataframe of the accident data\n",
    "        trafData: Pandas dataframe of traffic data\n",
    "\n",
    "    In-place attaches traffic data to accData as 'Traffic' column\n",
    "    '''\n",
    "    #Haversine distance finds the actual distance between two points given their latitude and longitude\n",
    "    #Accuracy for Haversine formula is within 1%, doesn't account for ellipsoidal shape of the earth. \n",
    "    from sklearn.metrics.pairwise import haversine_distances\n",
    "\n",
    "    accLocs = accData[['Latitude', 'Longitude']].values\n",
    "    trafLocs = trafData[['Lat','Lon']].values\n",
    "\n",
    "    closest = np.ones((len(accData),2)) * 10\n",
    "\n",
    "    for i, acc in enumerate(accLocs):\n",
    "        distances = haversine_distances(acc.reshape((1,-1)),trafLocs)\n",
    "        closest[i,0] = distances.min()\n",
    "        CPindex = distances.argsort()\n",
    "        closest[i,1] = accData.loc[CPindex].CP\n",
    "    return closest\n",
    "\n",
    "closest = connectTrafficData(df1.loc[:500],traffic[traffic['AADFYear'] == 2005])\n",
    "\n",
    "\n",
    "\n",
    "# np.save('/Users/mac/galvanize/week4/ukAccidentAnalysis/distance_matrix',closest)\n",
    "\n",
    "'''This section can be run if the above code has ran on your computer'''\n",
    "# closest = np.load('/Users/mac/galvanize/week4/ukAccidentAnalysis/distance_matrix.npy')\n",
    "# df1_closest = closest[:len_df1,1]\n",
    "# df1['Traffic'] = traffic.loc[df1_closest.astype(int)].AllMotorVehicles.values"
   ]
  },
  {
   "cell_type": "code",
   "execution_count": null,
   "metadata": {},
   "outputs": [],
   "source": [
    "first_traf = traffic[['Lat','Lon']].loc[0].values\n",
    "\n",
    "all_acc = df1[['Latitude','Longitude']].values\n",
    "\n",
    "haversine_distances(first_traf.reshape((1,-1)),all_acc)[:,29008]"
   ]
  },
  {
   "cell_type": "code",
   "execution_count": null,
   "metadata": {
    "scrolled": true
   },
   "outputs": [],
   "source": [
    "df1.loc[29008]"
   ]
  },
  {
   "cell_type": "code",
   "execution_count": null,
   "metadata": {},
   "outputs": [],
   "source": [
    "test_distances = distance.cdist(df1_locations.values[0].reshape((1,-1)), traffic_locations, 'euclidean')"
   ]
  },
  {
   "cell_type": "code",
   "execution_count": null,
   "metadata": {},
   "outputs": [],
   "source": [
    "test_distances.min()\n",
    "test_distances.argmin()"
   ]
  },
  {
   "cell_type": "code",
   "execution_count": null,
   "metadata": {},
   "outputs": [],
   "source": [
    "df.shape"
   ]
  },
  {
   "cell_type": "code",
   "execution_count": null,
   "metadata": {},
   "outputs": [],
   "source": []
  },
  {
   "cell_type": "code",
   "execution_count": null,
   "metadata": {},
   "outputs": [],
   "source": [
    "closest = np.load('/Users/mac/galvanize/week4/ukAccidentAnalysis/distance_matrix.npy')"
   ]
  },
  {
   "cell_type": "code",
   "execution_count": null,
   "metadata": {},
   "outputs": [],
   "source": [
    "pwd"
   ]
  },
  {
   "cell_type": "code",
   "execution_count": null,
   "metadata": {},
   "outputs": [],
   "source": [
    "df1_closest = closest[:len_df1,1]"
   ]
  },
  {
   "cell_type": "code",
   "execution_count": null,
   "metadata": {},
   "outputs": [],
   "source": [
    "traffic.loc[df1_closest.astype(int)].AllMotorVehicles.values"
   ]
  },
  {
   "cell_type": "code",
   "execution_count": null,
   "metadata": {},
   "outputs": [],
   "source": [
    "df1_closest.astype(int)"
   ]
  },
  {
   "cell_type": "code",
   "execution_count": null,
   "metadata": {},
   "outputs": [],
   "source": [
    "df1['Traffic'] = traffic.loc[df1_closest.astype(int)].AllMotorVehicles.values"
   ]
  },
  {
   "cell_type": "code",
   "execution_count": null,
   "metadata": {},
   "outputs": [],
   "source": [
    "df1['CP'] = traffic.loc[df1_closest.astype(int)].CP.values"
   ]
  },
  {
   "cell_type": "code",
   "execution_count": null,
   "metadata": {},
   "outputs": [],
   "source": [
    "traffic_casualties = df1.groupby(['CP'])['Number_of_Casualties'].sum().values\n",
    "traffic_traffics = df1.groupby('CP')['Traffic'].mean().values"
   ]
  },
  {
   "cell_type": "code",
   "execution_count": null,
   "metadata": {},
   "outputs": [],
   "source": [
    "CarsPerCasualty = traffic_traffics / traffic_casualties"
   ]
  },
  {
   "cell_type": "code",
   "execution_count": null,
   "metadata": {},
   "outputs": [],
   "source": []
  },
  {
   "cell_type": "code",
   "execution_count": null,
   "metadata": {},
   "outputs": [],
   "source": [
    "traffic_casualties.shape\n",
    "traffic_traffics.shape\n",
    "CarsPerCasualty.shape"
   ]
  },
  {
   "cell_type": "code",
   "execution_count": null,
   "metadata": {},
   "outputs": [],
   "source": [
    "traffic_casualtiesDF = pd.DataFrame({'CP': np.unique(df1['CP'].values), 'Number_of_Casualties': traffic_casualties, 'Traffic': traffic_traffics, 'AADFPerCasualty': CarsPerCasualty})"
   ]
  },
  {
   "cell_type": "code",
   "execution_count": null,
   "metadata": {},
   "outputs": [],
   "source": [
    "traffic_casualtiesDF[traffic_casualtiesDF['AADFPerCasualty'] == 0]"
   ]
  },
  {
   "cell_type": "code",
   "execution_count": null,
   "metadata": {},
   "outputs": [],
   "source": [
    "nonzerotraffic_casulatiesDF = traffic_casualtiesDF[traffic_casualtiesDF['CP'] != 80206]"
   ]
  },
  {
   "cell_type": "code",
   "execution_count": null,
   "metadata": {},
   "outputs": [],
   "source": [
    "nonzerotraffic_casulatiesDF['AADFPerCasualty'].argmin()"
   ]
  },
  {
   "cell_type": "code",
   "execution_count": null,
   "metadata": {},
   "outputs": [],
   "source": [
    "nonzerotraffic_casulatiesDF.loc[5838]"
   ]
  },
  {
   "cell_type": "code",
   "execution_count": null,
   "metadata": {
    "scrolled": true
   },
   "outputs": [],
   "source": [
    "traffic[traffic['CP'] == 30980]"
   ]
  },
  {
   "cell_type": "code",
   "execution_count": null,
   "metadata": {},
   "outputs": [],
   "source": [
    "df1[df1['CP'] == 30980]"
   ]
  },
  {
   "cell_type": "code",
   "execution_count": null,
   "metadata": {},
   "outputs": [],
   "source": [
    "closest2007 = f.connectTrafficData(df1[df1['Year'] == 2007], traffic[traffic['AADFYear'] == 2007])"
   ]
  },
  {
   "cell_type": "code",
   "execution_count": null,
   "metadata": {},
   "outputs": [],
   "source": [
    "curAccs = df1[df1['Year'] == 2007]\n",
    "curTraf = traffic[traffic['AADFYear'] == 2007]\n",
    "curAccLocs = curAccs[['Latitude', 'Longitude']].values\n",
    "curTrafLocs = curTraf[['Lat', 'Lon']].values"
   ]
  },
  {
   "cell_type": "code",
   "execution_count": null,
   "metadata": {},
   "outputs": [],
   "source": [
    "distance = haversine_distances(curAccLocs[0].reshape((1,-1)),curTrafLocs)\n",
    "closest = distance.min()\n",
    "print(closest)\n",
    "closestIdx= distance.argmin()\n",
    "print(closestIdx)\n",
    "closestCP = curTraf.loc[closestIdx].CP\n",
    "print(closestCP)"
   ]
  },
  {
   "cell_type": "code",
   "execution_count": null,
   "metadata": {},
   "outputs": [],
   "source": [
    "curTraf.iloc[12965]"
   ]
  },
  {
   "cell_type": "code",
   "execution_count": 3,
   "metadata": {},
   "outputs": [],
   "source": [
    "subset = df1[df1['Number_of_Casualties'] == 4]"
   ]
  },
  {
   "cell_type": "code",
   "execution_count": 4,
   "metadata": {},
   "outputs": [
    {
     "name": "stderr",
     "output_type": "stream",
     "text": [
      "/anaconda3/lib/python3.7/site-packages/numpy/core/_methods.py:32: RuntimeWarning: invalid value encountered in reduce\n",
      "  return umr_minimum(a, axis, None, out, keepdims, initial)\n"
     ]
    }
   ],
   "source": [
    "closest_subset = f.connectTrafficData(subset, traffic)"
   ]
  },
  {
   "cell_type": "code",
   "execution_count": 6,
   "metadata": {},
   "outputs": [
    {
     "data": {
      "text/plain": [
       "80511.0"
      ]
     },
     "execution_count": 6,
     "metadata": {},
     "output_type": "execute_result"
    }
   ],
   "source": [
    "closest_subset[-1,1]"
   ]
  },
  {
   "cell_type": "code",
   "execution_count": null,
   "metadata": {},
   "outputs": [],
   "source": [
    "(subset['Year'] == 2005).sum()"
   ]
  },
  {
   "cell_type": "code",
   "execution_count": null,
   "metadata": {},
   "outputs": [],
   "source": [
    "closest_subset.shape"
   ]
  },
  {
   "cell_type": "code",
   "execution_count": null,
   "metadata": {},
   "outputs": [],
   "source": [
    "3356+6362"
   ]
  },
  {
   "cell_type": "code",
   "execution_count": 16,
   "metadata": {},
   "outputs": [
    {
     "data": {
      "text/plain": [
       "array([34911])"
      ]
     },
     "execution_count": 16,
     "metadata": {},
     "output_type": "execute_result"
    }
   ],
   "source": [
    "traffic[(traffic['CP'] == closest_subset[-1,1]) & (traffic['AADFYear'] == 2007)].AllMotorVehicles.values"
   ]
  },
  {
   "cell_type": "code",
   "execution_count": null,
   "metadata": {},
   "outputs": [],
   "source": []
  }
 ],
 "metadata": {
  "kernelspec": {
   "display_name": "Python 3",
   "language": "python",
   "name": "python3"
  },
  "language_info": {
   "codemirror_mode": {
    "name": "ipython",
    "version": 3
   },
   "file_extension": ".py",
   "mimetype": "text/x-python",
   "name": "python",
   "nbconvert_exporter": "python",
   "pygments_lexer": "ipython3",
   "version": "3.7.1"
  }
 },
 "nbformat": 4,
 "nbformat_minor": 2
}
